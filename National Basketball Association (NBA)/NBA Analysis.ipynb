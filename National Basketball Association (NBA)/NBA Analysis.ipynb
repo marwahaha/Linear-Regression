{
 "cells": [
  {
   "cell_type": "code",
   "execution_count": 1,
   "metadata": {
    "collapsed": true
   },
   "outputs": [],
   "source": [
    "import pandas as pd"
   ]
  },
  {
   "cell_type": "code",
   "execution_count": 2,
   "metadata": {
    "collapsed": true
   },
   "outputs": [],
   "source": [
    "nba = pd.read_csv('NBA_train.csv')"
   ]
  },
  {
   "cell_type": "code",
   "execution_count": 3,
   "metadata": {},
   "outputs": [
    {
     "data": {
      "text/html": [
       "<div>\n",
       "<style>\n",
       "    .dataframe thead tr:only-child th {\n",
       "        text-align: right;\n",
       "    }\n",
       "\n",
       "    .dataframe thead th {\n",
       "        text-align: left;\n",
       "    }\n",
       "\n",
       "    .dataframe tbody tr th {\n",
       "        vertical-align: top;\n",
       "    }\n",
       "</style>\n",
       "<table border=\"1\" class=\"dataframe\">\n",
       "  <thead>\n",
       "    <tr style=\"text-align: right;\">\n",
       "      <th></th>\n",
       "      <th>SeasonEnd</th>\n",
       "      <th>Team</th>\n",
       "      <th>Playoffs</th>\n",
       "      <th>W</th>\n",
       "      <th>PTS</th>\n",
       "      <th>oppPTS</th>\n",
       "      <th>FG</th>\n",
       "      <th>FGA</th>\n",
       "      <th>2P</th>\n",
       "      <th>2PA</th>\n",
       "      <th>3P</th>\n",
       "      <th>3PA</th>\n",
       "      <th>FT</th>\n",
       "      <th>FTA</th>\n",
       "      <th>ORB</th>\n",
       "      <th>DRB</th>\n",
       "      <th>AST</th>\n",
       "      <th>STL</th>\n",
       "      <th>BLK</th>\n",
       "      <th>TOV</th>\n",
       "    </tr>\n",
       "  </thead>\n",
       "  <tbody>\n",
       "    <tr>\n",
       "      <th>0</th>\n",
       "      <td>1980</td>\n",
       "      <td>Atlanta Hawks</td>\n",
       "      <td>1</td>\n",
       "      <td>50</td>\n",
       "      <td>8573</td>\n",
       "      <td>8334</td>\n",
       "      <td>3261</td>\n",
       "      <td>7027</td>\n",
       "      <td>3248</td>\n",
       "      <td>6952</td>\n",
       "      <td>13</td>\n",
       "      <td>75</td>\n",
       "      <td>2038</td>\n",
       "      <td>2645</td>\n",
       "      <td>1369</td>\n",
       "      <td>2406</td>\n",
       "      <td>1913</td>\n",
       "      <td>782</td>\n",
       "      <td>539</td>\n",
       "      <td>1495</td>\n",
       "    </tr>\n",
       "    <tr>\n",
       "      <th>1</th>\n",
       "      <td>1980</td>\n",
       "      <td>Boston Celtics</td>\n",
       "      <td>1</td>\n",
       "      <td>61</td>\n",
       "      <td>9303</td>\n",
       "      <td>8664</td>\n",
       "      <td>3617</td>\n",
       "      <td>7387</td>\n",
       "      <td>3455</td>\n",
       "      <td>6965</td>\n",
       "      <td>162</td>\n",
       "      <td>422</td>\n",
       "      <td>1907</td>\n",
       "      <td>2449</td>\n",
       "      <td>1227</td>\n",
       "      <td>2457</td>\n",
       "      <td>2198</td>\n",
       "      <td>809</td>\n",
       "      <td>308</td>\n",
       "      <td>1539</td>\n",
       "    </tr>\n",
       "    <tr>\n",
       "      <th>2</th>\n",
       "      <td>1980</td>\n",
       "      <td>Chicago Bulls</td>\n",
       "      <td>0</td>\n",
       "      <td>30</td>\n",
       "      <td>8813</td>\n",
       "      <td>9035</td>\n",
       "      <td>3362</td>\n",
       "      <td>6943</td>\n",
       "      <td>3292</td>\n",
       "      <td>6668</td>\n",
       "      <td>70</td>\n",
       "      <td>275</td>\n",
       "      <td>2019</td>\n",
       "      <td>2592</td>\n",
       "      <td>1115</td>\n",
       "      <td>2465</td>\n",
       "      <td>2152</td>\n",
       "      <td>704</td>\n",
       "      <td>392</td>\n",
       "      <td>1684</td>\n",
       "    </tr>\n",
       "    <tr>\n",
       "      <th>3</th>\n",
       "      <td>1980</td>\n",
       "      <td>Cleveland Cavaliers</td>\n",
       "      <td>0</td>\n",
       "      <td>37</td>\n",
       "      <td>9360</td>\n",
       "      <td>9332</td>\n",
       "      <td>3811</td>\n",
       "      <td>8041</td>\n",
       "      <td>3775</td>\n",
       "      <td>7854</td>\n",
       "      <td>36</td>\n",
       "      <td>187</td>\n",
       "      <td>1702</td>\n",
       "      <td>2205</td>\n",
       "      <td>1307</td>\n",
       "      <td>2381</td>\n",
       "      <td>2108</td>\n",
       "      <td>764</td>\n",
       "      <td>342</td>\n",
       "      <td>1370</td>\n",
       "    </tr>\n",
       "    <tr>\n",
       "      <th>4</th>\n",
       "      <td>1980</td>\n",
       "      <td>Denver Nuggets</td>\n",
       "      <td>0</td>\n",
       "      <td>30</td>\n",
       "      <td>8878</td>\n",
       "      <td>9240</td>\n",
       "      <td>3462</td>\n",
       "      <td>7470</td>\n",
       "      <td>3379</td>\n",
       "      <td>7215</td>\n",
       "      <td>83</td>\n",
       "      <td>255</td>\n",
       "      <td>1871</td>\n",
       "      <td>2539</td>\n",
       "      <td>1311</td>\n",
       "      <td>2524</td>\n",
       "      <td>2079</td>\n",
       "      <td>746</td>\n",
       "      <td>404</td>\n",
       "      <td>1533</td>\n",
       "    </tr>\n",
       "  </tbody>\n",
       "</table>\n",
       "</div>"
      ],
      "text/plain": [
       "   SeasonEnd                 Team  Playoffs   W   PTS  oppPTS    FG   FGA  \\\n",
       "0       1980        Atlanta Hawks         1  50  8573    8334  3261  7027   \n",
       "1       1980       Boston Celtics         1  61  9303    8664  3617  7387   \n",
       "2       1980        Chicago Bulls         0  30  8813    9035  3362  6943   \n",
       "3       1980  Cleveland Cavaliers         0  37  9360    9332  3811  8041   \n",
       "4       1980       Denver Nuggets         0  30  8878    9240  3462  7470   \n",
       "\n",
       "     2P   2PA   3P  3PA    FT   FTA   ORB   DRB   AST  STL  BLK   TOV  \n",
       "0  3248  6952   13   75  2038  2645  1369  2406  1913  782  539  1495  \n",
       "1  3455  6965  162  422  1907  2449  1227  2457  2198  809  308  1539  \n",
       "2  3292  6668   70  275  2019  2592  1115  2465  2152  704  392  1684  \n",
       "3  3775  7854   36  187  1702  2205  1307  2381  2108  764  342  1370  \n",
       "4  3379  7215   83  255  1871  2539  1311  2524  2079  746  404  1533  "
      ]
     },
     "execution_count": 3,
     "metadata": {},
     "output_type": "execute_result"
    }
   ],
   "source": [
    "nba.head()"
   ]
  },
  {
   "cell_type": "markdown",
   "metadata": {},
   "source": [
    "- W - Wins\n",
    "- PTS - Points\n",
    "- oppPTS - Opponent's Points\n",
    "- ORB - Offensive Rebounds\n",
    "- DRB - Defensive Rebounds\n",
    "- AST - Assists\n",
    "- STL - Steals\n",
    "- BLK - Blocks\n",
    "- TOV - TurnOvers\n",
    "- There are some more variables with similar names such as FG, FGA (includes attempts)\n",
    "- FG - Field Goals\n",
    "- FGA - Field Goal Attempted\n",
    "- 2P - 2 Pointers\n",
    "- 2PA - 2 Pointer Attempted\n",
    "- 3P - 3 Pointers\n",
    "- 3PA - 3 Pointers Attempted\n",
    "- FT - Free Throws\n",
    "- FTA - Free Throws Attempted"
   ]
  },
  {
   "cell_type": "code",
   "execution_count": 4,
   "metadata": {},
   "outputs": [
    {
     "data": {
      "text/html": [
       "<div>\n",
       "<style>\n",
       "    .dataframe thead tr:only-child th {\n",
       "        text-align: right;\n",
       "    }\n",
       "\n",
       "    .dataframe thead th {\n",
       "        text-align: left;\n",
       "    }\n",
       "\n",
       "    .dataframe tbody tr th {\n",
       "        vertical-align: top;\n",
       "    }\n",
       "</style>\n",
       "<table border=\"1\" class=\"dataframe\">\n",
       "  <thead>\n",
       "    <tr style=\"text-align: right;\">\n",
       "      <th>Playoffs</th>\n",
       "      <th>0</th>\n",
       "      <th>1</th>\n",
       "      <th>All</th>\n",
       "    </tr>\n",
       "    <tr>\n",
       "      <th>W</th>\n",
       "      <th></th>\n",
       "      <th></th>\n",
       "      <th></th>\n",
       "    </tr>\n",
       "  </thead>\n",
       "  <tbody>\n",
       "    <tr>\n",
       "      <th>11</th>\n",
       "      <td>2</td>\n",
       "      <td>0</td>\n",
       "      <td>2</td>\n",
       "    </tr>\n",
       "    <tr>\n",
       "      <th>12</th>\n",
       "      <td>2</td>\n",
       "      <td>0</td>\n",
       "      <td>2</td>\n",
       "    </tr>\n",
       "    <tr>\n",
       "      <th>13</th>\n",
       "      <td>2</td>\n",
       "      <td>0</td>\n",
       "      <td>2</td>\n",
       "    </tr>\n",
       "    <tr>\n",
       "      <th>14</th>\n",
       "      <td>2</td>\n",
       "      <td>0</td>\n",
       "      <td>2</td>\n",
       "    </tr>\n",
       "    <tr>\n",
       "      <th>15</th>\n",
       "      <td>10</td>\n",
       "      <td>0</td>\n",
       "      <td>10</td>\n",
       "    </tr>\n",
       "    <tr>\n",
       "      <th>16</th>\n",
       "      <td>2</td>\n",
       "      <td>0</td>\n",
       "      <td>2</td>\n",
       "    </tr>\n",
       "    <tr>\n",
       "      <th>17</th>\n",
       "      <td>11</td>\n",
       "      <td>0</td>\n",
       "      <td>11</td>\n",
       "    </tr>\n",
       "    <tr>\n",
       "      <th>18</th>\n",
       "      <td>5</td>\n",
       "      <td>0</td>\n",
       "      <td>5</td>\n",
       "    </tr>\n",
       "    <tr>\n",
       "      <th>19</th>\n",
       "      <td>10</td>\n",
       "      <td>0</td>\n",
       "      <td>10</td>\n",
       "    </tr>\n",
       "    <tr>\n",
       "      <th>20</th>\n",
       "      <td>10</td>\n",
       "      <td>0</td>\n",
       "      <td>10</td>\n",
       "    </tr>\n",
       "    <tr>\n",
       "      <th>21</th>\n",
       "      <td>12</td>\n",
       "      <td>0</td>\n",
       "      <td>12</td>\n",
       "    </tr>\n",
       "    <tr>\n",
       "      <th>22</th>\n",
       "      <td>11</td>\n",
       "      <td>0</td>\n",
       "      <td>11</td>\n",
       "    </tr>\n",
       "    <tr>\n",
       "      <th>23</th>\n",
       "      <td>11</td>\n",
       "      <td>0</td>\n",
       "      <td>11</td>\n",
       "    </tr>\n",
       "    <tr>\n",
       "      <th>24</th>\n",
       "      <td>18</td>\n",
       "      <td>0</td>\n",
       "      <td>18</td>\n",
       "    </tr>\n",
       "    <tr>\n",
       "      <th>25</th>\n",
       "      <td>11</td>\n",
       "      <td>0</td>\n",
       "      <td>11</td>\n",
       "    </tr>\n",
       "    <tr>\n",
       "      <th>26</th>\n",
       "      <td>17</td>\n",
       "      <td>0</td>\n",
       "      <td>17</td>\n",
       "    </tr>\n",
       "    <tr>\n",
       "      <th>27</th>\n",
       "      <td>10</td>\n",
       "      <td>0</td>\n",
       "      <td>10</td>\n",
       "    </tr>\n",
       "    <tr>\n",
       "      <th>28</th>\n",
       "      <td>18</td>\n",
       "      <td>0</td>\n",
       "      <td>18</td>\n",
       "    </tr>\n",
       "    <tr>\n",
       "      <th>29</th>\n",
       "      <td>12</td>\n",
       "      <td>0</td>\n",
       "      <td>12</td>\n",
       "    </tr>\n",
       "    <tr>\n",
       "      <th>30</th>\n",
       "      <td>19</td>\n",
       "      <td>1</td>\n",
       "      <td>20</td>\n",
       "    </tr>\n",
       "    <tr>\n",
       "      <th>31</th>\n",
       "      <td>15</td>\n",
       "      <td>1</td>\n",
       "      <td>16</td>\n",
       "    </tr>\n",
       "    <tr>\n",
       "      <th>32</th>\n",
       "      <td>12</td>\n",
       "      <td>0</td>\n",
       "      <td>12</td>\n",
       "    </tr>\n",
       "    <tr>\n",
       "      <th>33</th>\n",
       "      <td>17</td>\n",
       "      <td>0</td>\n",
       "      <td>17</td>\n",
       "    </tr>\n",
       "    <tr>\n",
       "      <th>34</th>\n",
       "      <td>16</td>\n",
       "      <td>0</td>\n",
       "      <td>16</td>\n",
       "    </tr>\n",
       "    <tr>\n",
       "      <th>35</th>\n",
       "      <td>13</td>\n",
       "      <td>3</td>\n",
       "      <td>16</td>\n",
       "    </tr>\n",
       "    <tr>\n",
       "      <th>36</th>\n",
       "      <td>17</td>\n",
       "      <td>4</td>\n",
       "      <td>21</td>\n",
       "    </tr>\n",
       "    <tr>\n",
       "      <th>37</th>\n",
       "      <td>15</td>\n",
       "      <td>4</td>\n",
       "      <td>19</td>\n",
       "    </tr>\n",
       "    <tr>\n",
       "      <th>38</th>\n",
       "      <td>8</td>\n",
       "      <td>7</td>\n",
       "      <td>15</td>\n",
       "    </tr>\n",
       "    <tr>\n",
       "      <th>39</th>\n",
       "      <td>10</td>\n",
       "      <td>10</td>\n",
       "      <td>20</td>\n",
       "    </tr>\n",
       "    <tr>\n",
       "      <th>40</th>\n",
       "      <td>9</td>\n",
       "      <td>13</td>\n",
       "      <td>22</td>\n",
       "    </tr>\n",
       "    <tr>\n",
       "      <th>41</th>\n",
       "      <td>11</td>\n",
       "      <td>26</td>\n",
       "      <td>37</td>\n",
       "    </tr>\n",
       "    <tr>\n",
       "      <th>42</th>\n",
       "      <td>8</td>\n",
       "      <td>29</td>\n",
       "      <td>37</td>\n",
       "    </tr>\n",
       "    <tr>\n",
       "      <th>43</th>\n",
       "      <td>2</td>\n",
       "      <td>18</td>\n",
       "      <td>20</td>\n",
       "    </tr>\n",
       "    <tr>\n",
       "      <th>44</th>\n",
       "      <td>2</td>\n",
       "      <td>27</td>\n",
       "      <td>29</td>\n",
       "    </tr>\n",
       "    <tr>\n",
       "      <th>45</th>\n",
       "      <td>3</td>\n",
       "      <td>22</td>\n",
       "      <td>25</td>\n",
       "    </tr>\n",
       "    <tr>\n",
       "      <th>46</th>\n",
       "      <td>1</td>\n",
       "      <td>15</td>\n",
       "      <td>16</td>\n",
       "    </tr>\n",
       "    <tr>\n",
       "      <th>47</th>\n",
       "      <td>0</td>\n",
       "      <td>28</td>\n",
       "      <td>28</td>\n",
       "    </tr>\n",
       "    <tr>\n",
       "      <th>48</th>\n",
       "      <td>1</td>\n",
       "      <td>14</td>\n",
       "      <td>15</td>\n",
       "    </tr>\n",
       "    <tr>\n",
       "      <th>49</th>\n",
       "      <td>0</td>\n",
       "      <td>17</td>\n",
       "      <td>17</td>\n",
       "    </tr>\n",
       "    <tr>\n",
       "      <th>50</th>\n",
       "      <td>0</td>\n",
       "      <td>32</td>\n",
       "      <td>32</td>\n",
       "    </tr>\n",
       "    <tr>\n",
       "      <th>51</th>\n",
       "      <td>0</td>\n",
       "      <td>12</td>\n",
       "      <td>12</td>\n",
       "    </tr>\n",
       "    <tr>\n",
       "      <th>52</th>\n",
       "      <td>0</td>\n",
       "      <td>20</td>\n",
       "      <td>20</td>\n",
       "    </tr>\n",
       "    <tr>\n",
       "      <th>53</th>\n",
       "      <td>0</td>\n",
       "      <td>17</td>\n",
       "      <td>17</td>\n",
       "    </tr>\n",
       "    <tr>\n",
       "      <th>54</th>\n",
       "      <td>0</td>\n",
       "      <td>18</td>\n",
       "      <td>18</td>\n",
       "    </tr>\n",
       "    <tr>\n",
       "      <th>55</th>\n",
       "      <td>0</td>\n",
       "      <td>24</td>\n",
       "      <td>24</td>\n",
       "    </tr>\n",
       "    <tr>\n",
       "      <th>56</th>\n",
       "      <td>0</td>\n",
       "      <td>16</td>\n",
       "      <td>16</td>\n",
       "    </tr>\n",
       "    <tr>\n",
       "      <th>57</th>\n",
       "      <td>0</td>\n",
       "      <td>23</td>\n",
       "      <td>23</td>\n",
       "    </tr>\n",
       "    <tr>\n",
       "      <th>58</th>\n",
       "      <td>0</td>\n",
       "      <td>13</td>\n",
       "      <td>13</td>\n",
       "    </tr>\n",
       "    <tr>\n",
       "      <th>59</th>\n",
       "      <td>0</td>\n",
       "      <td>14</td>\n",
       "      <td>14</td>\n",
       "    </tr>\n",
       "    <tr>\n",
       "      <th>60</th>\n",
       "      <td>0</td>\n",
       "      <td>8</td>\n",
       "      <td>8</td>\n",
       "    </tr>\n",
       "    <tr>\n",
       "      <th>61</th>\n",
       "      <td>0</td>\n",
       "      <td>10</td>\n",
       "      <td>10</td>\n",
       "    </tr>\n",
       "    <tr>\n",
       "      <th>62</th>\n",
       "      <td>0</td>\n",
       "      <td>13</td>\n",
       "      <td>13</td>\n",
       "    </tr>\n",
       "    <tr>\n",
       "      <th>63</th>\n",
       "      <td>0</td>\n",
       "      <td>7</td>\n",
       "      <td>7</td>\n",
       "    </tr>\n",
       "    <tr>\n",
       "      <th>64</th>\n",
       "      <td>0</td>\n",
       "      <td>3</td>\n",
       "      <td>3</td>\n",
       "    </tr>\n",
       "    <tr>\n",
       "      <th>65</th>\n",
       "      <td>0</td>\n",
       "      <td>3</td>\n",
       "      <td>3</td>\n",
       "    </tr>\n",
       "    <tr>\n",
       "      <th>66</th>\n",
       "      <td>0</td>\n",
       "      <td>2</td>\n",
       "      <td>2</td>\n",
       "    </tr>\n",
       "    <tr>\n",
       "      <th>67</th>\n",
       "      <td>0</td>\n",
       "      <td>4</td>\n",
       "      <td>4</td>\n",
       "    </tr>\n",
       "    <tr>\n",
       "      <th>69</th>\n",
       "      <td>0</td>\n",
       "      <td>1</td>\n",
       "      <td>1</td>\n",
       "    </tr>\n",
       "    <tr>\n",
       "      <th>72</th>\n",
       "      <td>0</td>\n",
       "      <td>1</td>\n",
       "      <td>1</td>\n",
       "    </tr>\n",
       "    <tr>\n",
       "      <th>All</th>\n",
       "      <td>355</td>\n",
       "      <td>480</td>\n",
       "      <td>835</td>\n",
       "    </tr>\n",
       "  </tbody>\n",
       "</table>\n",
       "</div>"
      ],
      "text/plain": [
       "Playoffs    0    1  All\n",
       "W                      \n",
       "11          2    0    2\n",
       "12          2    0    2\n",
       "13          2    0    2\n",
       "14          2    0    2\n",
       "15         10    0   10\n",
       "16          2    0    2\n",
       "17         11    0   11\n",
       "18          5    0    5\n",
       "19         10    0   10\n",
       "20         10    0   10\n",
       "21         12    0   12\n",
       "22         11    0   11\n",
       "23         11    0   11\n",
       "24         18    0   18\n",
       "25         11    0   11\n",
       "26         17    0   17\n",
       "27         10    0   10\n",
       "28         18    0   18\n",
       "29         12    0   12\n",
       "30         19    1   20\n",
       "31         15    1   16\n",
       "32         12    0   12\n",
       "33         17    0   17\n",
       "34         16    0   16\n",
       "35         13    3   16\n",
       "36         17    4   21\n",
       "37         15    4   19\n",
       "38          8    7   15\n",
       "39         10   10   20\n",
       "40          9   13   22\n",
       "41         11   26   37\n",
       "42          8   29   37\n",
       "43          2   18   20\n",
       "44          2   27   29\n",
       "45          3   22   25\n",
       "46          1   15   16\n",
       "47          0   28   28\n",
       "48          1   14   15\n",
       "49          0   17   17\n",
       "50          0   32   32\n",
       "51          0   12   12\n",
       "52          0   20   20\n",
       "53          0   17   17\n",
       "54          0   18   18\n",
       "55          0   24   24\n",
       "56          0   16   16\n",
       "57          0   23   23\n",
       "58          0   13   13\n",
       "59          0   14   14\n",
       "60          0    8    8\n",
       "61          0   10   10\n",
       "62          0   13   13\n",
       "63          0    7    7\n",
       "64          0    3    3\n",
       "65          0    3    3\n",
       "66          0    2    2\n",
       "67          0    4    4\n",
       "69          0    1    1\n",
       "72          0    1    1\n",
       "All       355  480  835"
      ]
     },
     "execution_count": 4,
     "metadata": {},
     "output_type": "execute_result"
    }
   ],
   "source": [
    "pd.crosstab(index=nba['W'], columns=nba['Playoffs'], margins=True)"
   ]
  },
  {
   "cell_type": "markdown",
   "metadata": {},
   "source": [
    "#### From the table above, we see that when a team wins at least 41 games, they have a good chance to make it to the playoffs. The table shows that sometimes the teams made it to the playoffs by winning 35 games."
   ]
  },
  {
   "cell_type": "markdown",
   "metadata": {},
   "source": [
    "#### In basketball, games are won by scoring more points than your opponents do. Does the difference in points have any impact on the number of wins?"
   ]
  },
  {
   "cell_type": "code",
   "execution_count": 5,
   "metadata": {
    "collapsed": true
   },
   "outputs": [],
   "source": [
    "nba['PointsDiff'] = nba['PTS'] - nba['oppPTS']"
   ]
  },
  {
   "cell_type": "code",
   "execution_count": 6,
   "metadata": {},
   "outputs": [
    {
     "data": {
      "text/html": [
       "<div>\n",
       "<style>\n",
       "    .dataframe thead tr:only-child th {\n",
       "        text-align: right;\n",
       "    }\n",
       "\n",
       "    .dataframe thead th {\n",
       "        text-align: left;\n",
       "    }\n",
       "\n",
       "    .dataframe tbody tr th {\n",
       "        vertical-align: top;\n",
       "    }\n",
       "</style>\n",
       "<table border=\"1\" class=\"dataframe\">\n",
       "  <thead>\n",
       "    <tr style=\"text-align: right;\">\n",
       "      <th></th>\n",
       "      <th>SeasonEnd</th>\n",
       "      <th>Team</th>\n",
       "      <th>Playoffs</th>\n",
       "      <th>W</th>\n",
       "      <th>PTS</th>\n",
       "      <th>oppPTS</th>\n",
       "      <th>FG</th>\n",
       "      <th>FGA</th>\n",
       "      <th>2P</th>\n",
       "      <th>2PA</th>\n",
       "      <th>...</th>\n",
       "      <th>3PA</th>\n",
       "      <th>FT</th>\n",
       "      <th>FTA</th>\n",
       "      <th>ORB</th>\n",
       "      <th>DRB</th>\n",
       "      <th>AST</th>\n",
       "      <th>STL</th>\n",
       "      <th>BLK</th>\n",
       "      <th>TOV</th>\n",
       "      <th>PointsDiff</th>\n",
       "    </tr>\n",
       "  </thead>\n",
       "  <tbody>\n",
       "    <tr>\n",
       "      <th>0</th>\n",
       "      <td>1980</td>\n",
       "      <td>Atlanta Hawks</td>\n",
       "      <td>1</td>\n",
       "      <td>50</td>\n",
       "      <td>8573</td>\n",
       "      <td>8334</td>\n",
       "      <td>3261</td>\n",
       "      <td>7027</td>\n",
       "      <td>3248</td>\n",
       "      <td>6952</td>\n",
       "      <td>...</td>\n",
       "      <td>75</td>\n",
       "      <td>2038</td>\n",
       "      <td>2645</td>\n",
       "      <td>1369</td>\n",
       "      <td>2406</td>\n",
       "      <td>1913</td>\n",
       "      <td>782</td>\n",
       "      <td>539</td>\n",
       "      <td>1495</td>\n",
       "      <td>239</td>\n",
       "    </tr>\n",
       "    <tr>\n",
       "      <th>1</th>\n",
       "      <td>1980</td>\n",
       "      <td>Boston Celtics</td>\n",
       "      <td>1</td>\n",
       "      <td>61</td>\n",
       "      <td>9303</td>\n",
       "      <td>8664</td>\n",
       "      <td>3617</td>\n",
       "      <td>7387</td>\n",
       "      <td>3455</td>\n",
       "      <td>6965</td>\n",
       "      <td>...</td>\n",
       "      <td>422</td>\n",
       "      <td>1907</td>\n",
       "      <td>2449</td>\n",
       "      <td>1227</td>\n",
       "      <td>2457</td>\n",
       "      <td>2198</td>\n",
       "      <td>809</td>\n",
       "      <td>308</td>\n",
       "      <td>1539</td>\n",
       "      <td>639</td>\n",
       "    </tr>\n",
       "    <tr>\n",
       "      <th>2</th>\n",
       "      <td>1980</td>\n",
       "      <td>Chicago Bulls</td>\n",
       "      <td>0</td>\n",
       "      <td>30</td>\n",
       "      <td>8813</td>\n",
       "      <td>9035</td>\n",
       "      <td>3362</td>\n",
       "      <td>6943</td>\n",
       "      <td>3292</td>\n",
       "      <td>6668</td>\n",
       "      <td>...</td>\n",
       "      <td>275</td>\n",
       "      <td>2019</td>\n",
       "      <td>2592</td>\n",
       "      <td>1115</td>\n",
       "      <td>2465</td>\n",
       "      <td>2152</td>\n",
       "      <td>704</td>\n",
       "      <td>392</td>\n",
       "      <td>1684</td>\n",
       "      <td>-222</td>\n",
       "    </tr>\n",
       "    <tr>\n",
       "      <th>3</th>\n",
       "      <td>1980</td>\n",
       "      <td>Cleveland Cavaliers</td>\n",
       "      <td>0</td>\n",
       "      <td>37</td>\n",
       "      <td>9360</td>\n",
       "      <td>9332</td>\n",
       "      <td>3811</td>\n",
       "      <td>8041</td>\n",
       "      <td>3775</td>\n",
       "      <td>7854</td>\n",
       "      <td>...</td>\n",
       "      <td>187</td>\n",
       "      <td>1702</td>\n",
       "      <td>2205</td>\n",
       "      <td>1307</td>\n",
       "      <td>2381</td>\n",
       "      <td>2108</td>\n",
       "      <td>764</td>\n",
       "      <td>342</td>\n",
       "      <td>1370</td>\n",
       "      <td>28</td>\n",
       "    </tr>\n",
       "    <tr>\n",
       "      <th>4</th>\n",
       "      <td>1980</td>\n",
       "      <td>Denver Nuggets</td>\n",
       "      <td>0</td>\n",
       "      <td>30</td>\n",
       "      <td>8878</td>\n",
       "      <td>9240</td>\n",
       "      <td>3462</td>\n",
       "      <td>7470</td>\n",
       "      <td>3379</td>\n",
       "      <td>7215</td>\n",
       "      <td>...</td>\n",
       "      <td>255</td>\n",
       "      <td>1871</td>\n",
       "      <td>2539</td>\n",
       "      <td>1311</td>\n",
       "      <td>2524</td>\n",
       "      <td>2079</td>\n",
       "      <td>746</td>\n",
       "      <td>404</td>\n",
       "      <td>1533</td>\n",
       "      <td>-362</td>\n",
       "    </tr>\n",
       "  </tbody>\n",
       "</table>\n",
       "<p>5 rows × 21 columns</p>\n",
       "</div>"
      ],
      "text/plain": [
       "   SeasonEnd                 Team  Playoffs   W   PTS  oppPTS    FG   FGA  \\\n",
       "0       1980        Atlanta Hawks         1  50  8573    8334  3261  7027   \n",
       "1       1980       Boston Celtics         1  61  9303    8664  3617  7387   \n",
       "2       1980        Chicago Bulls         0  30  8813    9035  3362  6943   \n",
       "3       1980  Cleveland Cavaliers         0  37  9360    9332  3811  8041   \n",
       "4       1980       Denver Nuggets         0  30  8878    9240  3462  7470   \n",
       "\n",
       "     2P   2PA     ...      3PA    FT   FTA   ORB   DRB   AST  STL  BLK   TOV  \\\n",
       "0  3248  6952     ...       75  2038  2645  1369  2406  1913  782  539  1495   \n",
       "1  3455  6965     ...      422  1907  2449  1227  2457  2198  809  308  1539   \n",
       "2  3292  6668     ...      275  2019  2592  1115  2465  2152  704  392  1684   \n",
       "3  3775  7854     ...      187  1702  2205  1307  2381  2108  764  342  1370   \n",
       "4  3379  7215     ...      255  1871  2539  1311  2524  2079  746  404  1533   \n",
       "\n",
       "   PointsDiff  \n",
       "0         239  \n",
       "1         639  \n",
       "2        -222  \n",
       "3          28  \n",
       "4        -362  \n",
       "\n",
       "[5 rows x 21 columns]"
      ]
     },
     "execution_count": 6,
     "metadata": {},
     "output_type": "execute_result"
    }
   ],
   "source": [
    "nba.head()"
   ]
  },
  {
   "cell_type": "code",
   "execution_count": 7,
   "metadata": {
    "collapsed": true
   },
   "outputs": [],
   "source": [
    "import matplotlib.pyplot as plt\n",
    "%matplotlib inline"
   ]
  },
  {
   "cell_type": "code",
   "execution_count": 8,
   "metadata": {},
   "outputs": [
    {
     "data": {
      "text/plain": [
       "<matplotlib.text.Text at 0x24e7348c470>"
      ]
     },
     "execution_count": 8,
     "metadata": {},
     "output_type": "execute_result"
    },
    {
     "data": {
      "image/png": "[encoded data removed]",
      "text/plain": [
       "<matplotlib.figure.Figure at 0x24e730c1198>"
      ]
     },
     "metadata": {},
     "output_type": "display_data"
    }
   ],
   "source": [
    "plt.scatter(nba['W'], nba['PointsDiff'])\n",
    "plt.xlabel('Number of wins')\n",
    "plt.ylabel('Points Difference')\n",
    "plt.title('Correlation between Number of Wins and Points Difference')"
   ]
  },
  {
   "cell_type": "markdown",
   "metadata": {},
   "source": [
    "#### Here we see that there is indeed a strong correlation between the number of wins and the points difference (PointsDiff)"
   ]
  },
  {
   "cell_type": "code",
   "execution_count": 11,
   "metadata": {},
   "outputs": [],
   "source": [
    "from sklearn import linear_model"
   ]
  },
  {
   "cell_type": "code",
   "execution_count": 12,
   "metadata": {
    "collapsed": true
   },
   "outputs": [],
   "source": [
    "linearRegression = linear_model.LinearRegression()"
   ]
  },
  {
   "cell_type": "code",
   "execution_count": 13,
   "metadata": {
    "collapsed": true
   },
   "outputs": [],
   "source": [
    "X_train = nba[['PointsDiff']]\n",
    "y_train = nba[['W']]"
   ]
  },
  {
   "cell_type": "code",
   "execution_count": 14,
   "metadata": {},
   "outputs": [
    {
     "data": {
      "text/plain": [
       "LinearRegression(copy_X=True, fit_intercept=True, n_jobs=1, normalize=False)"
      ]
     },
     "execution_count": 14,
     "metadata": {},
     "output_type": "execute_result"
    }
   ],
   "source": [
    "linearRegression.fit(X_train, y_train)"
   ]
  },
  {
   "cell_type": "code",
   "execution_count": 15,
   "metadata": {},
   "outputs": [
    {
     "data": {
      "text/plain": [
       "array([[ 0.03258633]])"
      ]
     },
     "execution_count": 15,
     "metadata": {},
     "output_type": "execute_result"
    }
   ],
   "source": [
    "linearRegression.coef_"
   ]
  },
  {
   "cell_type": "code",
   "execution_count": 16,
   "metadata": {},
   "outputs": [
    {
     "data": {
      "text/plain": [
       "array([ 41.])"
      ]
     },
     "execution_count": 16,
     "metadata": {},
     "output_type": "execute_result"
    }
   ],
   "source": [
    "linearRegression.intercept_"
   ]
  },
  {
   "cell_type": "markdown",
   "metadata": {},
   "source": [
    "#### So how much should the 'PointsDiff' be for a team to make it to the playoffs by winning at least 42 games?\n",
    "\n",
    "#### W = 41 + 0.0326 (PointsDiff) >= 42\n",
    "#### PointsDiff = (42 - 41) / 0.0326\n",
    "#### PointsDiff = 30.67"
   ]
  },
  {
   "cell_type": "markdown",
   "metadata": {},
   "source": [
    "#### Let's predict how to score more points"
   ]
  },
  {
   "cell_type": "code",
   "execution_count": 18,
   "metadata": {
    "collapsed": true
   },
   "outputs": [],
   "source": [
    "X_train_points = nba[['2PA', '3PA', 'FTA', 'ORB', 'DRB', 'AST', 'STL', 'BLK', 'TOV' ]]"
   ]
  },
  {
   "cell_type": "code",
   "execution_count": 19,
   "metadata": {
    "collapsed": true
   },
   "outputs": [],
   "source": [
    "y_train_points = nba[['PTS']]"
   ]
  },
  {
   "cell_type": "code",
   "execution_count": 20,
   "metadata": {},
   "outputs": [
    {
     "data": {
      "text/plain": [
       "LinearRegression(copy_X=True, fit_intercept=True, n_jobs=1, normalize=False)"
      ]
     },
     "execution_count": 20,
     "metadata": {},
     "output_type": "execute_result"
    }
   ],
   "source": [
    "linearRegression.fit(X_trains_points, y_train_points)"
   ]
  },
  {
   "cell_type": "code",
   "execution_count": 21,
   "metadata": {},
   "outputs": [
    {
     "data": {
      "text/plain": [
       "array([[ 1.04287845,  1.25859058,  1.12801702, -0.95538673,  0.03882744,\n",
       "         0.88576709, -0.19917749, -0.05576374, -0.0247526 ]])"
      ]
     },
     "execution_count": 21,
     "metadata": {},
     "output_type": "execute_result"
    }
   ],
   "source": [
    "linearRegression.coef_"
   ]
  },
  {
   "cell_type": "code",
   "execution_count": 22,
   "metadata": {},
   "outputs": [
    {
     "data": {
      "text/plain": [
       "array([-2050.81081277])"
      ]
     },
     "execution_count": 22,
     "metadata": {},
     "output_type": "execute_result"
    }
   ],
   "source": [
    "linearRegression.intercept_"
   ]
  },
  {
   "cell_type": "code",
   "execution_count": 23,
   "metadata": {},
   "outputs": [
    {
     "name": "stderr",
     "output_type": "stream",
     "text": [
      "C:\\Users\\Vivek\\Anaconda3\\lib\\site-packages\\sklearn\\utils\\deprecation.py:70: DeprecationWarning: Function residues_ is deprecated; ``residues_`` is deprecated and will be removed in 0.19\n",
      "  warnings.warn(msg, category=DeprecationWarning)\n"
     ]
    },
    {
     "data": {
      "text/plain": [
       "array([ 28394313.99475665])"
      ]
     },
     "execution_count": 23,
     "metadata": {},
     "output_type": "execute_result"
    }
   ],
   "source": [
    "linearRegression.residues_"
   ]
  },
  {
   "cell_type": "markdown",
   "metadata": {},
   "source": [
    "#### So SSE is 28394313.99475665"
   ]
  },
  {
   "cell_type": "code",
   "execution_count": 27,
   "metadata": {
    "collapsed": true
   },
   "outputs": [],
   "source": [
    "import math"
   ]
  },
  {
   "cell_type": "code",
   "execution_count": 28,
   "metadata": {},
   "outputs": [
    {
     "name": "stderr",
     "output_type": "stream",
     "text": [
      "C:\\Users\\Vivek\\Anaconda3\\lib\\site-packages\\sklearn\\utils\\deprecation.py:70: DeprecationWarning: Function residues_ is deprecated; ``residues_`` is deprecated and will be removed in 0.19\n",
      "  warnings.warn(msg, category=DeprecationWarning)\n"
     ]
    },
    {
     "data": {
      "text/plain": [
       "184.40489814749066"
      ]
     },
     "execution_count": 28,
     "metadata": {},
     "output_type": "execute_result"
    }
   ],
   "source": [
    "RMSE = math.sqrt((linearRegression.residues_[0] / len(nba)))\n",
    "RMSE"
   ]
  },
  {
   "cell_type": "markdown",
   "metadata": {},
   "source": [
    "#### The Root Mean Squared Error value is 184.404 which is quite high. Let's check the average number of points to see if the error is high or low"
   ]
  },
  {
   "cell_type": "code",
   "execution_count": 30,
   "metadata": {},
   "outputs": [
    {
     "data": {
      "text/plain": [
       "count      835.000000\n",
       "mean      8370.239521\n",
       "std        581.040114\n",
       "min       6901.000000\n",
       "25%       7934.000000\n",
       "50%       8312.000000\n",
       "75%       8784.500000\n",
       "max      10371.000000\n",
       "Name: PTS, dtype: float64"
      ]
     },
     "execution_count": 30,
     "metadata": {},
     "output_type": "execute_result"
    }
   ],
   "source": [
    "nba['PTS'].describe()"
   ]
  },
  {
   "cell_type": "markdown",
   "metadata": {},
   "source": [
    "#### The mean is 8370.239521. So the RMSE value of 184 (being off by 184 points)  is not bad in this case."
   ]
  },
  {
   "cell_type": "markdown",
   "metadata": {},
   "source": [
    "#### We can try to remove the variables that don't have much impact on the model such as 'TOV', 'DRB', and 'BLK'."
   ]
  }
 ],
 "metadata": {
  "kernelspec": {
   "display_name": "Python 3",
   "language": "python",
   "name": "python3"
  },
  "language_info": {
   "codemirror_mode": {
    "name": "ipython",
    "version": 3
   },
   "file_extension": ".py",
   "mimetype": "text/x-python",
   "name": "python",
   "nbconvert_exporter": "python",
   "pygments_lexer": "ipython3",
   "version": "3.6.1"
  }
 },
 "nbformat": 4,
 "nbformat_minor": 2
}
