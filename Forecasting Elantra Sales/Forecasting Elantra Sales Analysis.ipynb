{
 "cells": [
  {
   "cell_type": "code",
   "execution_count": 1,
   "metadata": {
    "collapsed": true
   },
   "outputs": [],
   "source": [
    "import pandas as pd\n",
    "import numpy as np\n",
    "import matplotlib.pyplot as plt\n",
    "%matplotlib inline"
   ]
  },
  {
   "cell_type": "code",
   "execution_count": 2,
   "metadata": {
    "collapsed": true
   },
   "outputs": [],
   "source": [
    "sales = pd.read_csv('elantra.csv')"
   ]
  },
  {
   "cell_type": "code",
   "execution_count": 3,
   "metadata": {},
   "outputs": [
    {
     "data": {
      "text/html": [
       "<div>\n",
       "<style>\n",
       "    .dataframe thead tr:only-child th {\n",
       "        text-align: right;\n",
       "    }\n",
       "\n",
       "    .dataframe thead th {\n",
       "        text-align: left;\n",
       "    }\n",
       "\n",
       "    .dataframe tbody tr th {\n",
       "        vertical-align: top;\n",
       "    }\n",
       "</style>\n",
       "<table border=\"1\" class=\"dataframe\">\n",
       "  <thead>\n",
       "    <tr style=\"text-align: right;\">\n",
       "      <th></th>\n",
       "      <th>Month</th>\n",
       "      <th>Year</th>\n",
       "      <th>ElantraSales</th>\n",
       "      <th>Unemployment</th>\n",
       "      <th>Queries</th>\n",
       "      <th>CPI_energy</th>\n",
       "      <th>CPI_all</th>\n",
       "    </tr>\n",
       "  </thead>\n",
       "  <tbody>\n",
       "    <tr>\n",
       "      <th>0</th>\n",
       "      <td>1</td>\n",
       "      <td>2010</td>\n",
       "      <td>7690</td>\n",
       "      <td>9.7</td>\n",
       "      <td>153</td>\n",
       "      <td>213.377</td>\n",
       "      <td>217.466</td>\n",
       "    </tr>\n",
       "    <tr>\n",
       "      <th>1</th>\n",
       "      <td>1</td>\n",
       "      <td>2011</td>\n",
       "      <td>9659</td>\n",
       "      <td>9.1</td>\n",
       "      <td>259</td>\n",
       "      <td>229.353</td>\n",
       "      <td>221.082</td>\n",
       "    </tr>\n",
       "    <tr>\n",
       "      <th>2</th>\n",
       "      <td>1</td>\n",
       "      <td>2012</td>\n",
       "      <td>10900</td>\n",
       "      <td>8.2</td>\n",
       "      <td>354</td>\n",
       "      <td>244.178</td>\n",
       "      <td>227.666</td>\n",
       "    </tr>\n",
       "    <tr>\n",
       "      <th>3</th>\n",
       "      <td>1</td>\n",
       "      <td>2013</td>\n",
       "      <td>12174</td>\n",
       "      <td>7.9</td>\n",
       "      <td>230</td>\n",
       "      <td>242.560</td>\n",
       "      <td>231.321</td>\n",
       "    </tr>\n",
       "    <tr>\n",
       "      <th>4</th>\n",
       "      <td>1</td>\n",
       "      <td>2014</td>\n",
       "      <td>15326</td>\n",
       "      <td>6.6</td>\n",
       "      <td>232</td>\n",
       "      <td>247.575</td>\n",
       "      <td>234.933</td>\n",
       "    </tr>\n",
       "  </tbody>\n",
       "</table>\n",
       "</div>"
      ],
      "text/plain": [
       "   Month  Year  ElantraSales  Unemployment  Queries  CPI_energy  CPI_all\n",
       "0      1  2010          7690           9.7      153     213.377  217.466\n",
       "1      1  2011          9659           9.1      259     229.353  221.082\n",
       "2      1  2012         10900           8.2      354     244.178  227.666\n",
       "3      1  2013         12174           7.9      230     242.560  231.321\n",
       "4      1  2014         15326           6.6      232     247.575  234.933"
      ]
     },
     "execution_count": 3,
     "metadata": {},
     "output_type": "execute_result"
    }
   ],
   "source": [
    "sales.head()"
   ]
  },
  {
   "cell_type": "markdown",
   "metadata": {},
   "source": [
    "#### Load the data set. Split the data set into training and testing sets as follows: place all observations for 2012 and earlier in the training set, and all observations for 2013 and 2014 into the testing set.\n",
    "\n",
    "#### How many observations are in the training set?\n",
    "\n",
    "*36*"
   ]
  },
  {
   "cell_type": "code",
   "execution_count": 4,
   "metadata": {},
   "outputs": [
    {
     "data": {
      "text/plain": [
       "Month             int64\n",
       "Year              int64\n",
       "ElantraSales      int64\n",
       "Unemployment    float64\n",
       "Queries           int64\n",
       "CPI_energy      float64\n",
       "CPI_all         float64\n",
       "dtype: object"
      ]
     },
     "execution_count": 4,
     "metadata": {},
     "output_type": "execute_result"
    }
   ],
   "source": [
    "sales.dtypes"
   ]
  },
  {
   "cell_type": "code",
   "execution_count": 5,
   "metadata": {
    "collapsed": true
   },
   "outputs": [],
   "source": [
    "sales_train = sales[sales['Year'] <= 2012]"
   ]
  },
  {
   "cell_type": "code",
   "execution_count": 6,
   "metadata": {
    "collapsed": true
   },
   "outputs": [],
   "source": [
    "sales_test = sales[sales['Year'] > 2012]"
   ]
  },
  {
   "cell_type": "code",
   "execution_count": 7,
   "metadata": {},
   "outputs": [
    {
     "data": {
      "text/plain": [
       "Month           36\n",
       "Year            36\n",
       "ElantraSales    36\n",
       "Unemployment    36\n",
       "Queries         36\n",
       "CPI_energy      36\n",
       "CPI_all         36\n",
       "dtype: int64"
      ]
     },
     "execution_count": 7,
     "metadata": {},
     "output_type": "execute_result"
    }
   ],
   "source": [
    "sales_train.count()"
   ]
  },
  {
   "cell_type": "markdown",
   "metadata": {},
   "source": [
    "***"
   ]
  },
  {
   "cell_type": "markdown",
   "metadata": {},
   "source": [
    "#### Build a linear regression model to predict monthly Elantra sales using Unemployment, CPI_all, CPI_energy and Queries as the independent variables. Use all of the training set data to do this.\n",
    "\n",
    "#### What is the model R-squared?"
   ]
  },
  {
   "cell_type": "code",
   "execution_count": 9,
   "metadata": {},
   "outputs": [],
   "source": [
    "from sklearn import linear_model"
   ]
  },
  {
   "cell_type": "code",
   "execution_count": 10,
   "metadata": {},
   "outputs": [
    {
     "data": {
      "text/plain": [
       "0.42815676686082771"
      ]
     },
     "execution_count": 10,
     "metadata": {},
     "output_type": "execute_result"
    }
   ],
   "source": [
    "linearRegressionModel1 = linear_model.LinearRegression()\n",
    "X_train_model1 = sales_train[['Unemployment', 'CPI_all', 'CPI_energy', 'Queries']]\n",
    "y_train_model1 = sales_train[['ElantraSales']]\n",
    "linearRegressionModel1.fit(X_train_model1, y_train_model1)\n",
    "linearRegressionModel1.score(X_train_model1, y_train_model1)"
   ]
  },
  {
   "cell_type": "code",
   "execution_count": 11,
   "metadata": {},
   "outputs": [
    {
     "name": "stdout",
     "output_type": "stream",
     "text": [
      "So the multiple R squared values is 0.428157\n"
     ]
    }
   ],
   "source": [
    "print(\"So the multiple R squared values is 0.428157\")"
   ]
  },
  {
   "cell_type": "markdown",
   "metadata": {},
   "source": [
    "***"
   ]
  },
  {
   "cell_type": "markdown",
   "metadata": {},
   "source": [
    "#### How many variables are significant, or have levels that are significant? Use 0.10 as your p-value cutoff.\n",
    "\n",
    "*0*"
   ]
  },
  {
   "cell_type": "code",
   "execution_count": 12,
   "metadata": {},
   "outputs": [
    {
     "name": "stderr",
     "output_type": "stream",
     "text": [
      "C:\\Users\\Vivek\\Anaconda3\\lib\\site-packages\\statsmodels\\compat\\pandas.py:56: FutureWarning: The pandas.core.datetools module is deprecated and will be removed in a future version. Please use the pandas.tseries module instead.\n",
      "  from pandas.core import datetools\n"
     ]
    }
   ],
   "source": [
    "import statsmodels.api as sm"
   ]
  },
  {
   "cell_type": "code",
   "execution_count": 13,
   "metadata": {},
   "outputs": [
    {
     "data": {
      "text/html": [
       "<table class=\"simpletable\">\n",
       "<caption>OLS Regression Results</caption>\n",
       "<tr>\n",
       "  <th>Dep. Variable:</th>      <td>ElantraSales</td>   <th>  R-squared:         </th> <td>   0.958</td>\n",
       "</tr>\n",
       "<tr>\n",
       "  <th>Model:</th>                   <td>OLS</td>       <th>  Adj. R-squared:    </th> <td>   0.953</td>\n",
       "</tr>\n",
       "<tr>\n",
       "  <th>Method:</th>             <td>Least Squares</td>  <th>  F-statistic:       </th> <td>   183.1</td>\n",
       "</tr>\n",
       "<tr>\n",
       "  <th>Date:</th>             <td>Wed, 07 Nov 2018</td> <th>  Prob (F-statistic):</th> <td>1.45e-21</td>\n",
       "</tr>\n",
       "<tr>\n",
       "  <th>Time:</th>                 <td>18:18:01</td>     <th>  Log-Likelihood:    </th> <td> -340.17</td>\n",
       "</tr>\n",
       "<tr>\n",
       "  <th>No. Observations:</th>      <td>    36</td>      <th>  AIC:               </th> <td>   688.3</td>\n",
       "</tr>\n",
       "<tr>\n",
       "  <th>Df Residuals:</th>          <td>    32</td>      <th>  BIC:               </th> <td>   694.7</td>\n",
       "</tr>\n",
       "<tr>\n",
       "  <th>Df Model:</th>              <td>     4</td>      <th>                     </th>     <td> </td>   \n",
       "</tr>\n",
       "<tr>\n",
       "  <th>Covariance Type:</th>      <td>nonrobust</td>    <th>                     </th>     <td> </td>   \n",
       "</tr>\n",
       "</table>\n",
       "<table class=\"simpletable\">\n",
       "<tr>\n",
       "        <td></td>          <th>coef</th>     <th>std err</th>      <th>t</th>      <th>P>|t|</th>  <th>[0.025</th>    <th>0.975]</th>  \n",
       "</tr>\n",
       "<tr>\n",
       "  <th>Unemployment</th> <td>-1233.9232</td> <td>  944.375</td> <td>   -1.307</td> <td> 0.201</td> <td>-3157.551</td> <td>  689.705</td>\n",
       "</tr>\n",
       "<tr>\n",
       "  <th>CPI_all</th>      <td>   91.7399</td> <td>  105.700</td> <td>    0.868</td> <td> 0.392</td> <td> -123.565</td> <td>  307.045</td>\n",
       "</tr>\n",
       "<tr>\n",
       "  <th>CPI_energy</th>   <td>    0.3725</td> <td>   84.848</td> <td>    0.004</td> <td> 0.997</td> <td> -172.457</td> <td>  173.202</td>\n",
       "</tr>\n",
       "<tr>\n",
       "  <th>Queries</th>      <td>   17.9933</td> <td>   10.985</td> <td>    1.638</td> <td> 0.111</td> <td>   -4.383</td> <td>   40.370</td>\n",
       "</tr>\n",
       "</table>\n",
       "<table class=\"simpletable\">\n",
       "<tr>\n",
       "  <th>Omnibus:</th>       <td> 2.228</td> <th>  Durbin-Watson:     </th> <td>   1.303</td>\n",
       "</tr>\n",
       "<tr>\n",
       "  <th>Prob(Omnibus):</th> <td> 0.328</td> <th>  Jarque-Bera (JB):  </th> <td>   1.866</td>\n",
       "</tr>\n",
       "<tr>\n",
       "  <th>Skew:</th>          <td> 0.549</td> <th>  Prob(JB):          </th> <td>   0.393</td>\n",
       "</tr>\n",
       "<tr>\n",
       "  <th>Kurtosis:</th>      <td> 2.801</td> <th>  Cond. No.          </th> <td>    740.</td>\n",
       "</tr>\n",
       "</table>"
      ],
      "text/plain": [
       "<class 'statsmodels.iolib.summary.Summary'>\n",
       "\"\"\"\n",
       "                            OLS Regression Results                            \n",
       "==============================================================================\n",
       "Dep. Variable:           ElantraSales   R-squared:                       0.958\n",
       "Model:                            OLS   Adj. R-squared:                  0.953\n",
       "Method:                 Least Squares   F-statistic:                     183.1\n",
       "Date:                Wed, 07 Nov 2018   Prob (F-statistic):           1.45e-21\n",
       "Time:                        18:18:01   Log-Likelihood:                -340.17\n",
       "No. Observations:                  36   AIC:                             688.3\n",
       "Df Residuals:                      32   BIC:                             694.7\n",
       "Df Model:                           4                                         \n",
       "Covariance Type:            nonrobust                                         \n",
       "================================================================================\n",
       "                   coef    std err          t      P>|t|      [0.025      0.975]\n",
       "--------------------------------------------------------------------------------\n",
       "Unemployment -1233.9232    944.375     -1.307      0.201   -3157.551     689.705\n",
       "CPI_all         91.7399    105.700      0.868      0.392    -123.565     307.045\n",
       "CPI_energy       0.3725     84.848      0.004      0.997    -172.457     173.202\n",
       "Queries         17.9933     10.985      1.638      0.111      -4.383      40.370\n",
       "==============================================================================\n",
       "Omnibus:                        2.228   Durbin-Watson:                   1.303\n",
       "Prob(Omnibus):                  0.328   Jarque-Bera (JB):                1.866\n",
       "Skew:                           0.549   Prob(JB):                        0.393\n",
       "Kurtosis:                       2.801   Cond. No.                         740.\n",
       "==============================================================================\n",
       "\n",
       "Warnings:\n",
       "[1] Standard Errors assume that the covariance matrix of the errors is correctly specified.\n",
       "\"\"\""
      ]
     },
     "execution_count": 13,
     "metadata": {},
     "output_type": "execute_result"
    }
   ],
   "source": [
    "model1_OLS = sm.OLS(y_train_model1, X_train_model1).fit()\n",
    "model1_OLS.summary()"
   ]
  },
  {
   "cell_type": "markdown",
   "metadata": {},
   "source": [
    "#### After obtaining the output of the model summary, simply look at the p-values of all of the variables in the output (the column, labeled \"P>|t|\"). It turns out that none of them are significant."
   ]
  },
  {
   "cell_type": "markdown",
   "metadata": {},
   "source": [
    "#### It looks like the summary is off by a huge margin - should review this later. The coefficient of 'Unemployment' and the coefficient from the LinearRegressionModel1 do not match."
   ]
  },
  {
   "cell_type": "markdown",
   "metadata": {},
   "source": [
    "***"
   ]
  },
  {
   "cell_type": "markdown",
   "metadata": {},
   "source": [
    "#### What is the coefficient of the Unemployment variable?\n",
    "\n",
    "*-3179.89957338*"
   ]
  },
  {
   "cell_type": "code",
   "execution_count": 14,
   "metadata": {},
   "outputs": [
    {
     "data": {
      "text/plain": [
       "array([[-3179.89957338,  -297.6456256 ,    38.50603685,    19.02968262]])"
      ]
     },
     "execution_count": 14,
     "metadata": {},
     "output_type": "execute_result"
    }
   ],
   "source": [
    "linearRegressionModel1.coef_"
   ]
  },
  {
   "cell_type": "markdown",
   "metadata": {},
   "source": [
    "***"
   ]
  },
  {
   "cell_type": "markdown",
   "metadata": {},
   "source": [
    "#### What is the interpretation of this coefficient?\n",
    "\n",
    "- For an increase of 1 in predicted Elantra sales, Unemployment decreases by approximately 3000.\n",
    "- For an increase of 1 in Unemployment, the prediction of Elantra sales decreases by approximately 3000.\n",
    "- If Unemployment increases by 1, then Elantra sales will decrease by approximately 3000; Hyundai should keep unemployment down (by creating jobs in the US or lobbying the US government) if it wishes to increase its sales.\n",
    "- For an increase of 1 in Unemployment, then predicted Elantra sales will essentially stay the same, since the coefficient is not statistically significant.\n",
    "\n",
    "*For an increase of 1 in Unemployment, the prediction of Elantra sales decreases by approximately 3000.*"
   ]
  },
  {
   "cell_type": "markdown",
   "metadata": {},
   "source": [
    "#### The second choice is the correct answer; the coefficient is defined as the change in the prediction of the dependent variable (ElantraSales) per unit change in the independent variable in question (Unemployment). The first choice is therefore not correct; it also does not make intuitive sense since Unemployment is the percentage unemployment rate, which is bounded to be between 0 and 100.\n",
    "\n",
    "#### The third choice is not correct because the coefficient indicates how the prediction changes, not how the actual sales change, and this option asserts that actual sales change, i.e., there is a causal effect.\n",
    "\n",
    "#### The fourth choice is not correct because the statistical significance indicates how likely it is that, by chance, the true coefficient is not different from zero. However, the estimated coefficient still has a (non-zero) value, and our prediction will change for different values of Unemployment; therefore, the sales prediction cannot stay the same."
   ]
  },
  {
   "cell_type": "markdown",
   "metadata": {},
   "source": [
    "***"
   ]
  }
 ],
 "metadata": {
  "kernelspec": {
   "display_name": "Python 3",
   "language": "python",
   "name": "python3"
  },
  "language_info": {
   "codemirror_mode": {
    "name": "ipython",
    "version": 3
   },
   "file_extension": ".py",
   "mimetype": "text/x-python",
   "name": "python",
   "nbconvert_exporter": "python",
   "pygments_lexer": "ipython3",
   "version": "3.6.1"
  }
 },
 "nbformat": 4,
 "nbformat_minor": 2
}
