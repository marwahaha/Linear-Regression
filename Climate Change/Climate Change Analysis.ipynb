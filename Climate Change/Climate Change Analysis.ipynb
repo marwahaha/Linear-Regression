{
 "cells": [
  {
   "cell_type": "code",
   "execution_count": 1,
   "metadata": {
    "collapsed": true
   },
   "outputs": [],
   "source": [
    "import pandas as pd"
   ]
  },
  {
   "cell_type": "code",
   "execution_count": 2,
   "metadata": {
    "collapsed": true
   },
   "outputs": [],
   "source": [
    "from sklearn import linear_model"
   ]
  },
  {
   "cell_type": "code",
   "execution_count": 3,
   "metadata": {
    "collapsed": true
   },
   "outputs": [],
   "source": [
    "climateInfo = pd.read_csv('climate_change.csv')"
   ]
  },
  {
   "cell_type": "code",
   "execution_count": 4,
   "metadata": {},
   "outputs": [
    {
     "data": {
      "text/html": [
       "<div>\n",
       "<style>\n",
       "    .dataframe thead tr:only-child th {\n",
       "        text-align: right;\n",
       "    }\n",
       "\n",
       "    .dataframe thead th {\n",
       "        text-align: left;\n",
       "    }\n",
       "\n",
       "    .dataframe tbody tr th {\n",
       "        vertical-align: top;\n",
       "    }\n",
       "</style>\n",
       "<table border=\"1\" class=\"dataframe\">\n",
       "  <thead>\n",
       "    <tr style=\"text-align: right;\">\n",
       "      <th></th>\n",
       "      <th>Year</th>\n",
       "      <th>Month</th>\n",
       "      <th>MEI</th>\n",
       "      <th>CO2</th>\n",
       "      <th>CH4</th>\n",
       "      <th>N2O</th>\n",
       "      <th>CFC-11</th>\n",
       "      <th>CFC-12</th>\n",
       "      <th>TSI</th>\n",
       "      <th>Aerosols</th>\n",
       "      <th>Temp</th>\n",
       "    </tr>\n",
       "  </thead>\n",
       "  <tbody>\n",
       "    <tr>\n",
       "      <th>count</th>\n",
       "      <td>308.000000</td>\n",
       "      <td>308.000000</td>\n",
       "      <td>308.000000</td>\n",
       "      <td>308.000000</td>\n",
       "      <td>308.000000</td>\n",
       "      <td>308.000000</td>\n",
       "      <td>308.000000</td>\n",
       "      <td>308.000000</td>\n",
       "      <td>308.000000</td>\n",
       "      <td>308.000000</td>\n",
       "      <td>308.000000</td>\n",
       "    </tr>\n",
       "    <tr>\n",
       "      <th>mean</th>\n",
       "      <td>1995.662338</td>\n",
       "      <td>6.551948</td>\n",
       "      <td>0.275555</td>\n",
       "      <td>363.226753</td>\n",
       "      <td>1749.824513</td>\n",
       "      <td>312.391834</td>\n",
       "      <td>251.973068</td>\n",
       "      <td>497.524782</td>\n",
       "      <td>1366.070759</td>\n",
       "      <td>0.016657</td>\n",
       "      <td>0.256776</td>\n",
       "    </tr>\n",
       "    <tr>\n",
       "      <th>std</th>\n",
       "      <td>7.423197</td>\n",
       "      <td>3.447214</td>\n",
       "      <td>0.937918</td>\n",
       "      <td>12.647125</td>\n",
       "      <td>46.051678</td>\n",
       "      <td>5.225131</td>\n",
       "      <td>20.231783</td>\n",
       "      <td>57.826899</td>\n",
       "      <td>0.399610</td>\n",
       "      <td>0.029050</td>\n",
       "      <td>0.179090</td>\n",
       "    </tr>\n",
       "    <tr>\n",
       "      <th>min</th>\n",
       "      <td>1983.000000</td>\n",
       "      <td>1.000000</td>\n",
       "      <td>-1.635000</td>\n",
       "      <td>340.170000</td>\n",
       "      <td>1629.890000</td>\n",
       "      <td>303.677000</td>\n",
       "      <td>191.324000</td>\n",
       "      <td>350.113000</td>\n",
       "      <td>1365.426100</td>\n",
       "      <td>0.001600</td>\n",
       "      <td>-0.282000</td>\n",
       "    </tr>\n",
       "    <tr>\n",
       "      <th>25%</th>\n",
       "      <td>1989.000000</td>\n",
       "      <td>4.000000</td>\n",
       "      <td>-0.398750</td>\n",
       "      <td>353.020000</td>\n",
       "      <td>1722.182500</td>\n",
       "      <td>308.111500</td>\n",
       "      <td>246.295500</td>\n",
       "      <td>472.410750</td>\n",
       "      <td>1365.717050</td>\n",
       "      <td>0.002800</td>\n",
       "      <td>0.121750</td>\n",
       "    </tr>\n",
       "    <tr>\n",
       "      <th>50%</th>\n",
       "      <td>1996.000000</td>\n",
       "      <td>7.000000</td>\n",
       "      <td>0.237500</td>\n",
       "      <td>361.735000</td>\n",
       "      <td>1764.040000</td>\n",
       "      <td>311.507000</td>\n",
       "      <td>258.344000</td>\n",
       "      <td>528.356000</td>\n",
       "      <td>1365.980900</td>\n",
       "      <td>0.005750</td>\n",
       "      <td>0.248000</td>\n",
       "    </tr>\n",
       "    <tr>\n",
       "      <th>75%</th>\n",
       "      <td>2002.000000</td>\n",
       "      <td>10.000000</td>\n",
       "      <td>0.830500</td>\n",
       "      <td>373.455000</td>\n",
       "      <td>1786.885000</td>\n",
       "      <td>316.979000</td>\n",
       "      <td>267.031000</td>\n",
       "      <td>540.524250</td>\n",
       "      <td>1366.363250</td>\n",
       "      <td>0.012600</td>\n",
       "      <td>0.407250</td>\n",
       "    </tr>\n",
       "    <tr>\n",
       "      <th>max</th>\n",
       "      <td>2008.000000</td>\n",
       "      <td>12.000000</td>\n",
       "      <td>3.001000</td>\n",
       "      <td>388.500000</td>\n",
       "      <td>1814.180000</td>\n",
       "      <td>322.182000</td>\n",
       "      <td>271.494000</td>\n",
       "      <td>543.813000</td>\n",
       "      <td>1367.316200</td>\n",
       "      <td>0.149400</td>\n",
       "      <td>0.739000</td>\n",
       "    </tr>\n",
       "  </tbody>\n",
       "</table>\n",
       "</div>"
      ],
      "text/plain": [
       "              Year       Month         MEI         CO2          CH4  \\\n",
       "count   308.000000  308.000000  308.000000  308.000000   308.000000   \n",
       "mean   1995.662338    6.551948    0.275555  363.226753  1749.824513   \n",
       "std       7.423197    3.447214    0.937918   12.647125    46.051678   \n",
       "min    1983.000000    1.000000   -1.635000  340.170000  1629.890000   \n",
       "25%    1989.000000    4.000000   -0.398750  353.020000  1722.182500   \n",
       "50%    1996.000000    7.000000    0.237500  361.735000  1764.040000   \n",
       "75%    2002.000000   10.000000    0.830500  373.455000  1786.885000   \n",
       "max    2008.000000   12.000000    3.001000  388.500000  1814.180000   \n",
       "\n",
       "              N2O      CFC-11      CFC-12          TSI    Aerosols        Temp  \n",
       "count  308.000000  308.000000  308.000000   308.000000  308.000000  308.000000  \n",
       "mean   312.391834  251.973068  497.524782  1366.070759    0.016657    0.256776  \n",
       "std      5.225131   20.231783   57.826899     0.399610    0.029050    0.179090  \n",
       "min    303.677000  191.324000  350.113000  1365.426100    0.001600   -0.282000  \n",
       "25%    308.111500  246.295500  472.410750  1365.717050    0.002800    0.121750  \n",
       "50%    311.507000  258.344000  528.356000  1365.980900    0.005750    0.248000  \n",
       "75%    316.979000  267.031000  540.524250  1366.363250    0.012600    0.407250  \n",
       "max    322.182000  271.494000  543.813000  1367.316200    0.149400    0.739000  "
      ]
     },
     "execution_count": 4,
     "metadata": {},
     "output_type": "execute_result"
    }
   ],
   "source": [
    "climateInfo.describe()"
   ]
  },
  {
   "cell_type": "code",
   "execution_count": 5,
   "metadata": {},
   "outputs": [
    {
     "data": {
      "text/html": [
       "<div>\n",
       "<style>\n",
       "    .dataframe thead tr:only-child th {\n",
       "        text-align: right;\n",
       "    }\n",
       "\n",
       "    .dataframe thead th {\n",
       "        text-align: left;\n",
       "    }\n",
       "\n",
       "    .dataframe tbody tr th {\n",
       "        vertical-align: top;\n",
       "    }\n",
       "</style>\n",
       "<table border=\"1\" class=\"dataframe\">\n",
       "  <thead>\n",
       "    <tr style=\"text-align: right;\">\n",
       "      <th></th>\n",
       "      <th>Year</th>\n",
       "      <th>Month</th>\n",
       "      <th>MEI</th>\n",
       "      <th>CO2</th>\n",
       "      <th>CH4</th>\n",
       "      <th>N2O</th>\n",
       "      <th>CFC-11</th>\n",
       "      <th>CFC-12</th>\n",
       "      <th>TSI</th>\n",
       "      <th>Aerosols</th>\n",
       "      <th>Temp</th>\n",
       "    </tr>\n",
       "  </thead>\n",
       "  <tbody>\n",
       "    <tr>\n",
       "      <th>0</th>\n",
       "      <td>1983</td>\n",
       "      <td>5</td>\n",
       "      <td>2.556</td>\n",
       "      <td>345.96</td>\n",
       "      <td>1638.59</td>\n",
       "      <td>303.677</td>\n",
       "      <td>191.324</td>\n",
       "      <td>350.113</td>\n",
       "      <td>1366.1024</td>\n",
       "      <td>0.0863</td>\n",
       "      <td>0.109</td>\n",
       "    </tr>\n",
       "    <tr>\n",
       "      <th>1</th>\n",
       "      <td>1983</td>\n",
       "      <td>6</td>\n",
       "      <td>2.167</td>\n",
       "      <td>345.52</td>\n",
       "      <td>1633.71</td>\n",
       "      <td>303.746</td>\n",
       "      <td>192.057</td>\n",
       "      <td>351.848</td>\n",
       "      <td>1366.1208</td>\n",
       "      <td>0.0794</td>\n",
       "      <td>0.118</td>\n",
       "    </tr>\n",
       "    <tr>\n",
       "      <th>2</th>\n",
       "      <td>1983</td>\n",
       "      <td>7</td>\n",
       "      <td>1.741</td>\n",
       "      <td>344.15</td>\n",
       "      <td>1633.22</td>\n",
       "      <td>303.795</td>\n",
       "      <td>192.818</td>\n",
       "      <td>353.725</td>\n",
       "      <td>1366.2850</td>\n",
       "      <td>0.0731</td>\n",
       "      <td>0.137</td>\n",
       "    </tr>\n",
       "    <tr>\n",
       "      <th>3</th>\n",
       "      <td>1983</td>\n",
       "      <td>8</td>\n",
       "      <td>1.130</td>\n",
       "      <td>342.25</td>\n",
       "      <td>1631.35</td>\n",
       "      <td>303.839</td>\n",
       "      <td>193.602</td>\n",
       "      <td>355.633</td>\n",
       "      <td>1366.4202</td>\n",
       "      <td>0.0673</td>\n",
       "      <td>0.176</td>\n",
       "    </tr>\n",
       "    <tr>\n",
       "      <th>4</th>\n",
       "      <td>1983</td>\n",
       "      <td>9</td>\n",
       "      <td>0.428</td>\n",
       "      <td>340.17</td>\n",
       "      <td>1648.40</td>\n",
       "      <td>303.901</td>\n",
       "      <td>194.392</td>\n",
       "      <td>357.465</td>\n",
       "      <td>1366.2335</td>\n",
       "      <td>0.0619</td>\n",
       "      <td>0.149</td>\n",
       "    </tr>\n",
       "  </tbody>\n",
       "</table>\n",
       "</div>"
      ],
      "text/plain": [
       "   Year  Month    MEI     CO2      CH4      N2O   CFC-11   CFC-12        TSI  \\\n",
       "0  1983      5  2.556  345.96  1638.59  303.677  191.324  350.113  1366.1024   \n",
       "1  1983      6  2.167  345.52  1633.71  303.746  192.057  351.848  1366.1208   \n",
       "2  1983      7  1.741  344.15  1633.22  303.795  192.818  353.725  1366.2850   \n",
       "3  1983      8  1.130  342.25  1631.35  303.839  193.602  355.633  1366.4202   \n",
       "4  1983      9  0.428  340.17  1648.40  303.901  194.392  357.465  1366.2335   \n",
       "\n",
       "   Aerosols   Temp  \n",
       "0    0.0863  0.109  \n",
       "1    0.0794  0.118  \n",
       "2    0.0731  0.137  \n",
       "3    0.0673  0.176  \n",
       "4    0.0619  0.149  "
      ]
     },
     "execution_count": 5,
     "metadata": {},
     "output_type": "execute_result"
    }
   ],
   "source": [
    "climateInfo.head()"
   ]
  },
  {
   "cell_type": "code",
   "execution_count": 6,
   "metadata": {},
   "outputs": [
    {
     "data": {
      "text/plain": [
       "Year        False\n",
       "Month       False\n",
       "MEI         False\n",
       "CO2         False\n",
       "CH4         False\n",
       "N2O         False\n",
       "CFC-11      False\n",
       "CFC-12      False\n",
       "TSI         False\n",
       "Aerosols    False\n",
       "Temp        False\n",
       "dtype: bool"
      ]
     },
     "execution_count": 6,
     "metadata": {},
     "output_type": "execute_result"
    }
   ],
   "source": [
    "climateInfo.isnull().any()"
   ]
  },
  {
   "cell_type": "markdown",
   "metadata": {},
   "source": [
    "#### Split the data into a training set and a test set. Training set will have all the observations up to and including 2006. Test set will have all the observations after 2006."
   ]
  },
  {
   "cell_type": "code",
   "execution_count": 8,
   "metadata": {},
   "outputs": [],
   "source": [
    "climateInfoUntil2006 = climateInfo[climateInfo['Year'] <= 2006]"
   ]
  },
  {
   "cell_type": "code",
   "execution_count": 9,
   "metadata": {},
   "outputs": [
    {
     "data": {
      "text/html": [
       "<div>\n",
       "<style>\n",
       "    .dataframe thead tr:only-child th {\n",
       "        text-align: right;\n",
       "    }\n",
       "\n",
       "    .dataframe thead th {\n",
       "        text-align: left;\n",
       "    }\n",
       "\n",
       "    .dataframe tbody tr th {\n",
       "        vertical-align: top;\n",
       "    }\n",
       "</style>\n",
       "<table border=\"1\" class=\"dataframe\">\n",
       "  <thead>\n",
       "    <tr style=\"text-align: right;\">\n",
       "      <th></th>\n",
       "      <th>Year</th>\n",
       "      <th>Month</th>\n",
       "      <th>MEI</th>\n",
       "      <th>CO2</th>\n",
       "      <th>CH4</th>\n",
       "      <th>N2O</th>\n",
       "      <th>CFC-11</th>\n",
       "      <th>CFC-12</th>\n",
       "      <th>TSI</th>\n",
       "      <th>Aerosols</th>\n",
       "      <th>Temp</th>\n",
       "    </tr>\n",
       "  </thead>\n",
       "  <tbody>\n",
       "    <tr>\n",
       "      <th>count</th>\n",
       "      <td>284.000000</td>\n",
       "      <td>284.000000</td>\n",
       "      <td>284.000000</td>\n",
       "      <td>284.000000</td>\n",
       "      <td>284.000000</td>\n",
       "      <td>284.000000</td>\n",
       "      <td>284.000000</td>\n",
       "      <td>284.000000</td>\n",
       "      <td>284.000000</td>\n",
       "      <td>284.000000</td>\n",
       "      <td>284.000000</td>\n",
       "    </tr>\n",
       "    <tr>\n",
       "      <th>mean</th>\n",
       "      <td>1994.661972</td>\n",
       "      <td>6.556338</td>\n",
       "      <td>0.341923</td>\n",
       "      <td>361.414261</td>\n",
       "      <td>1745.841479</td>\n",
       "      <td>311.657225</td>\n",
       "      <td>252.487092</td>\n",
       "      <td>494.217546</td>\n",
       "      <td>1366.101437</td>\n",
       "      <td>0.017721</td>\n",
       "      <td>0.247799</td>\n",
       "    </tr>\n",
       "    <tr>\n",
       "      <th>std</th>\n",
       "      <td>6.845996</td>\n",
       "      <td>3.446768</td>\n",
       "      <td>0.929639</td>\n",
       "      <td>11.439691</td>\n",
       "      <td>45.669846</td>\n",
       "      <td>4.758513</td>\n",
       "      <td>20.987671</td>\n",
       "      <td>59.046642</td>\n",
       "      <td>0.401283</td>\n",
       "      <td>0.030014</td>\n",
       "      <td>0.181136</td>\n",
       "    </tr>\n",
       "    <tr>\n",
       "      <th>min</th>\n",
       "      <td>1983.000000</td>\n",
       "      <td>1.000000</td>\n",
       "      <td>-1.586000</td>\n",
       "      <td>340.170000</td>\n",
       "      <td>1629.890000</td>\n",
       "      <td>303.677000</td>\n",
       "      <td>191.324000</td>\n",
       "      <td>350.113000</td>\n",
       "      <td>1365.426100</td>\n",
       "      <td>0.001600</td>\n",
       "      <td>-0.282000</td>\n",
       "    </tr>\n",
       "    <tr>\n",
       "      <th>25%</th>\n",
       "      <td>1989.000000</td>\n",
       "      <td>4.000000</td>\n",
       "      <td>-0.323000</td>\n",
       "      <td>352.315000</td>\n",
       "      <td>1716.347500</td>\n",
       "      <td>307.657000</td>\n",
       "      <td>249.557750</td>\n",
       "      <td>462.543000</td>\n",
       "      <td>1365.754550</td>\n",
       "      <td>0.002700</td>\n",
       "      <td>0.118000</td>\n",
       "    </tr>\n",
       "    <tr>\n",
       "      <th>50%</th>\n",
       "      <td>1995.000000</td>\n",
       "      <td>7.000000</td>\n",
       "      <td>0.308500</td>\n",
       "      <td>359.890000</td>\n",
       "      <td>1758.605000</td>\n",
       "      <td>310.849500</td>\n",
       "      <td>260.373500</td>\n",
       "      <td>522.089000</td>\n",
       "      <td>1366.054500</td>\n",
       "      <td>0.006200</td>\n",
       "      <td>0.232500</td>\n",
       "    </tr>\n",
       "    <tr>\n",
       "      <th>75%</th>\n",
       "      <td>2001.000000</td>\n",
       "      <td>10.000000</td>\n",
       "      <td>0.898000</td>\n",
       "      <td>370.585000</td>\n",
       "      <td>1781.637500</td>\n",
       "      <td>316.129250</td>\n",
       "      <td>267.448000</td>\n",
       "      <td>540.972750</td>\n",
       "      <td>1366.399275</td>\n",
       "      <td>0.014000</td>\n",
       "      <td>0.406500</td>\n",
       "    </tr>\n",
       "    <tr>\n",
       "      <th>max</th>\n",
       "      <td>2006.000000</td>\n",
       "      <td>12.000000</td>\n",
       "      <td>3.001000</td>\n",
       "      <td>384.980000</td>\n",
       "      <td>1808.150000</td>\n",
       "      <td>320.451000</td>\n",
       "      <td>271.494000</td>\n",
       "      <td>543.813000</td>\n",
       "      <td>1367.316200</td>\n",
       "      <td>0.149400</td>\n",
       "      <td>0.739000</td>\n",
       "    </tr>\n",
       "  </tbody>\n",
       "</table>\n",
       "</div>"
      ],
      "text/plain": [
       "              Year       Month         MEI         CO2          CH4  \\\n",
       "count   284.000000  284.000000  284.000000  284.000000   284.000000   \n",
       "mean   1994.661972    6.556338    0.341923  361.414261  1745.841479   \n",
       "std       6.845996    3.446768    0.929639   11.439691    45.669846   \n",
       "min    1983.000000    1.000000   -1.586000  340.170000  1629.890000   \n",
       "25%    1989.000000    4.000000   -0.323000  352.315000  1716.347500   \n",
       "50%    1995.000000    7.000000    0.308500  359.890000  1758.605000   \n",
       "75%    2001.000000   10.000000    0.898000  370.585000  1781.637500   \n",
       "max    2006.000000   12.000000    3.001000  384.980000  1808.150000   \n",
       "\n",
       "              N2O      CFC-11      CFC-12          TSI    Aerosols        Temp  \n",
       "count  284.000000  284.000000  284.000000   284.000000  284.000000  284.000000  \n",
       "mean   311.657225  252.487092  494.217546  1366.101437    0.017721    0.247799  \n",
       "std      4.758513   20.987671   59.046642     0.401283    0.030014    0.181136  \n",
       "min    303.677000  191.324000  350.113000  1365.426100    0.001600   -0.282000  \n",
       "25%    307.657000  249.557750  462.543000  1365.754550    0.002700    0.118000  \n",
       "50%    310.849500  260.373500  522.089000  1366.054500    0.006200    0.232500  \n",
       "75%    316.129250  267.448000  540.972750  1366.399275    0.014000    0.406500  \n",
       "max    320.451000  271.494000  543.813000  1367.316200    0.149400    0.739000  "
      ]
     },
     "execution_count": 9,
     "metadata": {},
     "output_type": "execute_result"
    }
   ],
   "source": [
    "climateInfoUntil2006.describe()"
   ]
  },
  {
   "cell_type": "markdown",
   "metadata": {},
   "source": [
    "#### build a linear regression model to predict the dependent variable Temp, using MEI, CO2, CH4, N2O, CFC.11, CFC.12, TSI, and Aerosols as independent variables."
   ]
  },
  {
   "cell_type": "code",
   "execution_count": 10,
   "metadata": {
    "collapsed": true
   },
   "outputs": [],
   "source": [
    "X_train_until_2006 = climateInfoUntil2006[['MEI', 'CO2', 'CH4', 'N2O', 'CFC-11', 'CFC-12', 'TSI', 'Aerosols']]\n",
    "y_train_until_2006 = climateInfoUntil2006[['Temp']]"
   ]
  },
  {
   "cell_type": "code",
   "execution_count": 11,
   "metadata": {
    "collapsed": true
   },
   "outputs": [],
   "source": [
    "linear_regression = linear_model.LinearRegression()"
   ]
  },
  {
   "cell_type": "code",
   "execution_count": 12,
   "metadata": {},
   "outputs": [
    {
     "data": {
      "text/plain": [
       "LinearRegression(copy_X=True, fit_intercept=True, n_jobs=1, normalize=False)"
      ]
     },
     "execution_count": 12,
     "metadata": {},
     "output_type": "execute_result"
    }
   ],
   "source": [
    "linear_regression.fit(X_train_until_2006, y_train_until_2006)"
   ]
  },
  {
   "cell_type": "code",
   "execution_count": 13,
   "metadata": {},
   "outputs": [
    {
     "data": {
      "text/plain": [
       "array([[  6.42053134e-02,   6.45735927e-03,   1.24041896e-04,\n",
       "         -1.65280033e-02,  -6.63048889e-03,   3.80810324e-03,\n",
       "          9.31410835e-02,  -1.53761324e+00]])"
      ]
     },
     "execution_count": 13,
     "metadata": {},
     "output_type": "execute_result"
    }
   ],
   "source": [
    "linear_regression.coef_"
   ]
  },
  {
   "cell_type": "code",
   "execution_count": 14,
   "metadata": {},
   "outputs": [
    {
     "data": {
      "text/plain": [
       "array([-124.5942604])"
      ]
     },
     "execution_count": 14,
     "metadata": {},
     "output_type": "execute_result"
    }
   ],
   "source": [
    "linear_regression.intercept_"
   ]
  },
  {
   "cell_type": "code",
   "execution_count": 15,
   "metadata": {},
   "outputs": [
    {
     "data": {
      "text/plain": [
       "0.75089327705234177"
      ]
     },
     "execution_count": 15,
     "metadata": {},
     "output_type": "execute_result"
    }
   ],
   "source": [
    "linear_regression.score(X_train_until_2006, y_train_until_2006)"
   ]
  },
  {
   "cell_type": "markdown",
   "metadata": {},
   "source": [
    "\\begin{equation*}\n",
    "R^2   = 0.75\n",
    "\\end{equation*}"
   ]
  },
  {
   "cell_type": "markdown",
   "metadata": {},
   "source": [
    "***"
   ]
  },
  {
   "cell_type": "code",
   "execution_count": 18,
   "metadata": {
    "collapsed": true
   },
   "outputs": [],
   "source": [
    "from sklearn import feature_selection"
   ]
  },
  {
   "cell_type": "code",
   "execution_count": 19,
   "metadata": {},
   "outputs": [
    {
     "name": "stderr",
     "output_type": "stream",
     "text": [
      "C:\\Users\\Vivek\\Anaconda3\\lib\\site-packages\\sklearn\\utils\\validation.py:526: DataConversionWarning: A column-vector y was passed when a 1d array was expected. Please change the shape of y to (n_samples, ), for example using ravel().\n",
      "  y = column_or_1d(y, warn=True)\n"
     ]
    },
    {
     "data": {
      "text/plain": [
       "(array([   8.64559024,  463.59447651,  275.9381421 ,  434.2424694 ,\n",
       "          56.22183027,  252.83581202,   17.75609183,   49.04753697]),\n",
       " array([  3.55017288e-03,   1.74154020e-61,   1.10728523e-43,\n",
       "          5.07880389e-59,   8.44135858e-13,   4.40016348e-41,\n",
       "          3.38363685e-05,   1.83341730e-11]))"
      ]
     },
     "execution_count": 19,
     "metadata": {},
     "output_type": "execute_result"
    }
   ],
   "source": [
    "feature_selection.f_regression(X_train_until_2006, y_train_until_2006)"
   ]
  },
  {
   "cell_type": "markdown",
   "metadata": {},
   "source": [
    "#### Which variables are significant in the model? We will consider a variable signficant only if the p-value is below 0.05. \n",
    "\n",
    "- MEI\n",
    "- C02\n",
    "- CFC-11\n",
    "- CFC-12\n",
    "- TSI\n",
    "- Aerosols"
   ]
  },
  {
   "cell_type": "code",
   "execution_count": 20,
   "metadata": {},
   "outputs": [
    {
     "name": "stderr",
     "output_type": "stream",
     "text": [
      "C:\\Users\\Vivek\\Anaconda3\\lib\\site-packages\\statsmodels\\compat\\pandas.py:56: FutureWarning: The pandas.core.datetools module is deprecated and will be removed in a future version. Please use the pandas.tseries module instead.\n",
      "  from pandas.core import datetools\n"
     ]
    },
    {
     "data": {
      "text/html": [
       "<table class=\"simpletable\">\n",
       "<caption>OLS Regression Results</caption>\n",
       "<tr>\n",
       "  <th>Dep. Variable:</th>          <td>Temp</td>       <th>  R-squared:         </th> <td>   0.751</td>\n",
       "</tr>\n",
       "<tr>\n",
       "  <th>Model:</th>                   <td>OLS</td>       <th>  Adj. R-squared:    </th> <td>   0.744</td>\n",
       "</tr>\n",
       "<tr>\n",
       "  <th>Method:</th>             <td>Least Squares</td>  <th>  F-statistic:       </th> <td>   103.6</td>\n",
       "</tr>\n",
       "<tr>\n",
       "  <th>Date:</th>             <td>Sun, 14 Oct 2018</td> <th>  Prob (F-statistic):</th> <td>1.94e-78</td>\n",
       "</tr>\n",
       "<tr>\n",
       "  <th>Time:</th>                 <td>07:32:46</td>     <th>  Log-Likelihood:    </th> <td>  280.10</td>\n",
       "</tr>\n",
       "<tr>\n",
       "  <th>No. Observations:</th>      <td>   284</td>      <th>  AIC:               </th> <td>  -542.2</td>\n",
       "</tr>\n",
       "<tr>\n",
       "  <th>Df Residuals:</th>          <td>   275</td>      <th>  BIC:               </th> <td>  -509.4</td>\n",
       "</tr>\n",
       "<tr>\n",
       "  <th>Df Model:</th>              <td>     8</td>      <th>                     </th>     <td> </td>   \n",
       "</tr>\n",
       "<tr>\n",
       "  <th>Covariance Type:</th>      <td>nonrobust</td>    <th>                     </th>     <td> </td>   \n",
       "</tr>\n",
       "</table>\n",
       "<table class=\"simpletable\">\n",
       "<tr>\n",
       "      <td></td>        <th>coef</th>     <th>std err</th>      <th>t</th>      <th>P>|t|</th>  <th>[0.025</th>    <th>0.975]</th>  \n",
       "</tr>\n",
       "<tr>\n",
       "  <th>const</th>    <td> -124.5943</td> <td>   19.887</td> <td>   -6.265</td> <td> 0.000</td> <td> -163.744</td> <td>  -85.445</td>\n",
       "</tr>\n",
       "<tr>\n",
       "  <th>MEI</th>      <td>    0.0642</td> <td>    0.006</td> <td>    9.923</td> <td> 0.000</td> <td>    0.051</td> <td>    0.077</td>\n",
       "</tr>\n",
       "<tr>\n",
       "  <th>CO2</th>      <td>    0.0065</td> <td>    0.002</td> <td>    2.826</td> <td> 0.005</td> <td>    0.002</td> <td>    0.011</td>\n",
       "</tr>\n",
       "<tr>\n",
       "  <th>CH4</th>      <td>    0.0001</td> <td>    0.001</td> <td>    0.240</td> <td> 0.810</td> <td>   -0.001</td> <td>    0.001</td>\n",
       "</tr>\n",
       "<tr>\n",
       "  <th>N2O</th>      <td>   -0.0165</td> <td>    0.009</td> <td>   -1.930</td> <td> 0.055</td> <td>   -0.033</td> <td>    0.000</td>\n",
       "</tr>\n",
       "<tr>\n",
       "  <th>CFC-11</th>   <td>   -0.0066</td> <td>    0.002</td> <td>   -4.078</td> <td> 0.000</td> <td>   -0.010</td> <td>   -0.003</td>\n",
       "</tr>\n",
       "<tr>\n",
       "  <th>CFC-12</th>   <td>    0.0038</td> <td>    0.001</td> <td>    3.757</td> <td> 0.000</td> <td>    0.002</td> <td>    0.006</td>\n",
       "</tr>\n",
       "<tr>\n",
       "  <th>TSI</th>      <td>    0.0931</td> <td>    0.015</td> <td>    6.313</td> <td> 0.000</td> <td>    0.064</td> <td>    0.122</td>\n",
       "</tr>\n",
       "<tr>\n",
       "  <th>Aerosols</th> <td>   -1.5376</td> <td>    0.213</td> <td>   -7.210</td> <td> 0.000</td> <td>   -1.957</td> <td>   -1.118</td>\n",
       "</tr>\n",
       "</table>\n",
       "<table class=\"simpletable\">\n",
       "<tr>\n",
       "  <th>Omnibus:</th>       <td> 8.740</td> <th>  Durbin-Watson:     </th> <td>   0.956</td>\n",
       "</tr>\n",
       "<tr>\n",
       "  <th>Prob(Omnibus):</th> <td> 0.013</td> <th>  Jarque-Bera (JB):  </th> <td>  10.327</td>\n",
       "</tr>\n",
       "<tr>\n",
       "  <th>Skew:</th>          <td> 0.289</td> <th>  Prob(JB):          </th> <td> 0.00572</td>\n",
       "</tr>\n",
       "<tr>\n",
       "  <th>Kurtosis:</th>      <td> 3.733</td> <th>  Cond. No.          </th> <td>8.53e+06</td>\n",
       "</tr>\n",
       "</table>"
      ],
      "text/plain": [
       "<class 'statsmodels.iolib.summary.Summary'>\n",
       "\"\"\"\n",
       "                            OLS Regression Results                            \n",
       "==============================================================================\n",
       "Dep. Variable:                   Temp   R-squared:                       0.751\n",
       "Model:                            OLS   Adj. R-squared:                  0.744\n",
       "Method:                 Least Squares   F-statistic:                     103.6\n",
       "Date:                Sun, 14 Oct 2018   Prob (F-statistic):           1.94e-78\n",
       "Time:                        07:32:46   Log-Likelihood:                 280.10\n",
       "No. Observations:                 284   AIC:                            -542.2\n",
       "Df Residuals:                     275   BIC:                            -509.4\n",
       "Df Model:                           8                                         \n",
       "Covariance Type:            nonrobust                                         \n",
       "==============================================================================\n",
       "                 coef    std err          t      P>|t|      [0.025      0.975]\n",
       "------------------------------------------------------------------------------\n",
       "const       -124.5943     19.887     -6.265      0.000    -163.744     -85.445\n",
       "MEI            0.0642      0.006      9.923      0.000       0.051       0.077\n",
       "CO2            0.0065      0.002      2.826      0.005       0.002       0.011\n",
       "CH4            0.0001      0.001      0.240      0.810      -0.001       0.001\n",
       "N2O           -0.0165      0.009     -1.930      0.055      -0.033       0.000\n",
       "CFC-11        -0.0066      0.002     -4.078      0.000      -0.010      -0.003\n",
       "CFC-12         0.0038      0.001      3.757      0.000       0.002       0.006\n",
       "TSI            0.0931      0.015      6.313      0.000       0.064       0.122\n",
       "Aerosols      -1.5376      0.213     -7.210      0.000      -1.957      -1.118\n",
       "==============================================================================\n",
       "Omnibus:                        8.740   Durbin-Watson:                   0.956\n",
       "Prob(Omnibus):                  0.013   Jarque-Bera (JB):               10.327\n",
       "Skew:                           0.289   Prob(JB):                      0.00572\n",
       "Kurtosis:                       3.733   Cond. No.                     8.53e+06\n",
       "==============================================================================\n",
       "\n",
       "Warnings:\n",
       "[1] Standard Errors assume that the covariance matrix of the errors is correctly specified.\n",
       "[2] The condition number is large, 8.53e+06. This might indicate that there are\n",
       "strong multicollinearity or other numerical problems.\n",
       "\"\"\""
      ]
     },
     "execution_count": 20,
     "metadata": {},
     "output_type": "execute_result"
    }
   ],
   "source": [
    "import statsmodels.api as sm\n",
    "\n",
    "X = sm.add_constant(X_train_until_2006)\n",
    "\n",
    "model = sm.OLS(y_train_until_2006, X).fit()\n",
    "\n",
    "model.summary()"
   ]
  },
  {
   "cell_type": "markdown",
   "metadata": {},
   "source": [
    "***"
   ]
  },
  {
   "cell_type": "markdown",
   "metadata": {},
   "source": [
    "#### Current scientific opinion is that nitrous oxide and CFC-11 are greenhouse gases: gases that are able to trap heat from the sun and contribute to the heating of the Earth. However, the regression coefficients of both the N2O and CFC-11 variables are negative, indicating that increasing atmospheric concentrations of either of these two compounds is associated with lower global temperatures.\n",
    "\n",
    "#### Which of the following is the simplest correct explanation for this contradiction?\n",
    "1. Climate scientists are wrong that N2O and CFC-11 are greenhouse gases - this regression analysis constitutes part of a disproof.\n",
    "2. There is not enough data, so the regression coefficients being estimated are not accurate.\n",
    "3. All of the gas concentration variables reflect human development - N2O and CFC.11 are correlated with other variables in the data set.\n",
    "\n",
    "#### Answer: 3\n",
    "\n",
    "#### Explanation:\n",
    "#### The linear correlation of N2O and CFC.11 with other variables in the data set is quite large. The first explanation does not seem correct, as the warming effect of nitrous oxide and CFC-11 are well documented, and our regression analysis is not enough to disprove it. The second explanation is unlikely, as we have estimated eight coefficients and the intercept from 284 observations."
   ]
  },
  {
   "cell_type": "markdown",
   "metadata": {},
   "source": [
    "***"
   ]
  },
  {
   "cell_type": "code",
   "execution_count": 21,
   "metadata": {},
   "outputs": [
    {
     "data": {
      "text/html": [
       "<div>\n",
       "<style>\n",
       "    .dataframe thead tr:only-child th {\n",
       "        text-align: right;\n",
       "    }\n",
       "\n",
       "    .dataframe thead th {\n",
       "        text-align: left;\n",
       "    }\n",
       "\n",
       "    .dataframe tbody tr th {\n",
       "        vertical-align: top;\n",
       "    }\n",
       "</style>\n",
       "<table border=\"1\" class=\"dataframe\">\n",
       "  <thead>\n",
       "    <tr style=\"text-align: right;\">\n",
       "      <th></th>\n",
       "      <th>MEI</th>\n",
       "      <th>CO2</th>\n",
       "      <th>CH4</th>\n",
       "      <th>N2O</th>\n",
       "      <th>CFC-11</th>\n",
       "      <th>CFC-12</th>\n",
       "      <th>TSI</th>\n",
       "      <th>Aerosols</th>\n",
       "    </tr>\n",
       "  </thead>\n",
       "  <tbody>\n",
       "    <tr>\n",
       "      <th>MEI</th>\n",
       "      <td>1.000000</td>\n",
       "      <td>-0.041147</td>\n",
       "      <td>-0.033419</td>\n",
       "      <td>-0.050820</td>\n",
       "      <td>0.069000</td>\n",
       "      <td>0.008286</td>\n",
       "      <td>-0.154492</td>\n",
       "      <td>0.340238</td>\n",
       "    </tr>\n",
       "    <tr>\n",
       "      <th>CO2</th>\n",
       "      <td>-0.041147</td>\n",
       "      <td>1.000000</td>\n",
       "      <td>0.877280</td>\n",
       "      <td>0.976720</td>\n",
       "      <td>0.514060</td>\n",
       "      <td>0.852690</td>\n",
       "      <td>0.177429</td>\n",
       "      <td>-0.356155</td>\n",
       "    </tr>\n",
       "    <tr>\n",
       "      <th>CH4</th>\n",
       "      <td>-0.033419</td>\n",
       "      <td>0.877280</td>\n",
       "      <td>1.000000</td>\n",
       "      <td>0.899839</td>\n",
       "      <td>0.779904</td>\n",
       "      <td>0.963616</td>\n",
       "      <td>0.245528</td>\n",
       "      <td>-0.267809</td>\n",
       "    </tr>\n",
       "    <tr>\n",
       "      <th>N2O</th>\n",
       "      <td>-0.050820</td>\n",
       "      <td>0.976720</td>\n",
       "      <td>0.899839</td>\n",
       "      <td>1.000000</td>\n",
       "      <td>0.522477</td>\n",
       "      <td>0.867931</td>\n",
       "      <td>0.199757</td>\n",
       "      <td>-0.337055</td>\n",
       "    </tr>\n",
       "    <tr>\n",
       "      <th>CFC-11</th>\n",
       "      <td>0.069000</td>\n",
       "      <td>0.514060</td>\n",
       "      <td>0.779904</td>\n",
       "      <td>0.522477</td>\n",
       "      <td>1.000000</td>\n",
       "      <td>0.868985</td>\n",
       "      <td>0.272046</td>\n",
       "      <td>-0.043921</td>\n",
       "    </tr>\n",
       "    <tr>\n",
       "      <th>CFC-12</th>\n",
       "      <td>0.008286</td>\n",
       "      <td>0.852690</td>\n",
       "      <td>0.963616</td>\n",
       "      <td>0.867931</td>\n",
       "      <td>0.868985</td>\n",
       "      <td>1.000000</td>\n",
       "      <td>0.255303</td>\n",
       "      <td>-0.225131</td>\n",
       "    </tr>\n",
       "    <tr>\n",
       "      <th>TSI</th>\n",
       "      <td>-0.154492</td>\n",
       "      <td>0.177429</td>\n",
       "      <td>0.245528</td>\n",
       "      <td>0.199757</td>\n",
       "      <td>0.272046</td>\n",
       "      <td>0.255303</td>\n",
       "      <td>1.000000</td>\n",
       "      <td>0.052117</td>\n",
       "    </tr>\n",
       "    <tr>\n",
       "      <th>Aerosols</th>\n",
       "      <td>0.340238</td>\n",
       "      <td>-0.356155</td>\n",
       "      <td>-0.267809</td>\n",
       "      <td>-0.337055</td>\n",
       "      <td>-0.043921</td>\n",
       "      <td>-0.225131</td>\n",
       "      <td>0.052117</td>\n",
       "      <td>1.000000</td>\n",
       "    </tr>\n",
       "  </tbody>\n",
       "</table>\n",
       "</div>"
      ],
      "text/plain": [
       "               MEI       CO2       CH4       N2O    CFC-11    CFC-12  \\\n",
       "MEI       1.000000 -0.041147 -0.033419 -0.050820  0.069000  0.008286   \n",
       "CO2      -0.041147  1.000000  0.877280  0.976720  0.514060  0.852690   \n",
       "CH4      -0.033419  0.877280  1.000000  0.899839  0.779904  0.963616   \n",
       "N2O      -0.050820  0.976720  0.899839  1.000000  0.522477  0.867931   \n",
       "CFC-11    0.069000  0.514060  0.779904  0.522477  1.000000  0.868985   \n",
       "CFC-12    0.008286  0.852690  0.963616  0.867931  0.868985  1.000000   \n",
       "TSI      -0.154492  0.177429  0.245528  0.199757  0.272046  0.255303   \n",
       "Aerosols  0.340238 -0.356155 -0.267809 -0.337055 -0.043921 -0.225131   \n",
       "\n",
       "               TSI  Aerosols  \n",
       "MEI      -0.154492  0.340238  \n",
       "CO2       0.177429 -0.356155  \n",
       "CH4       0.245528 -0.267809  \n",
       "N2O       0.199757 -0.337055  \n",
       "CFC-11    0.272046 -0.043921  \n",
       "CFC-12    0.255303 -0.225131  \n",
       "TSI       1.000000  0.052117  \n",
       "Aerosols  0.052117  1.000000  "
      ]
     },
     "execution_count": 21,
     "metadata": {},
     "output_type": "execute_result"
    }
   ],
   "source": [
    "X_train_until_2006.corr()"
   ]
  },
  {
   "cell_type": "markdown",
   "metadata": {},
   "source": [
    "#### Compute the correlations between all the variables in the training set. Which of the independent variables is N2O highly correlated with (absolute correlation greater than 0.7).\n",
    "- C02\n",
    "- CH4\n",
    "- CFC-12\n",
    "\n",
    "\n",
    "#### Which of the independent variables is CFC.11 highly correlated with?\n",
    "- CH4\n",
    "- CFC-12"
   ]
  },
  {
   "cell_type": "markdown",
   "metadata": {},
   "source": [
    "#### Given that the correlations are so high, let us focus on the N2O variable and build a model with only MEI, TSI, Aerosols and N2O as independent variables. Remember to use the training set to build the model."
   ]
  },
  {
   "cell_type": "code",
   "execution_count": 22,
   "metadata": {
    "collapsed": true
   },
   "outputs": [],
   "source": [
    "X_train_N2O = climateInfoUntil2006[['MEI', 'TSI', 'Aerosols', 'N2O']]"
   ]
  },
  {
   "cell_type": "code",
   "execution_count": 23,
   "metadata": {},
   "outputs": [
    {
     "data": {
      "text/plain": [
       "LinearRegression(copy_X=True, fit_intercept=True, n_jobs=1, normalize=False)"
      ]
     },
     "execution_count": 23,
     "metadata": {},
     "output_type": "execute_result"
    }
   ],
   "source": [
    "linear_regression.fit(X_train_N2O, y_train_until_2006)"
   ]
  },
  {
   "cell_type": "code",
   "execution_count": 24,
   "metadata": {},
   "outputs": [
    {
     "data": {
      "text/plain": [
       "array([[ 0.06418576,  0.07949028, -1.70173707,  0.02531975]])"
      ]
     },
     "execution_count": 24,
     "metadata": {},
     "output_type": "execute_result"
    }
   ],
   "source": [
    "linear_regression.coef_"
   ]
  },
  {
   "cell_type": "code",
   "execution_count": 25,
   "metadata": {},
   "outputs": [
    {
     "data": {
      "text/plain": [
       "0.72613212795111437"
      ]
     },
     "execution_count": 25,
     "metadata": {},
     "output_type": "execute_result"
    }
   ],
   "source": [
    "linear_regression.score(X_train_N2O, y_train_until_2006)"
   ]
  },
  {
   "cell_type": "markdown",
   "metadata": {},
   "source": [
    "#### What is the coefficient of N2O in this reduced model?\n",
    "\n",
    "0.02531975"
   ]
  },
  {
   "cell_type": "markdown",
   "metadata": {},
   "source": [
    "(How does this compare to the coefficient in the previous model with all of the variables?)\n",
    "\n",
    "Enter the model ** R^2 **: *0.72613212795111437*"
   ]
  },
  {
   "cell_type": "markdown",
   "metadata": {},
   "source": [
    "#### Explanation:\n",
    "#### We have observed that, for this problem, when we remove many variables the sign of N2O flips. The model has not lost a lot of explanatory power (the model R^2 is 0.7261 compared to 0.7509 previously) despite removing many variables. This type of behavior is typical when building a model where many of the independent variables are highly correlated with each other. In this particular problem many of the variables (CO2, CH4, N2O, CFC.11 and CFC.12) are highly correlated, since they are all driven by human industrial development."
   ]
  },
  {
   "cell_type": "markdown",
   "metadata": {},
   "source": [
    "***"
   ]
  },
  {
   "cell_type": "markdown",
   "metadata": {},
   "source": [
    "#### We have many variables in this problem, and as we have seen above, dropping some from the model does not decrease model quality. R provides a function, step, that will automate the procedure of trying different combinations of variables to find a good compromise of model simplicity and R2. This trade-off is formalized by the Akaike information criterion (AIC) - it can be informally thought of as the quality of the model with a penalty for the number of variables in the model."
   ]
  },
  {
   "cell_type": "markdown",
   "metadata": {},
   "source": [
    "<font color = 'Blue'>Stepwise regression or Forward selection should be used for this </font>"
   ]
  },
  {
   "cell_type": "markdown",
   "metadata": {},
   "source": [
    "***"
   ]
  },
  {
   "cell_type": "markdown",
   "metadata": {},
   "source": [
    "#### We have developed an understanding of how well we can fit a linear regression to the training data, but does the model quality hold when applied to unseen data?\n",
    "\n",
    "#### Using the model produced from the step function, calculate temperature predictions for the testing data set, using the predict function.\n",
    "\n",
    "#### What is the testing set R2?"
   ]
  },
  {
   "cell_type": "code",
   "execution_count": 26,
   "metadata": {
    "collapsed": true
   },
   "outputs": [],
   "source": [
    "X_train_after_stepwise = climateInfo[['MEI', 'CO2', 'N2O', 'CFC-11', 'CFC-12', 'TSI', 'Aerosols']]\n",
    "y_train = climateInfo[['Temp']]"
   ]
  },
  {
   "cell_type": "code",
   "execution_count": 40,
   "metadata": {},
   "outputs": [
    {
     "data": {
      "text/plain": [
       "LinearRegression(copy_X=True, fit_intercept=True, n_jobs=1, normalize=False)"
      ]
     },
     "execution_count": 40,
     "metadata": {},
     "output_type": "execute_result"
    }
   ],
   "source": [
    "linear_regression.fit(X_train_after_stepwise, y_train)"
   ]
  },
  {
   "cell_type": "code",
   "execution_count": 28,
   "metadata": {},
   "outputs": [
    {
     "data": {
      "text/plain": [
       "array([[ 0.06624108,  0.00517642, -0.01662986, -0.00726059,  0.00429837,\n",
       "         0.09581909, -1.58299668]])"
      ]
     },
     "execution_count": 28,
     "metadata": {},
     "output_type": "execute_result"
    }
   ],
   "source": [
    "linear_regression.coef_"
   ]
  },
  {
   "cell_type": "code",
   "execution_count": 29,
   "metadata": {},
   "outputs": [
    {
     "data": {
      "text/plain": [
       "array([-127.6250267])"
      ]
     },
     "execution_count": 29,
     "metadata": {},
     "output_type": "execute_result"
    }
   ],
   "source": [
    "linear_regression.intercept_"
   ]
  },
  {
   "cell_type": "code",
   "execution_count": 39,
   "metadata": {},
   "outputs": [
    {
     "data": {
      "text/plain": [
       "0.74397992690010106"
      ]
     },
     "execution_count": 39,
     "metadata": {},
     "output_type": "execute_result"
    }
   ],
   "source": [
    "linear_regression.score(X_train_after_stepwise, y_train)"
   ]
  },
  {
   "cell_type": "code",
   "execution_count": 30,
   "metadata": {
    "collapsed": true
   },
   "outputs": [],
   "source": [
    "climateInfoAfter2006 = climateInfo[climateInfo['Year'] > 2006]"
   ]
  },
  {
   "cell_type": "code",
   "execution_count": 31,
   "metadata": {},
   "outputs": [
    {
     "data": {
      "text/html": [
       "<div>\n",
       "<style>\n",
       "    .dataframe thead tr:only-child th {\n",
       "        text-align: right;\n",
       "    }\n",
       "\n",
       "    .dataframe thead th {\n",
       "        text-align: left;\n",
       "    }\n",
       "\n",
       "    .dataframe tbody tr th {\n",
       "        vertical-align: top;\n",
       "    }\n",
       "</style>\n",
       "<table border=\"1\" class=\"dataframe\">\n",
       "  <thead>\n",
       "    <tr style=\"text-align: right;\">\n",
       "      <th></th>\n",
       "      <th>Year</th>\n",
       "      <th>Month</th>\n",
       "      <th>MEI</th>\n",
       "      <th>CO2</th>\n",
       "      <th>CH4</th>\n",
       "      <th>N2O</th>\n",
       "      <th>CFC-11</th>\n",
       "      <th>CFC-12</th>\n",
       "      <th>TSI</th>\n",
       "      <th>Aerosols</th>\n",
       "      <th>Temp</th>\n",
       "    </tr>\n",
       "  </thead>\n",
       "  <tbody>\n",
       "    <tr>\n",
       "      <th>284</th>\n",
       "      <td>2007</td>\n",
       "      <td>1</td>\n",
       "      <td>0.974</td>\n",
       "      <td>382.93</td>\n",
       "      <td>1799.66</td>\n",
       "      <td>320.561</td>\n",
       "      <td>248.372</td>\n",
       "      <td>539.206</td>\n",
       "      <td>1365.7173</td>\n",
       "      <td>0.0054</td>\n",
       "      <td>0.601</td>\n",
       "    </tr>\n",
       "    <tr>\n",
       "      <th>285</th>\n",
       "      <td>2007</td>\n",
       "      <td>2</td>\n",
       "      <td>0.510</td>\n",
       "      <td>383.81</td>\n",
       "      <td>1803.08</td>\n",
       "      <td>320.571</td>\n",
       "      <td>248.264</td>\n",
       "      <td>538.973</td>\n",
       "      <td>1365.7145</td>\n",
       "      <td>0.0051</td>\n",
       "      <td>0.498</td>\n",
       "    </tr>\n",
       "    <tr>\n",
       "      <th>286</th>\n",
       "      <td>2007</td>\n",
       "      <td>3</td>\n",
       "      <td>0.074</td>\n",
       "      <td>384.56</td>\n",
       "      <td>1803.10</td>\n",
       "      <td>320.548</td>\n",
       "      <td>247.997</td>\n",
       "      <td>538.811</td>\n",
       "      <td>1365.7544</td>\n",
       "      <td>0.0045</td>\n",
       "      <td>0.435</td>\n",
       "    </tr>\n",
       "    <tr>\n",
       "      <th>287</th>\n",
       "      <td>2007</td>\n",
       "      <td>4</td>\n",
       "      <td>-0.049</td>\n",
       "      <td>386.40</td>\n",
       "      <td>1802.11</td>\n",
       "      <td>320.518</td>\n",
       "      <td>247.574</td>\n",
       "      <td>538.586</td>\n",
       "      <td>1365.7228</td>\n",
       "      <td>0.0045</td>\n",
       "      <td>0.466</td>\n",
       "    </tr>\n",
       "    <tr>\n",
       "      <th>288</th>\n",
       "      <td>2007</td>\n",
       "      <td>5</td>\n",
       "      <td>0.183</td>\n",
       "      <td>386.58</td>\n",
       "      <td>1795.65</td>\n",
       "      <td>320.445</td>\n",
       "      <td>247.224</td>\n",
       "      <td>538.130</td>\n",
       "      <td>1365.6932</td>\n",
       "      <td>0.0041</td>\n",
       "      <td>0.372</td>\n",
       "    </tr>\n",
       "  </tbody>\n",
       "</table>\n",
       "</div>"
      ],
      "text/plain": [
       "     Year  Month    MEI     CO2      CH4      N2O   CFC-11   CFC-12  \\\n",
       "284  2007      1  0.974  382.93  1799.66  320.561  248.372  539.206   \n",
       "285  2007      2  0.510  383.81  1803.08  320.571  248.264  538.973   \n",
       "286  2007      3  0.074  384.56  1803.10  320.548  247.997  538.811   \n",
       "287  2007      4 -0.049  386.40  1802.11  320.518  247.574  538.586   \n",
       "288  2007      5  0.183  386.58  1795.65  320.445  247.224  538.130   \n",
       "\n",
       "           TSI  Aerosols   Temp  \n",
       "284  1365.7173    0.0054  0.601  \n",
       "285  1365.7145    0.0051  0.498  \n",
       "286  1365.7544    0.0045  0.435  \n",
       "287  1365.7228    0.0045  0.466  \n",
       "288  1365.6932    0.0041  0.372  "
      ]
     },
     "execution_count": 31,
     "metadata": {},
     "output_type": "execute_result"
    }
   ],
   "source": [
    "climateInfoAfter2006.head()"
   ]
  },
  {
   "cell_type": "code",
   "execution_count": 32,
   "metadata": {},
   "outputs": [
    {
     "name": "stdout",
     "output_type": "stream",
     "text": [
      "<class 'pandas.core.frame.DataFrame'>\n",
      "Int64Index: 24 entries, 284 to 307\n",
      "Data columns (total 11 columns):\n",
      "Year        24 non-null int64\n",
      "Month       24 non-null int64\n",
      "MEI         24 non-null float64\n",
      "CO2         24 non-null float64\n",
      "CH4         24 non-null float64\n",
      "N2O         24 non-null float64\n",
      "CFC-11      24 non-null float64\n",
      "CFC-12      24 non-null float64\n",
      "TSI         24 non-null float64\n",
      "Aerosols    24 non-null float64\n",
      "Temp        24 non-null float64\n",
      "dtypes: float64(9), int64(2)\n",
      "memory usage: 2.2 KB\n"
     ]
    }
   ],
   "source": [
    "climateInfoAfter2006.info()"
   ]
  },
  {
   "cell_type": "code",
   "execution_count": 33,
   "metadata": {
    "collapsed": true
   },
   "outputs": [],
   "source": [
    "X_test = climateInfoAfter2006[['MEI', 'CO2', 'N2O', 'CFC-11', 'CFC-12', 'TSI', 'Aerosols']]"
   ]
  },
  {
   "cell_type": "code",
   "execution_count": 36,
   "metadata": {
    "collapsed": true
   },
   "outputs": [],
   "source": [
    "y_test = climateInfoAfter2006[['Temp']]"
   ]
  },
  {
   "cell_type": "code",
   "execution_count": 43,
   "metadata": {
    "collapsed": true
   },
   "outputs": [],
   "source": [
    "y_pred = linear_regression.predict(X_test)"
   ]
  },
  {
   "cell_type": "code",
   "execution_count": 35,
   "metadata": {
    "collapsed": true
   },
   "outputs": [],
   "source": [
    "from sklearn.metrics import mean_squared_error, r2_score"
   ]
  },
  {
   "cell_type": "code",
   "execution_count": 44,
   "metadata": {},
   "outputs": [
    {
     "name": "stdout",
     "output_type": "stream",
     "text": [
      "Mean squared error  0.00842994374592\n"
     ]
    }
   ],
   "source": [
    "#Mean squared error\n",
    "print(\"Mean squared error \", mean_squared_error(y_test, y_pred))"
   ]
  },
  {
   "cell_type": "code",
   "execution_count": 47,
   "metadata": {},
   "outputs": [
    {
     "name": "stdout",
     "output_type": "stream",
     "text": [
      "Variance score - r2 score 0.243696871511\n"
     ]
    }
   ],
   "source": [
    "#Explained variance score: 1 is perfect prediction\n",
    "print('Variance score - r2 score', r2_score(y_test, y_pred))"
   ]
  },
  {
   "cell_type": "markdown",
   "metadata": {},
   "source": [
    "#### It looks like there is some issue. The model has not performed well on the test set. It should be analyzed further. \n",
    "\n",
    "#### It should have been 0.6286051."
   ]
  },
  {
   "cell_type": "markdown",
   "metadata": {},
   "source": [
    "***"
   ]
  },
  {
   "cell_type": "markdown",
   "metadata": {},
   "source": [
    "#### Resources:\n",
    "\n",
    "- http://scikit-learn.org/stable/auto_examples/linear_model/plot_ols.html\n",
    "- https://becominghuman.ai/stats-models-vs-sklearn-for-linear-regression-f19df95ad99b\n",
    "- https://datascienceplus.com/linear-regression-in-python-predict-the-bay-areas-home-prices/\n",
    "- https://stackoverflow.com/questions/15433372/stepwise-regression-in-python\n",
    "- https://towardsdatascience.com/train-test-split-and-cross-validation-in-python-80b61beca4b6\n",
    "- https://chrisalbon.com/machine_learning/linear_regression/linear_regression_scikitlearn/\n",
    "- https://www.datascience.com/learn-data-science/fundamentals/introduction-to-correlation-python-data-science\n",
    "- https://stackoverflow.com/questions/27928275/find-p-value-significance-in-scikit-learn-linearregression\n",
    "- http://scikit-learn.org/stable/modules/generated/sklearn.feature_selection.f_regression.html\n"
   ]
  }
 ],
 "metadata": {
  "kernelspec": {
   "display_name": "Python 3",
   "language": "python",
   "name": "python3"
  },
  "language_info": {
   "codemirror_mode": {
    "name": "ipython",
    "version": 3
   },
   "file_extension": ".py",
   "mimetype": "text/x-python",
   "name": "python",
   "nbconvert_exporter": "python",
   "pygments_lexer": "ipython3",
   "version": "3.6.1"
  }
 },
 "nbformat": 4,
 "nbformat_minor": 2
}
