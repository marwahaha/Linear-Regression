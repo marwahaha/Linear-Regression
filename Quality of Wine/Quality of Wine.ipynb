{
 "cells": [
  {
   "cell_type": "code",
   "execution_count": 1,
   "metadata": {
    "collapsed": true
   },
   "outputs": [],
   "source": [
    "import pandas as pd"
   ]
  },
  {
   "cell_type": "code",
   "execution_count": 2,
   "metadata": {
    "collapsed": true
   },
   "outputs": [],
   "source": [
    "wine = pd.read_csv(\"wine.csv\")"
   ]
  },
  {
   "cell_type": "code",
   "execution_count": 3,
   "metadata": {},
   "outputs": [
    {
     "data": {
      "text/html": [
       "<div>\n",
       "<style>\n",
       "    .dataframe thead tr:only-child th {\n",
       "        text-align: right;\n",
       "    }\n",
       "\n",
       "    .dataframe thead th {\n",
       "        text-align: left;\n",
       "    }\n",
       "\n",
       "    .dataframe tbody tr th {\n",
       "        vertical-align: top;\n",
       "    }\n",
       "</style>\n",
       "<table border=\"1\" class=\"dataframe\">\n",
       "  <thead>\n",
       "    <tr style=\"text-align: right;\">\n",
       "      <th></th>\n",
       "      <th>Year</th>\n",
       "      <th>Price</th>\n",
       "      <th>WinterRain</th>\n",
       "      <th>AGST</th>\n",
       "      <th>HarvestRain</th>\n",
       "      <th>Age</th>\n",
       "      <th>FrancePop</th>\n",
       "    </tr>\n",
       "  </thead>\n",
       "  <tbody>\n",
       "    <tr>\n",
       "      <th>0</th>\n",
       "      <td>1952</td>\n",
       "      <td>7.4950</td>\n",
       "      <td>600</td>\n",
       "      <td>17.1167</td>\n",
       "      <td>160</td>\n",
       "      <td>31</td>\n",
       "      <td>43183.569</td>\n",
       "    </tr>\n",
       "    <tr>\n",
       "      <th>1</th>\n",
       "      <td>1953</td>\n",
       "      <td>8.0393</td>\n",
       "      <td>690</td>\n",
       "      <td>16.7333</td>\n",
       "      <td>80</td>\n",
       "      <td>30</td>\n",
       "      <td>43495.030</td>\n",
       "    </tr>\n",
       "    <tr>\n",
       "      <th>2</th>\n",
       "      <td>1955</td>\n",
       "      <td>7.6858</td>\n",
       "      <td>502</td>\n",
       "      <td>17.1500</td>\n",
       "      <td>130</td>\n",
       "      <td>28</td>\n",
       "      <td>44217.857</td>\n",
       "    </tr>\n",
       "    <tr>\n",
       "      <th>3</th>\n",
       "      <td>1957</td>\n",
       "      <td>6.9845</td>\n",
       "      <td>420</td>\n",
       "      <td>16.1333</td>\n",
       "      <td>110</td>\n",
       "      <td>26</td>\n",
       "      <td>45152.252</td>\n",
       "    </tr>\n",
       "    <tr>\n",
       "      <th>4</th>\n",
       "      <td>1958</td>\n",
       "      <td>6.7772</td>\n",
       "      <td>582</td>\n",
       "      <td>16.4167</td>\n",
       "      <td>187</td>\n",
       "      <td>25</td>\n",
       "      <td>45653.805</td>\n",
       "    </tr>\n",
       "  </tbody>\n",
       "</table>\n",
       "</div>"
      ],
      "text/plain": [
       "   Year   Price  WinterRain     AGST  HarvestRain  Age  FrancePop\n",
       "0  1952  7.4950         600  17.1167          160   31  43183.569\n",
       "1  1953  8.0393         690  16.7333           80   30  43495.030\n",
       "2  1955  7.6858         502  17.1500          130   28  44217.857\n",
       "3  1957  6.9845         420  16.1333          110   26  45152.252\n",
       "4  1958  6.7772         582  16.4167          187   25  45653.805"
      ]
     },
     "execution_count": 3,
     "metadata": {},
     "output_type": "execute_result"
    }
   ],
   "source": [
    "wine.head()"
   ]
  },
  {
   "cell_type": "code",
   "execution_count": 4,
   "metadata": {},
   "outputs": [
    {
     "data": {
      "text/html": [
       "<div>\n",
       "<style>\n",
       "    .dataframe thead tr:only-child th {\n",
       "        text-align: right;\n",
       "    }\n",
       "\n",
       "    .dataframe thead th {\n",
       "        text-align: left;\n",
       "    }\n",
       "\n",
       "    .dataframe tbody tr th {\n",
       "        vertical-align: top;\n",
       "    }\n",
       "</style>\n",
       "<table border=\"1\" class=\"dataframe\">\n",
       "  <thead>\n",
       "    <tr style=\"text-align: right;\">\n",
       "      <th></th>\n",
       "      <th>Year</th>\n",
       "      <th>Price</th>\n",
       "      <th>WinterRain</th>\n",
       "      <th>AGST</th>\n",
       "      <th>HarvestRain</th>\n",
       "      <th>Age</th>\n",
       "      <th>FrancePop</th>\n",
       "    </tr>\n",
       "  </thead>\n",
       "  <tbody>\n",
       "    <tr>\n",
       "      <th>count</th>\n",
       "      <td>25.000000</td>\n",
       "      <td>25.000000</td>\n",
       "      <td>25.000000</td>\n",
       "      <td>25.000000</td>\n",
       "      <td>25.000000</td>\n",
       "      <td>25.000000</td>\n",
       "      <td>25.000000</td>\n",
       "    </tr>\n",
       "    <tr>\n",
       "      <th>mean</th>\n",
       "      <td>1965.800000</td>\n",
       "      <td>7.067224</td>\n",
       "      <td>605.280000</td>\n",
       "      <td>16.509336</td>\n",
       "      <td>148.560000</td>\n",
       "      <td>17.200000</td>\n",
       "      <td>49694.436760</td>\n",
       "    </tr>\n",
       "    <tr>\n",
       "      <th>std</th>\n",
       "      <td>7.691987</td>\n",
       "      <td>0.650341</td>\n",
       "      <td>132.277965</td>\n",
       "      <td>0.675397</td>\n",
       "      <td>74.419464</td>\n",
       "      <td>7.691987</td>\n",
       "      <td>3665.270243</td>\n",
       "    </tr>\n",
       "    <tr>\n",
       "      <th>min</th>\n",
       "      <td>1952.000000</td>\n",
       "      <td>6.204900</td>\n",
       "      <td>376.000000</td>\n",
       "      <td>14.983300</td>\n",
       "      <td>38.000000</td>\n",
       "      <td>5.000000</td>\n",
       "      <td>43183.569000</td>\n",
       "    </tr>\n",
       "    <tr>\n",
       "      <th>25%</th>\n",
       "      <td>1960.000000</td>\n",
       "      <td>6.518800</td>\n",
       "      <td>536.000000</td>\n",
       "      <td>16.200000</td>\n",
       "      <td>89.000000</td>\n",
       "      <td>11.000000</td>\n",
       "      <td>46583.995000</td>\n",
       "    </tr>\n",
       "    <tr>\n",
       "      <th>50%</th>\n",
       "      <td>1966.000000</td>\n",
       "      <td>7.121100</td>\n",
       "      <td>600.000000</td>\n",
       "      <td>16.533300</td>\n",
       "      <td>130.000000</td>\n",
       "      <td>17.000000</td>\n",
       "      <td>50254.966000</td>\n",
       "    </tr>\n",
       "    <tr>\n",
       "      <th>75%</th>\n",
       "      <td>1972.000000</td>\n",
       "      <td>7.495000</td>\n",
       "      <td>697.000000</td>\n",
       "      <td>17.066700</td>\n",
       "      <td>187.000000</td>\n",
       "      <td>23.000000</td>\n",
       "      <td>52894.183000</td>\n",
       "    </tr>\n",
       "    <tr>\n",
       "      <th>max</th>\n",
       "      <td>1978.000000</td>\n",
       "      <td>8.493700</td>\n",
       "      <td>830.000000</td>\n",
       "      <td>17.650000</td>\n",
       "      <td>292.000000</td>\n",
       "      <td>31.000000</td>\n",
       "      <td>54602.193000</td>\n",
       "    </tr>\n",
       "  </tbody>\n",
       "</table>\n",
       "</div>"
      ],
      "text/plain": [
       "              Year      Price  WinterRain       AGST  HarvestRain        Age  \\\n",
       "count    25.000000  25.000000   25.000000  25.000000    25.000000  25.000000   \n",
       "mean   1965.800000   7.067224  605.280000  16.509336   148.560000  17.200000   \n",
       "std       7.691987   0.650341  132.277965   0.675397    74.419464   7.691987   \n",
       "min    1952.000000   6.204900  376.000000  14.983300    38.000000   5.000000   \n",
       "25%    1960.000000   6.518800  536.000000  16.200000    89.000000  11.000000   \n",
       "50%    1966.000000   7.121100  600.000000  16.533300   130.000000  17.000000   \n",
       "75%    1972.000000   7.495000  697.000000  17.066700   187.000000  23.000000   \n",
       "max    1978.000000   8.493700  830.000000  17.650000   292.000000  31.000000   \n",
       "\n",
       "          FrancePop  \n",
       "count     25.000000  \n",
       "mean   49694.436760  \n",
       "std     3665.270243  \n",
       "min    43183.569000  \n",
       "25%    46583.995000  \n",
       "50%    50254.966000  \n",
       "75%    52894.183000  \n",
       "max    54602.193000  "
      ]
     },
     "execution_count": 4,
     "metadata": {},
     "output_type": "execute_result"
    }
   ],
   "source": [
    "wine.describe()"
   ]
  },
  {
   "cell_type": "code",
   "execution_count": 5,
   "metadata": {},
   "outputs": [
    {
     "name": "stdout",
     "output_type": "stream",
     "text": [
      "<class 'pandas.core.frame.DataFrame'>\n",
      "RangeIndex: 25 entries, 0 to 24\n",
      "Data columns (total 7 columns):\n",
      "Year           25 non-null int64\n",
      "Price          25 non-null float64\n",
      "WinterRain     25 non-null int64\n",
      "AGST           25 non-null float64\n",
      "HarvestRain    25 non-null int64\n",
      "Age            25 non-null int64\n",
      "FrancePop      25 non-null float64\n",
      "dtypes: float64(3), int64(4)\n",
      "memory usage: 1.4 KB\n"
     ]
    }
   ],
   "source": [
    "wine.info()"
   ]
  },
  {
   "cell_type": "code",
   "execution_count": 7,
   "metadata": {},
   "outputs": [],
   "source": [
    "from sklearn import linear_model"
   ]
  },
  {
   "cell_type": "code",
   "execution_count": 8,
   "metadata": {
    "collapsed": true
   },
   "outputs": [],
   "source": [
    "linearRegression = linear_model.LinearRegression()"
   ]
  },
  {
   "cell_type": "code",
   "execution_count": 9,
   "metadata": {},
   "outputs": [
    {
     "data": {
      "text/plain": [
       "LinearRegression(copy_X=True, fit_intercept=True, n_jobs=1, normalize=False)"
      ]
     },
     "execution_count": 9,
     "metadata": {},
     "output_type": "execute_result"
    }
   ],
   "source": [
    "linearRegression"
   ]
  },
  {
   "cell_type": "markdown",
   "metadata": {
    "collapsed": true
   },
   "source": [
    "#### Here we have used wine[['AGST']] instead of wine['AGST'] because passing 1d arrays raises ValueError in the version after 0.19."
   ]
  },
  {
   "cell_type": "code",
   "execution_count": 12,
   "metadata": {
    "collapsed": true
   },
   "outputs": [],
   "source": [
    "X_train_AGST = wine[['AGST']]\n",
    "y_train_price = wine[['Price']]"
   ]
  },
  {
   "cell_type": "code",
   "execution_count": 13,
   "metadata": {
    "scrolled": true
   },
   "outputs": [
    {
     "data": {
      "text/plain": [
       "LinearRegression(copy_X=True, fit_intercept=True, n_jobs=1, normalize=False)"
      ]
     },
     "execution_count": 13,
     "metadata": {},
     "output_type": "execute_result"
    }
   ],
   "source": [
    "linearRegression.fit(X_train_AGST, y_train_price)"
   ]
  },
  {
   "cell_type": "markdown",
   "metadata": {},
   "source": [
    "#### Here the coefficient 0.63509431 is for AGST (independent variable)\n",
    "\n",
    "#### Simple Linear Regression, Y = a + bX\n",
    "#### where \n",
    "- **a is the y-intercept (linearRegression.intercept_)**, \n",
    "- ** Y is the dependent variable (Price in this case)**\n",
    "- **X is the dependent variable (AGST in this case)**\n",
    "- **b is the slope of the line (linearRegression.coef_)**"
   ]
  },
  {
   "cell_type": "code",
   "execution_count": 14,
   "metadata": {},
   "outputs": [
    {
     "name": "stdout",
     "output_type": "stream",
     "text": [
      "Coefficients:  [[ 0.63509431]]\n"
     ]
    }
   ],
   "source": [
    "print(\"Coefficients: \", linearRegression.coef_)"
   ]
  },
  {
   "cell_type": "code",
   "execution_count": 15,
   "metadata": {},
   "outputs": [
    {
     "data": {
      "text/plain": [
       "LinearRegression(copy_X=True, fit_intercept=True, n_jobs=1, normalize=False)"
      ]
     },
     "execution_count": 15,
     "metadata": {},
     "output_type": "execute_result"
    }
   ],
   "source": [
    "linearRegression"
   ]
  },
  {
   "cell_type": "code",
   "execution_count": 16,
   "metadata": {},
   "outputs": [
    {
     "name": "stdout",
     "output_type": "stream",
     "text": [
      "Intercept:  [-3.41776131]\n"
     ]
    }
   ],
   "source": [
    "print(\"Intercept: \", linearRegression.intercept_)"
   ]
  },
  {
   "cell_type": "markdown",
   "metadata": {},
   "source": [
    "#### Sum of Squared Errors or SSE is given by residues_"
   ]
  },
  {
   "cell_type": "code",
   "execution_count": 17,
   "metadata": {},
   "outputs": [
    {
     "name": "stderr",
     "output_type": "stream",
     "text": [
      "C:\\Users\\Vivek\\Anaconda3\\lib\\site-packages\\sklearn\\utils\\deprecation.py:70: DeprecationWarning: Function residues_ is deprecated; ``residues_`` is deprecated and will be removed in 0.19\n",
      "  warnings.warn(msg, category=DeprecationWarning)\n"
     ]
    },
    {
     "data": {
      "text/plain": [
       "array([ 5.73487515])"
      ]
     },
     "execution_count": 17,
     "metadata": {},
     "output_type": "execute_result"
    }
   ],
   "source": [
    "linearRegression.residues_"
   ]
  },
  {
   "cell_type": "markdown",
   "metadata": {},
   "source": [
    "#### coef_ : array, shape (n_features, ) or (n_targets, n_features)\n",
    "#### Estimated coefficients for the linear regression problem. If multiple targets are passed during the fit (y 2D), this is a 2D array of shape (n_targets, n_features), while if only one target is passed, this is a 1D array of length n_features.\n",
    "\n",
    "#### intercept_ : array\n",
    "#### Independent term in the linear model."
   ]
  },
  {
   "cell_type": "code",
   "execution_count": 18,
   "metadata": {
    "collapsed": true
   },
   "outputs": [],
   "source": [
    "X_train_AGST_HarvestRain = wine[['AGST', 'HarvestRain']]"
   ]
  },
  {
   "cell_type": "code",
   "execution_count": 19,
   "metadata": {},
   "outputs": [
    {
     "data": {
      "text/plain": [
       "LinearRegression(copy_X=True, fit_intercept=True, n_jobs=1, normalize=False)"
      ]
     },
     "execution_count": 19,
     "metadata": {},
     "output_type": "execute_result"
    }
   ],
   "source": [
    "linearRegression.fit(X_train_AGST_HarvestRain, y_train_price)"
   ]
  },
  {
   "cell_type": "code",
   "execution_count": 20,
   "metadata": {},
   "outputs": [
    {
     "name": "stdout",
     "output_type": "stream",
     "text": [
      "Coefficients of AGST and HarvestRain [[ 0.60261691 -0.00457006]]\n"
     ]
    }
   ],
   "source": [
    "print(\"Coefficients of AGST and HarvestRain\",linearRegression.coef_)"
   ]
  },
  {
   "cell_type": "code",
   "execution_count": 21,
   "metadata": {},
   "outputs": [
    {
     "name": "stdout",
     "output_type": "stream",
     "text": [
      "Intercept with two independent variables [-2.2026536]\n"
     ]
    }
   ],
   "source": [
    "print(\"Intercept with two independent variables\", linearRegression.intercept_)"
   ]
  },
  {
   "cell_type": "markdown",
   "metadata": {},
   "source": [
    "#### Note that SSE has been reduced after adding 'HarvestRain' variable. It's 2.97037334."
   ]
  },
  {
   "cell_type": "code",
   "execution_count": 22,
   "metadata": {},
   "outputs": [
    {
     "name": "stdout",
     "output_type": "stream",
     "text": [
      "Sum of Squared Errors (SSE) with two independent variables [ 2.97037334]\n"
     ]
    },
    {
     "name": "stderr",
     "output_type": "stream",
     "text": [
      "C:\\Users\\Vivek\\Anaconda3\\lib\\site-packages\\sklearn\\utils\\deprecation.py:70: DeprecationWarning: Function residues_ is deprecated; ``residues_`` is deprecated and will be removed in 0.19\n",
      "  warnings.warn(msg, category=DeprecationWarning)\n"
     ]
    }
   ],
   "source": [
    "print(\"Sum of Squared Errors (SSE) with two independent variables\", linearRegression.residues_)"
   ]
  },
  {
   "cell_type": "code",
   "execution_count": 23,
   "metadata": {
    "collapsed": true
   },
   "outputs": [],
   "source": [
    "X_train_all_independent_variables = wine[['AGST', 'HarvestRain', 'WinterRain', 'Age', 'FrancePop']]"
   ]
  },
  {
   "cell_type": "code",
   "execution_count": 24,
   "metadata": {},
   "outputs": [
    {
     "data": {
      "text/plain": [
       "LinearRegression(copy_X=True, fit_intercept=True, n_jobs=1, normalize=False)"
      ]
     },
     "execution_count": 24,
     "metadata": {},
     "output_type": "execute_result"
    }
   ],
   "source": [
    "linearRegression.fit(X_train_all_independent_variables, y_train_price)"
   ]
  },
  {
   "cell_type": "code",
   "execution_count": 25,
   "metadata": {},
   "outputs": [
    {
     "name": "stdout",
     "output_type": "stream",
     "text": [
      "Coefficients of all the variables  [[  6.01223884e-01  -3.95812450e-03   1.04250681e-03   5.84748489e-04\n",
      "   -4.95273038e-05]]\n"
     ]
    }
   ],
   "source": [
    "print(\"Coefficients of all the variables \", linearRegression.coef_)"
   ]
  },
  {
   "cell_type": "code",
   "execution_count": 26,
   "metadata": {},
   "outputs": [
    {
     "name": "stdout",
     "output_type": "stream",
     "text": [
      "Intercept with all the independent variables:  [-0.45039886]\n"
     ]
    }
   ],
   "source": [
    "print(\"Intercept with all the independent variables: \", linearRegression.intercept_)"
   ]
  },
  {
   "cell_type": "markdown",
   "metadata": {},
   "source": [
    "#### Note that SSE has been reduced further after adding all the independent variables"
   ]
  },
  {
   "cell_type": "code",
   "execution_count": 27,
   "metadata": {},
   "outputs": [
    {
     "name": "stdout",
     "output_type": "stream",
     "text": [
      "Sum of Squared Errors (SSE) with all the independent variables [ 1.73211272]\n"
     ]
    },
    {
     "name": "stderr",
     "output_type": "stream",
     "text": [
      "C:\\Users\\Vivek\\Anaconda3\\lib\\site-packages\\sklearn\\utils\\deprecation.py:70: DeprecationWarning: Function residues_ is deprecated; ``residues_`` is deprecated and will be removed in 0.19\n",
      "  warnings.warn(msg, category=DeprecationWarning)\n"
     ]
    }
   ],
   "source": [
    "print(\"Sum of Squared Errors (SSE) with all the independent variables\", linearRegression.residues_)"
   ]
  }
 ],
 "metadata": {
  "kernelspec": {
   "display_name": "Python 3",
   "language": "python",
   "name": "python3"
  },
  "language_info": {
   "codemirror_mode": {
    "name": "ipython",
    "version": 3
   },
   "file_extension": ".py",
   "mimetype": "text/x-python",
   "name": "python",
   "nbconvert_exporter": "python",
   "pygments_lexer": "ipython3",
   "version": "3.6.1"
  }
 },
 "nbformat": 4,
 "nbformat_minor": 2
}
