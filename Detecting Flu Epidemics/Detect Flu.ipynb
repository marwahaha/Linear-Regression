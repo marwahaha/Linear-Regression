{
 "cells": [
  {
   "cell_type": "code",
   "execution_count": 1,
   "metadata": {
    "collapsed": true
   },
   "outputs": [],
   "source": [
    "import pandas as pd"
   ]
  },
  {
   "cell_type": "code",
   "execution_count": 2,
   "metadata": {
    "collapsed": true
   },
   "outputs": [],
   "source": [
    "FluTrain = pd.read_csv('FluTrain.csv')"
   ]
  },
  {
   "cell_type": "code",
   "execution_count": 3,
   "metadata": {},
   "outputs": [
    {
     "data": {
      "text/html": [
       "<div>\n",
       "<style>\n",
       "    .dataframe thead tr:only-child th {\n",
       "        text-align: right;\n",
       "    }\n",
       "\n",
       "    .dataframe thead th {\n",
       "        text-align: left;\n",
       "    }\n",
       "\n",
       "    .dataframe tbody tr th {\n",
       "        vertical-align: top;\n",
       "    }\n",
       "</style>\n",
       "<table border=\"1\" class=\"dataframe\">\n",
       "  <thead>\n",
       "    <tr style=\"text-align: right;\">\n",
       "      <th></th>\n",
       "      <th>Week</th>\n",
       "      <th>ILI</th>\n",
       "      <th>Queries</th>\n",
       "    </tr>\n",
       "  </thead>\n",
       "  <tbody>\n",
       "    <tr>\n",
       "      <th>0</th>\n",
       "      <td>2004-01-04 - 2004-01-10</td>\n",
       "      <td>2.418331</td>\n",
       "      <td>0.237716</td>\n",
       "    </tr>\n",
       "    <tr>\n",
       "      <th>1</th>\n",
       "      <td>2004-01-11 - 2004-01-17</td>\n",
       "      <td>1.809056</td>\n",
       "      <td>0.220452</td>\n",
       "    </tr>\n",
       "    <tr>\n",
       "      <th>2</th>\n",
       "      <td>2004-01-18 - 2004-01-24</td>\n",
       "      <td>1.712024</td>\n",
       "      <td>0.225764</td>\n",
       "    </tr>\n",
       "    <tr>\n",
       "      <th>3</th>\n",
       "      <td>2004-01-25 - 2004-01-31</td>\n",
       "      <td>1.542495</td>\n",
       "      <td>0.237716</td>\n",
       "    </tr>\n",
       "    <tr>\n",
       "      <th>4</th>\n",
       "      <td>2004-02-01 - 2004-02-07</td>\n",
       "      <td>1.437868</td>\n",
       "      <td>0.224436</td>\n",
       "    </tr>\n",
       "  </tbody>\n",
       "</table>\n",
       "</div>"
      ],
      "text/plain": [
       "                      Week       ILI   Queries\n",
       "0  2004-01-04 - 2004-01-10  2.418331  0.237716\n",
       "1  2004-01-11 - 2004-01-17  1.809056  0.220452\n",
       "2  2004-01-18 - 2004-01-24  1.712024  0.225764\n",
       "3  2004-01-25 - 2004-01-31  1.542495  0.237716\n",
       "4  2004-02-01 - 2004-02-07  1.437868  0.224436"
      ]
     },
     "execution_count": 3,
     "metadata": {},
     "output_type": "execute_result"
    }
   ],
   "source": [
    "FluTrain.head()"
   ]
  },
  {
   "cell_type": "markdown",
   "metadata": {},
   "source": [
    "####  Looking at the time period 2004-2011, which week corresponds to the highest percentage of ILI-related physician visits?\n",
    "\n",
    "18-Oct-2009"
   ]
  },
  {
   "cell_type": "code",
   "execution_count": 4,
   "metadata": {},
   "outputs": [
    {
     "data": {
      "text/plain": [
       "302"
      ]
     },
     "execution_count": 4,
     "metadata": {},
     "output_type": "execute_result"
    }
   ],
   "source": [
    "FluTrain['ILI'].idxmax()"
   ]
  },
  {
   "cell_type": "code",
   "execution_count": 5,
   "metadata": {},
   "outputs": [
    {
     "data": {
      "text/plain": [
       "Week       2009-10-18 - 2009-10-24\n",
       "ILI                        7.61889\n",
       "Queries                          1\n",
       "Name: 302, dtype: object"
      ]
     },
     "execution_count": 5,
     "metadata": {},
     "output_type": "execute_result"
    }
   ],
   "source": [
    "FluTrain.loc[FluTrain['ILI'].idxmax()]"
   ]
  },
  {
   "cell_type": "markdown",
   "metadata": {},
   "source": [
    "#### Which week corresponds to the highest percentage of ILI-related query fraction?"
   ]
  },
  {
   "cell_type": "code",
   "execution_count": 6,
   "metadata": {},
   "outputs": [
    {
     "data": {
      "text/plain": [
       "Week       2009-10-18 - 2009-10-24\n",
       "ILI                        7.61889\n",
       "Queries                          1\n",
       "Name: 302, dtype: object"
      ]
     },
     "execution_count": 6,
     "metadata": {},
     "output_type": "execute_result"
    }
   ],
   "source": [
    "FluTrain.loc[FluTrain['Queries'].idxmax()]"
   ]
  },
  {
   "cell_type": "code",
   "execution_count": 7,
   "metadata": {},
   "outputs": [
    {
     "data": {
      "text/plain": [
       "Week        object\n",
       "ILI        float64\n",
       "Queries    float64\n",
       "dtype: object"
      ]
     },
     "execution_count": 7,
     "metadata": {},
     "output_type": "execute_result"
    }
   ],
   "source": [
    "FluTrain.dtypes"
   ]
  },
  {
   "cell_type": "markdown",
   "metadata": {},
   "source": [
    "#### Let us now understand the data at an aggregate level. Plot the histogram of the dependent variable, ILI. What best describes the distribution of values of ILI?\n",
    "\n",
    "- Most of the ILI values are small, with a relatively small number of much larger values (in statistics, this sort of data is called \"skew right\").\n",
    "- The ILI values are balanced, with equal numbers of unusually large and unusually small values.\n",
    "- Most of the ILI values are large, with a relatively small number of much smaller values (in statistics, this sort of data is called \"skew left\").\n",
    "\n",
    "*Most of the ILI values are small, with a relatively small number of much larger values (in statistics, this sort of data is called \"skew right\").*"
   ]
  },
  {
   "cell_type": "code",
   "execution_count": 8,
   "metadata": {
    "collapsed": true
   },
   "outputs": [],
   "source": [
    "import matplotlib.pyplot as plt\n",
    "%matplotlib inline"
   ]
  },
  {
   "cell_type": "code",
   "execution_count": 13,
   "metadata": {},
   "outputs": [
    {
     "data": {
      "text/plain": [
       "<matplotlib.text.Text at 0x272e2d50780>"
      ]
     },
     "execution_count": 13,
     "metadata": {},
     "output_type": "execute_result"
    },
    {
     "data": {
      "image/png": "[encoded data removed]",
      "text/plain": [
       "<matplotlib.figure.Figure at 0x272e193efd0>"
      ]
     },
     "metadata": {},
     "output_type": "display_data"
    }
   ],
   "source": [
    "plt.hist(FluTrain['ILI'], bins = 100)\n",
    "plt.xlabel(\"ILI\")\n",
    "plt.ylabel('Frequency')\n",
    "plt.title('ILI distribution')"
   ]
  },
  {
   "cell_type": "markdown",
   "metadata": {},
   "source": [
    "#### When handling a skewed dependent variable, it is often useful to predict the logarithm of the dependent variable instead of the dependent variable itself -- this prevents the small number of unusually large or small observations from having an undue influence on the sum of squared errors of predictive models. In this problem, we will predict the natural log of the ILI variable.\n",
    "\n",
    "#### Plot the natural logarithm of ILI versus Queries. What does the plot suggest?.\n",
    "\n",
    "- There is a negative, linear relationship between log(ILI) and Queries.\n",
    "- There is no apparent linear relationship between log(ILI) and Queries.\n",
    "- There is a positive, linear relationship between log(ILI) and Queries.\n",
    "\n",
    "*There is a positive, linear relationship between log(ILI) and Queries.*"
   ]
  },
  {
   "cell_type": "code",
   "execution_count": 14,
   "metadata": {},
   "outputs": [
    {
     "data": {
      "text/plain": [
       "<matplotlib.text.Text at 0x272e2cd3ac8>"
      ]
     },
     "execution_count": 14,
     "metadata": {},
     "output_type": "execute_result"
    },
    {
     "data": {
      "image/png": "[encoded data removed]",
      "text/plain": [
       "<matplotlib.figure.Figure at 0x272e185c208>"
      ]
     },
     "metadata": {},
     "output_type": "display_data"
    }
   ],
   "source": [
    "#plt.plot(x=FluTrain['ILI'], y = FluTrain['Queries'])\n",
    "fig = plt.figure()\n",
    "ax = plt.gca()\n",
    "ax.plot(FluTrain['ILI'], FluTrain['Queries'])\n",
    "ax.set_xscale('log')\n",
    "plt.xlabel('ILI')\n",
    "plt.ylabel('Queries')"
   ]
  },
  {
   "cell_type": "code",
   "execution_count": 15,
   "metadata": {},
   "outputs": [
    {
     "data": {
      "text/plain": [
       "<matplotlib.text.Text at 0x272e3126a90>"
      ]
     },
     "execution_count": 15,
     "metadata": {},
     "output_type": "execute_result"
    },
    {
     "data": {
      "image/png": "[encoded data removed]",
      "text/plain": [
       "<matplotlib.figure.Figure at 0x272e3065d68>"
      ]
     },
     "metadata": {},
     "output_type": "display_data"
    }
   ],
   "source": [
    "plt.scatter(FluTrain['ILI'], FluTrain['Queries'])\n",
    "plt.xscale('log')\n",
    "plt.xlabel('ILI')\n",
    "plt.ylabel('Queries')\n",
    "plt.title('ILI vs Queries')"
   ]
  },
  {
   "cell_type": "markdown",
   "metadata": {},
   "source": [
    "#### Based on the plot we just made, it seems that a linear regression model could be a good modeling choice. Based on our understanding of the data from the previous subproblem, which model best describes our estimation problem?\n",
    "\n",
    "- ILI = intercept + coefficient x Queries, where the coefficient is negative\n",
    "- Queries = intercept + coefficient x ILI, where the coefficient is negative\n",
    "- ILI = intercept + coefficient x Queries, where the coefficient is positive\n",
    "- Queries = intercept + coefficient x ILI, where the coefficient is positive\n",
    "- log(ILI) = intercept + coefficient x Queries, where the coefficient is negative\n",
    "- Queries = intercept + coefficient x log(ILI), where the coefficient is negative\n",
    "- log(ILI) = intercept + coefficient x Queries, where the coefficient is positive\n",
    "- Queries = intercept + coefficient x log(ILI), where the coeffcient is positive\n",
    "\n",
    "*log(ILI) = intercept + coefficient x Queries, where the coefficient is positive*"
   ]
  },
  {
   "cell_type": "code",
   "execution_count": 16,
   "metadata": {
    "collapsed": true
   },
   "outputs": [],
   "source": [
    "from sklearn import linear_model\n",
    "linear_regression = linear_model.LinearRegression()"
   ]
  },
  {
   "cell_type": "code",
   "execution_count": 17,
   "metadata": {
    "collapsed": true
   },
   "outputs": [],
   "source": [
    "import numpy as np"
   ]
  },
  {
   "cell_type": "code",
   "execution_count": 25,
   "metadata": {},
   "outputs": [
    {
     "name": "stdout",
     "output_type": "stream",
     "text": [
      "(417, 1)\n",
      "(417, 1)\n"
     ]
    }
   ],
   "source": [
    "X_train = FluTrain['Queries'].values.reshape((len(FluTrain['Queries']), 1))\n",
    "y_train = pd.DataFrame(np.log(FluTrain['ILI']))\n",
    "#linear_regression.fit(X_train, y_train)\n",
    "print(X_train.shape)\n",
    "print(y_train.shape)"
   ]
  },
  {
   "cell_type": "code",
   "execution_count": 26,
   "metadata": {},
   "outputs": [
    {
     "data": {
      "text/plain": [
       "LinearRegression(copy_X=True, fit_intercept=True, n_jobs=1, normalize=False)"
      ]
     },
     "execution_count": 26,
     "metadata": {},
     "output_type": "execute_result"
    }
   ],
   "source": [
    "linear_regression.fit(X_train, y_train)"
   ]
  },
  {
   "cell_type": "code",
   "execution_count": 27,
   "metadata": {},
   "outputs": [
    {
     "name": "stderr",
     "output_type": "stream",
     "text": [
      "C:\\Users\\Vivek\\Anaconda3\\lib\\site-packages\\sklearn\\utils\\deprecation.py:70: DeprecationWarning: Function residues_ is deprecated; ``residues_`` is deprecated and will be removed in 0.19\n",
      "  warnings.warn(msg, category=DeprecationWarning)\n"
     ]
    },
    {
     "data": {
      "text/plain": [
       "array([ 37.23120641])"
      ]
     },
     "execution_count": 27,
     "metadata": {},
     "output_type": "execute_result"
    }
   ],
   "source": [
    "linear_regression.residues_"
   ]
  },
  {
   "cell_type": "markdown",
   "metadata": {},
   "source": [
    "\\begin{equation*}\n",
    "SSE (Sum of Squared Errors)   = 37.23120641\n",
    "\\end{equation*}"
   ]
  },
  {
   "cell_type": "code",
   "execution_count": 29,
   "metadata": {
    "collapsed": true
   },
   "outputs": [],
   "source": [
    "import math"
   ]
  },
  {
   "cell_type": "code",
   "execution_count": 30,
   "metadata": {},
   "outputs": [
    {
     "name": "stderr",
     "output_type": "stream",
     "text": [
      "C:\\Users\\Vivek\\Anaconda3\\lib\\site-packages\\sklearn\\utils\\deprecation.py:70: DeprecationWarning: Function residues_ is deprecated; ``residues_`` is deprecated and will be removed in 0.19\n",
      "  warnings.warn(msg, category=DeprecationWarning)\n"
     ]
    },
    {
     "data": {
      "text/plain": [
       "0.29880339458256205"
      ]
     },
     "execution_count": 30,
     "metadata": {},
     "output_type": "execute_result"
    }
   ],
   "source": [
    "RMSE = math.sqrt(linear_regression.residues_[0] / len(FluTrain))\n",
    "RMSE"
   ]
  },
  {
   "cell_type": "markdown",
   "metadata": {},
   "source": [
    "\\begin{equation*}\n",
    "RMSE (Root Mean Squared Error)   = 0.29880339458256205\n",
    "\\end{equation*}"
   ]
  },
  {
   "cell_type": "markdown",
   "metadata": {},
   "source": [
    "#### What is the training set R-squared value for FluTrend1 model (the \"Multiple R-squared\")?\n",
    "\n",
    "0.709020055"
   ]
  },
  {
   "cell_type": "code",
   "execution_count": 28,
   "metadata": {},
   "outputs": [
    {
     "data": {
      "text/plain": [
       "0.70902005534818646"
      ]
     },
     "execution_count": 28,
     "metadata": {},
     "output_type": "execute_result"
    }
   ],
   "source": [
    "linear_regression.score(X_train, y_train)"
   ]
  },
  {
   "cell_type": "markdown",
   "metadata": {},
   "source": [
    "\\begin{equation*}\n",
    "R^2   = 0.709020055\n",
    "\\end{equation*}"
   ]
  },
  {
   "cell_type": "markdown",
   "metadata": {},
   "source": [
    "#### For a single variable linear regression model, there is a direct relationship between the R-squared and the correlation between the independent and the dependent variables. What is the relationship we infer from our problem? \n",
    "\n",
    "- R-squared = Correlation^2\n",
    "- R-squared = log(1/Correlation)\n",
    "- R-squared = exp(-0.5*Correlation)\n",
    "\n",
    "*R-squared = Correlation^2*"
   ]
  },
  {
   "cell_type": "code",
   "execution_count": 33,
   "metadata": {},
   "outputs": [
    {
     "data": {
      "text/plain": [
       "0.81421151130322911"
      ]
     },
     "execution_count": 33,
     "metadata": {},
     "output_type": "execute_result"
    }
   ],
   "source": [
    "FluTrain['ILI'].corr(FluTrain['Queries'])"
   ]
  },
  {
   "cell_type": "code",
   "execution_count": 35,
   "metadata": {},
   "outputs": [
    {
     "data": {
      "text/plain": [
       "0.84203328636591723"
      ]
     },
     "execution_count": 35,
     "metadata": {},
     "output_type": "execute_result"
    }
   ],
   "source": [
    "FluTrain['Queries'].corr(np.log(FluTrain['ILI']))"
   ]
  },
  {
   "cell_type": "code",
   "execution_count": 36,
   "metadata": {},
   "outputs": [
    {
     "data": {
      "text/html": [
       "<div>\n",
       "<style>\n",
       "    .dataframe thead tr:only-child th {\n",
       "        text-align: right;\n",
       "    }\n",
       "\n",
       "    .dataframe thead th {\n",
       "        text-align: left;\n",
       "    }\n",
       "\n",
       "    .dataframe tbody tr th {\n",
       "        vertical-align: top;\n",
       "    }\n",
       "</style>\n",
       "<table border=\"1\" class=\"dataframe\">\n",
       "  <thead>\n",
       "    <tr style=\"text-align: right;\">\n",
       "      <th></th>\n",
       "      <th>ILI</th>\n",
       "      <th>Queries</th>\n",
       "    </tr>\n",
       "  </thead>\n",
       "  <tbody>\n",
       "    <tr>\n",
       "      <th>ILI</th>\n",
       "      <td>1.000000</td>\n",
       "      <td>0.814212</td>\n",
       "    </tr>\n",
       "    <tr>\n",
       "      <th>Queries</th>\n",
       "      <td>0.814212</td>\n",
       "      <td>1.000000</td>\n",
       "    </tr>\n",
       "  </tbody>\n",
       "</table>\n",
       "</div>"
      ],
      "text/plain": [
       "              ILI   Queries\n",
       "ILI      1.000000  0.814212\n",
       "Queries  0.814212  1.000000"
      ]
     },
     "execution_count": 36,
     "metadata": {},
     "output_type": "execute_result"
    }
   ],
   "source": [
    "FluTrain.corr()"
   ]
  },
  {
   "cell_type": "code",
   "execution_count": 39,
   "metadata": {},
   "outputs": [
    {
     "name": "stdout",
     "output_type": "stream",
     "text": [
      "(array([ 0.84203329]), array([  2.62109684e-113]))\n"
     ]
    }
   ],
   "source": [
    "from scipy.stats.stats import pearsonr\n",
    "print(pearsonr(X_train, y_train))"
   ]
  },
  {
   "cell_type": "code",
   "execution_count": 41,
   "metadata": {},
   "outputs": [
    {
     "data": {
      "text/plain": [
       "0.7090200547319578"
      ]
     },
     "execution_count": 41,
     "metadata": {},
     "output_type": "execute_result"
    }
   ],
   "source": [
    "correlation_squared = .842033286 * .842033286\n",
    "correlation_squared"
   ]
  },
  {
   "cell_type": "markdown",
   "metadata": {},
   "source": [
    "#### This is close to the R^2 value"
   ]
  },
  {
   "cell_type": "markdown",
   "metadata": {},
   "source": [
    "#### The csv file FluTest.csv provides the 2012 weekly data of the ILI-related search queries and the observed weekly percentage of ILI-related physician visits.\n",
    "\n",
    "#### Normally, we would obtain test-set predictions from the model 'linear_regression' using the code\n",
    "\n",
    "    linear_regression.predict()\n",
    "\n",
    "#### However, the dependent variable in our model is log(ILI), so predicted_values would contain predictions of the log(ILI) value. We are instead interested in obtaining predictions of the ILI value. We can convert from predictions of log(ILI) to predictions of ILI via exponentiation, or the exp() function. The new code, which predicts the ILI value, is\n",
    "\n",
    "np.exp(linear_regression.predict(X_test))"
   ]
  },
  {
   "cell_type": "markdown",
   "metadata": {},
   "source": [
    "#### What is our estimate for the percentage of ILI-related physician visits for the week of March 11, 2012? "
   ]
  },
  {
   "cell_type": "code",
   "execution_count": 42,
   "metadata": {
    "collapsed": true
   },
   "outputs": [],
   "source": [
    "FluTest = pd.read_csv('FluTest.csv')"
   ]
  },
  {
   "cell_type": "code",
   "execution_count": 43,
   "metadata": {},
   "outputs": [
    {
     "name": "stdout",
     "output_type": "stream",
     "text": [
      "(52, 1)\n",
      "(52, 1)\n"
     ]
    }
   ],
   "source": [
    "X_test = FluTest['Queries'].values.reshape((len(FluTest['Queries']), 1))\n",
    "y_test = pd.DataFrame(np.log(FluTest['ILI']))\n",
    "#linear_regression.fit(X_train, y_train)\n",
    "print(X_test.shape)\n",
    "print(y_test.shape)"
   ]
  },
  {
   "cell_type": "code",
   "execution_count": 46,
   "metadata": {},
   "outputs": [],
   "source": [
    "predicted_values = np.exp(linear_regression.predict(X_test))"
   ]
  },
  {
   "cell_type": "code",
   "execution_count": 49,
   "metadata": {},
   "outputs": [
    {
     "data": {
      "text/html": [
       "<div>\n",
       "<style>\n",
       "    .dataframe thead tr:only-child th {\n",
       "        text-align: right;\n",
       "    }\n",
       "\n",
       "    .dataframe thead th {\n",
       "        text-align: left;\n",
       "    }\n",
       "\n",
       "    .dataframe tbody tr th {\n",
       "        vertical-align: top;\n",
       "    }\n",
       "</style>\n",
       "<table border=\"1\" class=\"dataframe\">\n",
       "  <thead>\n",
       "    <tr style=\"text-align: right;\">\n",
       "      <th></th>\n",
       "      <th>Week</th>\n",
       "      <th>ILI</th>\n",
       "      <th>Queries</th>\n",
       "    </tr>\n",
       "  </thead>\n",
       "  <tbody>\n",
       "    <tr>\n",
       "      <th>0</th>\n",
       "      <td>2012-01-01 - 2012-01-07</td>\n",
       "      <td>1.766707</td>\n",
       "      <td>0.593625</td>\n",
       "    </tr>\n",
       "    <tr>\n",
       "      <th>1</th>\n",
       "      <td>2012-01-08 - 2012-01-14</td>\n",
       "      <td>1.543401</td>\n",
       "      <td>0.499336</td>\n",
       "    </tr>\n",
       "    <tr>\n",
       "      <th>2</th>\n",
       "      <td>2012-01-15 - 2012-01-21</td>\n",
       "      <td>1.647615</td>\n",
       "      <td>0.500664</td>\n",
       "    </tr>\n",
       "    <tr>\n",
       "      <th>3</th>\n",
       "      <td>2012-01-22 - 2012-01-28</td>\n",
       "      <td>1.684297</td>\n",
       "      <td>0.479416</td>\n",
       "    </tr>\n",
       "    <tr>\n",
       "      <th>4</th>\n",
       "      <td>2012-01-29 - 2012-02-04</td>\n",
       "      <td>1.863542</td>\n",
       "      <td>0.471448</td>\n",
       "    </tr>\n",
       "    <tr>\n",
       "      <th>5</th>\n",
       "      <td>2012-02-05 - 2012-02-11</td>\n",
       "      <td>1.864079</td>\n",
       "      <td>0.503320</td>\n",
       "    </tr>\n",
       "    <tr>\n",
       "      <th>6</th>\n",
       "      <td>2012-02-12 - 2012-02-18</td>\n",
       "      <td>2.019927</td>\n",
       "      <td>0.513944</td>\n",
       "    </tr>\n",
       "    <tr>\n",
       "      <th>7</th>\n",
       "      <td>2012-02-19 - 2012-02-25</td>\n",
       "      <td>2.103851</td>\n",
       "      <td>0.500664</td>\n",
       "    </tr>\n",
       "    <tr>\n",
       "      <th>8</th>\n",
       "      <td>2012-02-26 - 2012-03-03</td>\n",
       "      <td>2.095549</td>\n",
       "      <td>0.460823</td>\n",
       "    </tr>\n",
       "    <tr>\n",
       "      <th>9</th>\n",
       "      <td>2012-03-04 - 2012-03-10</td>\n",
       "      <td>2.103983</td>\n",
       "      <td>0.458167</td>\n",
       "    </tr>\n",
       "    <tr>\n",
       "      <th>10</th>\n",
       "      <td>2012-03-11 - 2012-03-17</td>\n",
       "      <td>2.293422</td>\n",
       "      <td>0.432935</td>\n",
       "    </tr>\n",
       "    <tr>\n",
       "      <th>11</th>\n",
       "      <td>2012-03-18 - 2012-03-24</td>\n",
       "      <td>1.922234</td>\n",
       "      <td>0.366534</td>\n",
       "    </tr>\n",
       "    <tr>\n",
       "      <th>12</th>\n",
       "      <td>2012-03-25 - 2012-03-31</td>\n",
       "      <td>1.742386</td>\n",
       "      <td>0.365206</td>\n",
       "    </tr>\n",
       "    <tr>\n",
       "      <th>13</th>\n",
       "      <td>2012-04-01 - 2012-04-07</td>\n",
       "      <td>1.676014</td>\n",
       "      <td>0.350598</td>\n",
       "    </tr>\n",
       "    <tr>\n",
       "      <th>14</th>\n",
       "      <td>2012-04-08 - 2012-04-14</td>\n",
       "      <td>1.496371</td>\n",
       "      <td>0.365206</td>\n",
       "    </tr>\n",
       "    <tr>\n",
       "      <th>15</th>\n",
       "      <td>2012-04-15 - 2012-04-21</td>\n",
       "      <td>1.381198</td>\n",
       "      <td>0.330677</td>\n",
       "    </tr>\n",
       "    <tr>\n",
       "      <th>16</th>\n",
       "      <td>2012-04-22 - 2012-04-28</td>\n",
       "      <td>1.288493</td>\n",
       "      <td>0.312085</td>\n",
       "    </tr>\n",
       "    <tr>\n",
       "      <th>17</th>\n",
       "      <td>2012-04-29 - 2012-05-05</td>\n",
       "      <td>1.357842</td>\n",
       "      <td>0.305445</td>\n",
       "    </tr>\n",
       "    <tr>\n",
       "      <th>18</th>\n",
       "      <td>2012-05-06 - 2012-05-12</td>\n",
       "      <td>1.307628</td>\n",
       "      <td>0.277556</td>\n",
       "    </tr>\n",
       "    <tr>\n",
       "      <th>19</th>\n",
       "      <td>2012-05-13 - 2012-05-19</td>\n",
       "      <td>1.266919</td>\n",
       "      <td>0.302789</td>\n",
       "    </tr>\n",
       "    <tr>\n",
       "      <th>20</th>\n",
       "      <td>2012-05-20 - 2012-05-26</td>\n",
       "      <td>1.277310</td>\n",
       "      <td>0.276228</td>\n",
       "    </tr>\n",
       "    <tr>\n",
       "      <th>21</th>\n",
       "      <td>2012-05-27 - 2012-06-02</td>\n",
       "      <td>1.299020</td>\n",
       "      <td>0.261620</td>\n",
       "    </tr>\n",
       "    <tr>\n",
       "      <th>22</th>\n",
       "      <td>2012-06-03 - 2012-06-09</td>\n",
       "      <td>1.162353</td>\n",
       "      <td>0.272244</td>\n",
       "    </tr>\n",
       "    <tr>\n",
       "      <th>23</th>\n",
       "      <td>2012-06-10 - 2012-06-16</td>\n",
       "      <td>1.086121</td>\n",
       "      <td>0.250996</td>\n",
       "    </tr>\n",
       "    <tr>\n",
       "      <th>24</th>\n",
       "      <td>2012-06-17 - 2012-06-23</td>\n",
       "      <td>1.056796</td>\n",
       "      <td>0.261620</td>\n",
       "    </tr>\n",
       "    <tr>\n",
       "      <th>25</th>\n",
       "      <td>2012-06-24 - 2012-06-30</td>\n",
       "      <td>1.078713</td>\n",
       "      <td>0.239044</td>\n",
       "    </tr>\n",
       "    <tr>\n",
       "      <th>26</th>\n",
       "      <td>2012-07-01 - 2012-07-07</td>\n",
       "      <td>1.046702</td>\n",
       "      <td>0.250996</td>\n",
       "    </tr>\n",
       "    <tr>\n",
       "      <th>27</th>\n",
       "      <td>2012-07-08 - 2012-07-14</td>\n",
       "      <td>0.928152</td>\n",
       "      <td>0.265604</td>\n",
       "    </tr>\n",
       "    <tr>\n",
       "      <th>28</th>\n",
       "      <td>2012-07-15 - 2012-07-21</td>\n",
       "      <td>0.901936</td>\n",
       "      <td>0.245684</td>\n",
       "    </tr>\n",
       "    <tr>\n",
       "      <th>29</th>\n",
       "      <td>2012-07-22 - 2012-07-28</td>\n",
       "      <td>0.916041</td>\n",
       "      <td>0.250996</td>\n",
       "    </tr>\n",
       "    <tr>\n",
       "      <th>30</th>\n",
       "      <td>2012-07-29 - 2012-08-04</td>\n",
       "      <td>0.952407</td>\n",
       "      <td>0.248340</td>\n",
       "    </tr>\n",
       "    <tr>\n",
       "      <th>31</th>\n",
       "      <td>2012-08-05 - 2012-08-11</td>\n",
       "      <td>0.916454</td>\n",
       "      <td>0.252324</td>\n",
       "    </tr>\n",
       "    <tr>\n",
       "      <th>32</th>\n",
       "      <td>2012-08-12 - 2012-08-18</td>\n",
       "      <td>0.901787</td>\n",
       "      <td>0.269588</td>\n",
       "    </tr>\n",
       "    <tr>\n",
       "      <th>33</th>\n",
       "      <td>2012-08-19 - 2012-08-25</td>\n",
       "      <td>1.033151</td>\n",
       "      <td>0.293493</td>\n",
       "    </tr>\n",
       "    <tr>\n",
       "      <th>34</th>\n",
       "      <td>2012-08-26 - 2012-09-01</td>\n",
       "      <td>1.051987</td>\n",
       "      <td>0.310757</td>\n",
       "    </tr>\n",
       "    <tr>\n",
       "      <th>35</th>\n",
       "      <td>2012-09-02 - 2012-09-08</td>\n",
       "      <td>1.127134</td>\n",
       "      <td>0.333333</td>\n",
       "    </tr>\n",
       "    <tr>\n",
       "      <th>36</th>\n",
       "      <td>2012-09-09 - 2012-09-15</td>\n",
       "      <td>1.186489</td>\n",
       "      <td>0.358566</td>\n",
       "    </tr>\n",
       "    <tr>\n",
       "      <th>37</th>\n",
       "      <td>2012-09-16 - 2012-09-22</td>\n",
       "      <td>1.214153</td>\n",
       "      <td>0.418327</td>\n",
       "    </tr>\n",
       "    <tr>\n",
       "      <th>38</th>\n",
       "      <td>2012-09-23 - 2012-09-29</td>\n",
       "      <td>1.251981</td>\n",
       "      <td>0.434263</td>\n",
       "    </tr>\n",
       "    <tr>\n",
       "      <th>39</th>\n",
       "      <td>2012-09-30 - 2012-10-06</td>\n",
       "      <td>1.191883</td>\n",
       "      <td>0.458167</td>\n",
       "    </tr>\n",
       "    <tr>\n",
       "      <th>40</th>\n",
       "      <td>2012-10-07 - 2012-10-13</td>\n",
       "      <td>1.323889</td>\n",
       "      <td>0.467463</td>\n",
       "    </tr>\n",
       "    <tr>\n",
       "      <th>41</th>\n",
       "      <td>2012-10-14 - 2012-10-20</td>\n",
       "      <td>1.308543</td>\n",
       "      <td>0.455511</td>\n",
       "    </tr>\n",
       "    <tr>\n",
       "      <th>42</th>\n",
       "      <td>2012-10-21 - 2012-10-27</td>\n",
       "      <td>1.360590</td>\n",
       "      <td>0.454183</td>\n",
       "    </tr>\n",
       "    <tr>\n",
       "      <th>43</th>\n",
       "      <td>2012-10-28 - 2012-11-03</td>\n",
       "      <td>1.486025</td>\n",
       "      <td>0.483400</td>\n",
       "    </tr>\n",
       "    <tr>\n",
       "      <th>44</th>\n",
       "      <td>2012-11-04 - 2012-11-10</td>\n",
       "      <td>1.610915</td>\n",
       "      <td>0.470120</td>\n",
       "    </tr>\n",
       "    <tr>\n",
       "      <th>45</th>\n",
       "      <td>2012-11-11 - 2012-11-17</td>\n",
       "      <td>1.733293</td>\n",
       "      <td>0.523240</td>\n",
       "    </tr>\n",
       "    <tr>\n",
       "      <th>46</th>\n",
       "      <td>2012-11-18 - 2012-11-24</td>\n",
       "      <td>2.304625</td>\n",
       "      <td>0.511288</td>\n",
       "    </tr>\n",
       "    <tr>\n",
       "      <th>47</th>\n",
       "      <td>2012-11-25 - 2012-12-01</td>\n",
       "      <td>2.225997</td>\n",
       "      <td>0.609562</td>\n",
       "    </tr>\n",
       "    <tr>\n",
       "      <th>48</th>\n",
       "      <td>2012-12-02 - 2012-12-08</td>\n",
       "      <td>2.978047</td>\n",
       "      <td>0.671979</td>\n",
       "    </tr>\n",
       "    <tr>\n",
       "      <th>49</th>\n",
       "      <td>2012-12-09 - 2012-12-15</td>\n",
       "      <td>3.600230</td>\n",
       "      <td>0.705179</td>\n",
       "    </tr>\n",
       "    <tr>\n",
       "      <th>50</th>\n",
       "      <td>2012-12-16 - 2012-12-22</td>\n",
       "      <td>4.547268</td>\n",
       "      <td>0.787517</td>\n",
       "    </tr>\n",
       "    <tr>\n",
       "      <th>51</th>\n",
       "      <td>2012-12-23 - 2012-12-29</td>\n",
       "      <td>6.033614</td>\n",
       "      <td>0.805421</td>\n",
       "    </tr>\n",
       "  </tbody>\n",
       "</table>\n",
       "</div>"
      ],
      "text/plain": [
       "                       Week       ILI   Queries\n",
       "0   2012-01-01 - 2012-01-07  1.766707  0.593625\n",
       "1   2012-01-08 - 2012-01-14  1.543401  0.499336\n",
       "2   2012-01-15 - 2012-01-21  1.647615  0.500664\n",
       "3   2012-01-22 - 2012-01-28  1.684297  0.479416\n",
       "4   2012-01-29 - 2012-02-04  1.863542  0.471448\n",
       "5   2012-02-05 - 2012-02-11  1.864079  0.503320\n",
       "6   2012-02-12 - 2012-02-18  2.019927  0.513944\n",
       "7   2012-02-19 - 2012-02-25  2.103851  0.500664\n",
       "8   2012-02-26 - 2012-03-03  2.095549  0.460823\n",
       "9   2012-03-04 - 2012-03-10  2.103983  0.458167\n",
       "10  2012-03-11 - 2012-03-17  2.293422  0.432935\n",
       "11  2012-03-18 - 2012-03-24  1.922234  0.366534\n",
       "12  2012-03-25 - 2012-03-31  1.742386  0.365206\n",
       "13  2012-04-01 - 2012-04-07  1.676014  0.350598\n",
       "14  2012-04-08 - 2012-04-14  1.496371  0.365206\n",
       "15  2012-04-15 - 2012-04-21  1.381198  0.330677\n",
       "16  2012-04-22 - 2012-04-28  1.288493  0.312085\n",
       "17  2012-04-29 - 2012-05-05  1.357842  0.305445\n",
       "18  2012-05-06 - 2012-05-12  1.307628  0.277556\n",
       "19  2012-05-13 - 2012-05-19  1.266919  0.302789\n",
       "20  2012-05-20 - 2012-05-26  1.277310  0.276228\n",
       "21  2012-05-27 - 2012-06-02  1.299020  0.261620\n",
       "22  2012-06-03 - 2012-06-09  1.162353  0.272244\n",
       "23  2012-06-10 - 2012-06-16  1.086121  0.250996\n",
       "24  2012-06-17 - 2012-06-23  1.056796  0.261620\n",
       "25  2012-06-24 - 2012-06-30  1.078713  0.239044\n",
       "26  2012-07-01 - 2012-07-07  1.046702  0.250996\n",
       "27  2012-07-08 - 2012-07-14  0.928152  0.265604\n",
       "28  2012-07-15 - 2012-07-21  0.901936  0.245684\n",
       "29  2012-07-22 - 2012-07-28  0.916041  0.250996\n",
       "30  2012-07-29 - 2012-08-04  0.952407  0.248340\n",
       "31  2012-08-05 - 2012-08-11  0.916454  0.252324\n",
       "32  2012-08-12 - 2012-08-18  0.901787  0.269588\n",
       "33  2012-08-19 - 2012-08-25  1.033151  0.293493\n",
       "34  2012-08-26 - 2012-09-01  1.051987  0.310757\n",
       "35  2012-09-02 - 2012-09-08  1.127134  0.333333\n",
       "36  2012-09-09 - 2012-09-15  1.186489  0.358566\n",
       "37  2012-09-16 - 2012-09-22  1.214153  0.418327\n",
       "38  2012-09-23 - 2012-09-29  1.251981  0.434263\n",
       "39  2012-09-30 - 2012-10-06  1.191883  0.458167\n",
       "40  2012-10-07 - 2012-10-13  1.323889  0.467463\n",
       "41  2012-10-14 - 2012-10-20  1.308543  0.455511\n",
       "42  2012-10-21 - 2012-10-27  1.360590  0.454183\n",
       "43  2012-10-28 - 2012-11-03  1.486025  0.483400\n",
       "44  2012-11-04 - 2012-11-10  1.610915  0.470120\n",
       "45  2012-11-11 - 2012-11-17  1.733293  0.523240\n",
       "46  2012-11-18 - 2012-11-24  2.304625  0.511288\n",
       "47  2012-11-25 - 2012-12-01  2.225997  0.609562\n",
       "48  2012-12-02 - 2012-12-08  2.978047  0.671979\n",
       "49  2012-12-09 - 2012-12-15  3.600230  0.705179\n",
       "50  2012-12-16 - 2012-12-22  4.547268  0.787517\n",
       "51  2012-12-23 - 2012-12-29  6.033614  0.805421"
      ]
     },
     "execution_count": 49,
     "metadata": {},
     "output_type": "execute_result"
    }
   ],
   "source": [
    "FluTest"
   ]
  },
  {
   "cell_type": "code",
   "execution_count": 53,
   "metadata": {},
   "outputs": [
    {
     "data": {
      "text/html": [
       "<div>\n",
       "<style>\n",
       "    .dataframe thead tr:only-child th {\n",
       "        text-align: right;\n",
       "    }\n",
       "\n",
       "    .dataframe thead th {\n",
       "        text-align: left;\n",
       "    }\n",
       "\n",
       "    .dataframe tbody tr th {\n",
       "        vertical-align: top;\n",
       "    }\n",
       "</style>\n",
       "<table border=\"1\" class=\"dataframe\">\n",
       "  <thead>\n",
       "    <tr style=\"text-align: right;\">\n",
       "      <th></th>\n",
       "      <th>Week</th>\n",
       "      <th>ILI</th>\n",
       "      <th>Queries</th>\n",
       "    </tr>\n",
       "  </thead>\n",
       "  <tbody>\n",
       "    <tr>\n",
       "      <th>10</th>\n",
       "      <td>2012-03-11 - 2012-03-17</td>\n",
       "      <td>2.293422</td>\n",
       "      <td>0.432935</td>\n",
       "    </tr>\n",
       "  </tbody>\n",
       "</table>\n",
       "</div>"
      ],
      "text/plain": [
       "                       Week       ILI   Queries\n",
       "10  2012-03-11 - 2012-03-17  2.293422  0.432935"
      ]
     },
     "execution_count": 53,
     "metadata": {},
     "output_type": "execute_result"
    }
   ],
   "source": [
    "FluTest.loc[FluTest['Week'] == '2012-03-11 - 2012-03-17']"
   ]
  },
  {
   "cell_type": "code",
   "execution_count": 50,
   "metadata": {},
   "outputs": [
    {
     "data": {
      "text/plain": [
       "array([ 2.18737772])"
      ]
     },
     "execution_count": 50,
     "metadata": {},
     "output_type": "execute_result"
    }
   ],
   "source": [
    "predicted_values[10]"
   ]
  },
  {
   "cell_type": "markdown",
   "metadata": {},
   "source": [
    "#### What is the relative error betweeen the estimate (our prediction) and the observed value for the week of March 11, 2012? Note that the relative error is calculated as,\n",
    "\n",
    "<br>\n",
    "\n",
    "<font color = 'green'> (Observed ILI - Estimated ILI)/Observed ILI </font>"
   ]
  },
  {
   "cell_type": "code",
   "execution_count": 54,
   "metadata": {},
   "outputs": [
    {
     "data": {
      "text/plain": [
       "0.04623845066455274"
      ]
     },
     "execution_count": 54,
     "metadata": {},
     "output_type": "execute_result"
    }
   ],
   "source": [
    "relative_error = (2.293422 - 2.18737772) / 2.293422\n",
    "relative_error"
   ]
  },
  {
   "cell_type": "markdown",
   "metadata": {},
   "source": [
    "#### What is the Root Mean Square Error (RMSE) between our estimates and the actual observations for the percentage of ILI-related physician visits, on the test set?"
   ]
  },
  {
   "cell_type": "code",
   "execution_count": 55,
   "metadata": {
    "collapsed": true
   },
   "outputs": [],
   "source": [
    "from sklearn.metrics import mean_squared_error"
   ]
  },
  {
   "cell_type": "code",
   "execution_count": 62,
   "metadata": {},
   "outputs": [
    {
     "name": "stdout",
     "output_type": "stream",
     "text": [
      "Mean squared error:  0.561097665762\n"
     ]
    }
   ],
   "source": [
    "mse = mean_squared_error(np.exp(y_test), predicted_values)\n",
    "print(\"Mean squared error: \", mse)"
   ]
  },
  {
   "cell_type": "code",
   "execution_count": 63,
   "metadata": {},
   "outputs": [
    {
     "name": "stdout",
     "output_type": "stream",
     "text": [
      "Root mean squared error:  0.7490645271019668\n"
     ]
    }
   ],
   "source": [
    "rmse = math.sqrt(mean_squared_error(np.exp(y_test), predicted_values))\n",
    "print(\"Root mean squared error: \", rmse)"
   ]
  },
  {
   "cell_type": "markdown",
   "metadata": {},
   "source": [
    "#### Alternatively, it can be calculated as follows:\n",
    "\n",
    "The RMSE can be calculated by first computing the SSE:\n",
    "\n",
    "SSE = sum((predictedValues-FluTest['ILI'])^2)\n",
    "\n",
    "and then dividing by the number of observations and taking the square root:\n",
    "\n",
    "RMSE = sqrt(SSE / len(FluTest))\n",
    "\n",
    "In other words, sqrt(sum((predictedValues - FluTest['ILI'])^2))"
   ]
  },
  {
   "cell_type": "markdown",
   "metadata": {},
   "source": [
    "#### Resources:\n",
    "\n",
    "- https://docs.scipy.org/doc/numpy-1.15.1/reference/generated/numpy.reshape.html\n",
    "- https://www.siyavula.com/read/maths/grade-11/statistics/11-statistics-05\n",
    "- http://blog.minitab.com/blog/adventures-in-statistics-2/regression-analysis-how-do-i-interpret-r-squared-and-assess-the-goodness-of-fit\n",
    "- http://www.endmemo.com/program/R/exp.php\n",
    "- https://docs.scipy.org/doc/numpy-1.15.1/reference/generated/numpy.exp2.html\n",
    "- https://docs.scipy.org/doc/numpy-1.15.1/reference/generated/numpy.exp.html\n",
    "- http://scikit-learn.org/stable/modules/model_evaluation.html#mean-squared-error\n"
   ]
  }
 ],
 "metadata": {
  "kernelspec": {
   "display_name": "Python 3",
   "language": "python",
   "name": "python3"
  },
  "language_info": {
   "codemirror_mode": {
    "name": "ipython",
    "version": 3
   },
   "file_extension": ".py",
   "mimetype": "text/x-python",
   "name": "python",
   "nbconvert_exporter": "python",
   "pygments_lexer": "ipython3",
   "version": "3.6.1"
  }
 },
 "nbformat": 4,
 "nbformat_minor": 2
}
