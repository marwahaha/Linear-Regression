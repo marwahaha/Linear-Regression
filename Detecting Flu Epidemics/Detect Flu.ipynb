{
 "cells": [
  {
   "cell_type": "code",
   "execution_count": 1,
   "metadata": {
    "collapsed": true
   },
   "outputs": [],
   "source": [
    "import pandas as pd"
   ]
  },
  {
   "cell_type": "code",
   "execution_count": 2,
   "metadata": {
    "collapsed": true
   },
   "outputs": [],
   "source": [
    "FluTrain = pd.read_csv('FluTrain.csv')"
   ]
  },
  {
   "cell_type": "code",
   "execution_count": 3,
   "metadata": {},
   "outputs": [
    {
     "data": {
      "text/html": [
       "<div>\n",
       "<style>\n",
       "    .dataframe thead tr:only-child th {\n",
       "        text-align: right;\n",
       "    }\n",
       "\n",
       "    .dataframe thead th {\n",
       "        text-align: left;\n",
       "    }\n",
       "\n",
       "    .dataframe tbody tr th {\n",
       "        vertical-align: top;\n",
       "    }\n",
       "</style>\n",
       "<table border=\"1\" class=\"dataframe\">\n",
       "  <thead>\n",
       "    <tr style=\"text-align: right;\">\n",
       "      <th></th>\n",
       "      <th>Week</th>\n",
       "      <th>ILI</th>\n",
       "      <th>Queries</th>\n",
       "    </tr>\n",
       "  </thead>\n",
       "  <tbody>\n",
       "    <tr>\n",
       "      <th>0</th>\n",
       "      <td>2004-01-04 - 2004-01-10</td>\n",
       "      <td>2.418331</td>\n",
       "      <td>0.237716</td>\n",
       "    </tr>\n",
       "    <tr>\n",
       "      <th>1</th>\n",
       "      <td>2004-01-11 - 2004-01-17</td>\n",
       "      <td>1.809056</td>\n",
       "      <td>0.220452</td>\n",
       "    </tr>\n",
       "    <tr>\n",
       "      <th>2</th>\n",
       "      <td>2004-01-18 - 2004-01-24</td>\n",
       "      <td>1.712024</td>\n",
       "      <td>0.225764</td>\n",
       "    </tr>\n",
       "    <tr>\n",
       "      <th>3</th>\n",
       "      <td>2004-01-25 - 2004-01-31</td>\n",
       "      <td>1.542495</td>\n",
       "      <td>0.237716</td>\n",
       "    </tr>\n",
       "    <tr>\n",
       "      <th>4</th>\n",
       "      <td>2004-02-01 - 2004-02-07</td>\n",
       "      <td>1.437868</td>\n",
       "      <td>0.224436</td>\n",
       "    </tr>\n",
       "  </tbody>\n",
       "</table>\n",
       "</div>"
      ],
      "text/plain": [
       "                      Week       ILI   Queries\n",
       "0  2004-01-04 - 2004-01-10  2.418331  0.237716\n",
       "1  2004-01-11 - 2004-01-17  1.809056  0.220452\n",
       "2  2004-01-18 - 2004-01-24  1.712024  0.225764\n",
       "3  2004-01-25 - 2004-01-31  1.542495  0.237716\n",
       "4  2004-02-01 - 2004-02-07  1.437868  0.224436"
      ]
     },
     "execution_count": 3,
     "metadata": {},
     "output_type": "execute_result"
    }
   ],
   "source": [
    "FluTrain.head()"
   ]
  },
  {
   "cell_type": "markdown",
   "metadata": {},
   "source": [
    "####  Looking at the time period 2004-2011, which week corresponds to the highest percentage of ILI-related physician visits?\n",
    "\n",
    "18-Oct-2009"
   ]
  },
  {
   "cell_type": "code",
   "execution_count": 4,
   "metadata": {},
   "outputs": [
    {
     "data": {
      "text/plain": [
       "302"
      ]
     },
     "execution_count": 4,
     "metadata": {},
     "output_type": "execute_result"
    }
   ],
   "source": [
    "FluTrain['ILI'].idxmax()"
   ]
  },
  {
   "cell_type": "code",
   "execution_count": 5,
   "metadata": {},
   "outputs": [
    {
     "data": {
      "text/plain": [
       "Week       2009-10-18 - 2009-10-24\n",
       "ILI                        7.61889\n",
       "Queries                          1\n",
       "Name: 302, dtype: object"
      ]
     },
     "execution_count": 5,
     "metadata": {},
     "output_type": "execute_result"
    }
   ],
   "source": [
    "FluTrain.loc[FluTrain['ILI'].idxmax()]"
   ]
  },
  {
   "cell_type": "markdown",
   "metadata": {},
   "source": [
    "#### Which week corresponds to the highest percentage of ILI-related query fraction?"
   ]
  },
  {
   "cell_type": "code",
   "execution_count": 6,
   "metadata": {},
   "outputs": [
    {
     "data": {
      "text/plain": [
       "Week       2009-10-18 - 2009-10-24\n",
       "ILI                        7.61889\n",
       "Queries                          1\n",
       "Name: 302, dtype: object"
      ]
     },
     "execution_count": 6,
     "metadata": {},
     "output_type": "execute_result"
    }
   ],
   "source": [
    "FluTrain.loc[FluTrain['Queries'].idxmax()]"
   ]
  },
  {
   "cell_type": "code",
   "execution_count": 7,
   "metadata": {},
   "outputs": [
    {
     "data": {
      "text/plain": [
       "Week        object\n",
       "ILI        float64\n",
       "Queries    float64\n",
       "dtype: object"
      ]
     },
     "execution_count": 7,
     "metadata": {},
     "output_type": "execute_result"
    }
   ],
   "source": [
    "FluTrain.dtypes"
   ]
  },
  {
   "cell_type": "markdown",
   "metadata": {},
   "source": [
    "#### Let us now understand the data at an aggregate level. Plot the histogram of the dependent variable, ILI. What best describes the distribution of values of ILI?\n",
    "\n",
    "- Most of the ILI values are small, with a relatively small number of much larger values (in statistics, this sort of data is called \"skew right\").\n",
    "- The ILI values are balanced, with equal numbers of unusually large and unusually small values.\n",
    "- Most of the ILI values are large, with a relatively small number of much smaller values (in statistics, this sort of data is called \"skew left\").\n",
    "\n",
    "*Most of the ILI values are small, with a relatively small number of much larger values (in statistics, this sort of data is called \"skew right\").*"
   ]
  },
  {
   "cell_type": "code",
   "execution_count": 3,
   "metadata": {
    "collapsed": true
   },
   "outputs": [],
   "source": [
    "import matplotlib.pyplot as plt\n",
    "%matplotlib inline"
   ]
  },
  {
   "cell_type": "code",
   "execution_count": 9,
   "metadata": {},
   "outputs": [
    {
     "data": {
      "text/plain": [
       "<matplotlib.text.Text at 0x172f2575198>"
      ]
     },
     "execution_count": 9,
     "metadata": {},
     "output_type": "execute_result"
    },
    {
     "data": {
      "image/png": "[encoded data removed]",
      "text/plain": [
       "<matplotlib.figure.Figure at 0x172f21b66a0>"
      ]
     },
     "metadata": {},
     "output_type": "display_data"
    }
   ],
   "source": [
    "plt.hist(FluTrain['ILI'], bins = 100)\n",
    "plt.xlabel(\"ILI\")\n",
    "plt.ylabel('Frequency')\n",
    "plt.title('ILI distribution')"
   ]
  },
  {
   "cell_type": "markdown",
   "metadata": {},
   "source": [
    "#### When handling a skewed dependent variable, it is often useful to predict the logarithm of the dependent variable instead of the dependent variable itself -- this prevents the small number of unusually large or small observations from having an undue influence on the sum of squared errors of predictive models. In this problem, we will predict the natural log of the ILI variable.\n",
    "\n",
    "#### Plot the natural logarithm of ILI versus Queries. What does the plot suggest?.\n",
    "\n",
    "- There is a negative, linear relationship between log(ILI) and Queries.\n",
    "- There is no apparent linear relationship between log(ILI) and Queries.\n",
    "- There is a positive, linear relationship between log(ILI) and Queries.\n",
    "\n",
    "*There is a positive, linear relationship between log(ILI) and Queries.*"
   ]
  },
  {
   "cell_type": "code",
   "execution_count": 10,
   "metadata": {},
   "outputs": [
    {
     "data": {
      "text/plain": [
       "<matplotlib.text.Text at 0x172f28118d0>"
      ]
     },
     "execution_count": 10,
     "metadata": {},
     "output_type": "execute_result"
    },
    {
     "data": {
      "image/png": "[encoded data removed]",
      "text/plain": [
       "<matplotlib.figure.Figure at 0x172f25cea20>"
      ]
     },
     "metadata": {},
     "output_type": "display_data"
    }
   ],
   "source": [
    "#plt.plot(x=FluTrain['ILI'], y = FluTrain['Queries'])\n",
    "fig = plt.figure()\n",
    "ax = plt.gca()\n",
    "ax.plot(FluTrain['ILI'], FluTrain['Queries'])\n",
    "ax.set_xscale('log')\n",
    "plt.xlabel('ILI')\n",
    "plt.ylabel('Queries')"
   ]
  },
  {
   "cell_type": "code",
   "execution_count": 11,
   "metadata": {},
   "outputs": [
    {
     "data": {
      "text/plain": [
       "<matplotlib.text.Text at 0x172f2b9c080>"
      ]
     },
     "execution_count": 11,
     "metadata": {},
     "output_type": "execute_result"
    },
    {
     "data": {
      "image/png": "[encoded data removed]",
      "text/plain": [
       "<matplotlib.figure.Figure at 0x172f284d9b0>"
      ]
     },
     "metadata": {},
     "output_type": "display_data"
    }
   ],
   "source": [
    "plt.scatter(FluTrain['ILI'], FluTrain['Queries'])\n",
    "plt.xscale('log')\n",
    "plt.xlabel('ILI')\n",
    "plt.ylabel('Queries')\n",
    "plt.title('ILI vs Queries')"
   ]
  },
  {
   "cell_type": "markdown",
   "metadata": {},
   "source": [
    "#### Based on the plot we just made, it seems that a linear regression model could be a good modeling choice. Based on our understanding of the data from the previous subproblem, which model best describes our estimation problem?\n",
    "\n",
    "- ILI = intercept + coefficient x Queries, where the coefficient is negative\n",
    "- Queries = intercept + coefficient x ILI, where the coefficient is negative\n",
    "- ILI = intercept + coefficient x Queries, where the coefficient is positive\n",
    "- Queries = intercept + coefficient x ILI, where the coefficient is positive\n",
    "- log(ILI) = intercept + coefficient x Queries, where the coefficient is negative\n",
    "- Queries = intercept + coefficient x log(ILI), where the coefficient is negative\n",
    "- log(ILI) = intercept + coefficient x Queries, where the coefficient is positive\n",
    "- Queries = intercept + coefficient x log(ILI), where the coeffcient is positive\n",
    "\n",
    "*log(ILI) = intercept + coefficient x Queries, where the coefficient is positive*"
   ]
  },
  {
   "cell_type": "code",
   "execution_count": 4,
   "metadata": {
    "collapsed": true
   },
   "outputs": [],
   "source": [
    "from sklearn import linear_model\n",
    "linear_regression = linear_model.LinearRegression()"
   ]
  },
  {
   "cell_type": "code",
   "execution_count": 5,
   "metadata": {
    "collapsed": true
   },
   "outputs": [],
   "source": [
    "import numpy as np"
   ]
  },
  {
   "cell_type": "code",
   "execution_count": 6,
   "metadata": {},
   "outputs": [
    {
     "name": "stdout",
     "output_type": "stream",
     "text": [
      "(417, 1)\n",
      "(417, 1)\n"
     ]
    }
   ],
   "source": [
    "X_train = FluTrain['Queries'].values.reshape((len(FluTrain['Queries']), 1))\n",
    "y_train = pd.DataFrame(np.log(FluTrain['ILI']))\n",
    "#linear_regression.fit(X_train, y_train)\n",
    "print(X_train.shape)\n",
    "print(y_train.shape)"
   ]
  },
  {
   "cell_type": "code",
   "execution_count": 7,
   "metadata": {},
   "outputs": [
    {
     "data": {
      "text/plain": [
       "LinearRegression(copy_X=True, fit_intercept=True, n_jobs=1, normalize=False)"
      ]
     },
     "execution_count": 7,
     "metadata": {},
     "output_type": "execute_result"
    }
   ],
   "source": [
    "linear_regression.fit(X_train, y_train)"
   ]
  },
  {
   "cell_type": "code",
   "execution_count": 8,
   "metadata": {},
   "outputs": [
    {
     "name": "stderr",
     "output_type": "stream",
     "text": [
      "C:\\Users\\Vivek\\Anaconda3\\lib\\site-packages\\sklearn\\utils\\deprecation.py:70: DeprecationWarning: Function residues_ is deprecated; ``residues_`` is deprecated and will be removed in 0.19\n",
      "  warnings.warn(msg, category=DeprecationWarning)\n"
     ]
    },
    {
     "data": {
      "text/plain": [
       "array([ 37.23120641])"
      ]
     },
     "execution_count": 8,
     "metadata": {},
     "output_type": "execute_result"
    }
   ],
   "source": [
    "linear_regression.residues_"
   ]
  },
  {
   "cell_type": "markdown",
   "metadata": {},
   "source": [
    "\\begin{equation*}\n",
    "SSE (Sum of Squared Errors)   = 37.23120641\n",
    "\\end{equation*}"
   ]
  },
  {
   "cell_type": "code",
   "execution_count": 9,
   "metadata": {
    "collapsed": true
   },
   "outputs": [],
   "source": [
    "import math"
   ]
  },
  {
   "cell_type": "code",
   "execution_count": 18,
   "metadata": {},
   "outputs": [
    {
     "name": "stderr",
     "output_type": "stream",
     "text": [
      "C:\\Users\\Vivek\\Anaconda3\\lib\\site-packages\\sklearn\\utils\\deprecation.py:70: DeprecationWarning: Function residues_ is deprecated; ``residues_`` is deprecated and will be removed in 0.19\n",
      "  warnings.warn(msg, category=DeprecationWarning)\n"
     ]
    },
    {
     "data": {
      "text/plain": [
       "0.29880339458256205"
      ]
     },
     "execution_count": 18,
     "metadata": {},
     "output_type": "execute_result"
    }
   ],
   "source": [
    "RMSE = math.sqrt(linear_regression.residues_[0] / len(FluTrain))\n",
    "RMSE"
   ]
  },
  {
   "cell_type": "markdown",
   "metadata": {},
   "source": [
    "\\begin{equation*}\n",
    "RMSE (Root Mean Squared Error)   = 0.29880339458256205\n",
    "\\end{equation*}"
   ]
  },
  {
   "cell_type": "markdown",
   "metadata": {},
   "source": [
    "#### What is the training set R-squared value for FluTrend1 model (the \"Multiple R-squared\")?\n",
    "\n",
    "0.709020055"
   ]
  },
  {
   "cell_type": "code",
   "execution_count": 10,
   "metadata": {},
   "outputs": [
    {
     "data": {
      "text/plain": [
       "0.70902005534818646"
      ]
     },
     "execution_count": 10,
     "metadata": {},
     "output_type": "execute_result"
    }
   ],
   "source": [
    "linear_regression.score(X_train, y_train)"
   ]
  },
  {
   "cell_type": "markdown",
   "metadata": {},
   "source": [
    "\\begin{equation*}\n",
    "R^2   = 0.709020055\n",
    "\\end{equation*}"
   ]
  },
  {
   "cell_type": "markdown",
   "metadata": {},
   "source": [
    "#### For a single variable linear regression model, there is a direct relationship between the R-squared and the correlation between the independent and the dependent variables. What is the relationship we infer from our problem? \n",
    "\n",
    "- R-squared = Correlation^2\n",
    "- R-squared = log(1/Correlation)\n",
    "- R-squared = exp(-0.5*Correlation)\n",
    "\n",
    "*R-squared = Correlation^2*"
   ]
  },
  {
   "cell_type": "code",
   "execution_count": 20,
   "metadata": {},
   "outputs": [
    {
     "data": {
      "text/plain": [
       "0.81421151130322911"
      ]
     },
     "execution_count": 20,
     "metadata": {},
     "output_type": "execute_result"
    }
   ],
   "source": [
    "FluTrain['ILI'].corr(FluTrain['Queries'])"
   ]
  },
  {
   "cell_type": "code",
   "execution_count": 21,
   "metadata": {},
   "outputs": [
    {
     "data": {
      "text/plain": [
       "0.84203328636591723"
      ]
     },
     "execution_count": 21,
     "metadata": {},
     "output_type": "execute_result"
    }
   ],
   "source": [
    "FluTrain['Queries'].corr(np.log(FluTrain['ILI']))"
   ]
  },
  {
   "cell_type": "code",
   "execution_count": 22,
   "metadata": {},
   "outputs": [
    {
     "data": {
      "text/html": [
       "<div>\n",
       "<style>\n",
       "    .dataframe thead tr:only-child th {\n",
       "        text-align: right;\n",
       "    }\n",
       "\n",
       "    .dataframe thead th {\n",
       "        text-align: left;\n",
       "    }\n",
       "\n",
       "    .dataframe tbody tr th {\n",
       "        vertical-align: top;\n",
       "    }\n",
       "</style>\n",
       "<table border=\"1\" class=\"dataframe\">\n",
       "  <thead>\n",
       "    <tr style=\"text-align: right;\">\n",
       "      <th></th>\n",
       "      <th>ILI</th>\n",
       "      <th>Queries</th>\n",
       "    </tr>\n",
       "  </thead>\n",
       "  <tbody>\n",
       "    <tr>\n",
       "      <th>ILI</th>\n",
       "      <td>1.000000</td>\n",
       "      <td>0.814212</td>\n",
       "    </tr>\n",
       "    <tr>\n",
       "      <th>Queries</th>\n",
       "      <td>0.814212</td>\n",
       "      <td>1.000000</td>\n",
       "    </tr>\n",
       "  </tbody>\n",
       "</table>\n",
       "</div>"
      ],
      "text/plain": [
       "              ILI   Queries\n",
       "ILI      1.000000  0.814212\n",
       "Queries  0.814212  1.000000"
      ]
     },
     "execution_count": 22,
     "metadata": {},
     "output_type": "execute_result"
    }
   ],
   "source": [
    "FluTrain.corr()"
   ]
  },
  {
   "cell_type": "code",
   "execution_count": 11,
   "metadata": {},
   "outputs": [
    {
     "name": "stdout",
     "output_type": "stream",
     "text": [
      "(array([ 0.84203329]), array([  2.62109684e-113]))\n"
     ]
    }
   ],
   "source": [
    "from scipy.stats.stats import pearsonr\n",
    "print(pearsonr(X_train, y_train))"
   ]
  },
  {
   "cell_type": "code",
   "execution_count": 24,
   "metadata": {},
   "outputs": [
    {
     "data": {
      "text/plain": [
       "0.7090200547319578"
      ]
     },
     "execution_count": 24,
     "metadata": {},
     "output_type": "execute_result"
    }
   ],
   "source": [
    "correlation_squared = .842033286 * .842033286\n",
    "correlation_squared"
   ]
  },
  {
   "cell_type": "markdown",
   "metadata": {},
   "source": [
    "#### This is close to the R^2 value"
   ]
  },
  {
   "cell_type": "markdown",
   "metadata": {},
   "source": [
    "***"
   ]
  },
  {
   "cell_type": "markdown",
   "metadata": {},
   "source": [
    "#### The csv file FluTest.csv provides the 2012 weekly data of the ILI-related search queries and the observed weekly percentage of ILI-related physician visits.\n",
    "\n",
    "#### Normally, we would obtain test-set predictions from the model 'linear_regression' using the code\n",
    "\n",
    "    linear_regression.predict()\n",
    "\n",
    "#### However, the dependent variable in our model is log(ILI), so predicted_values would contain predictions of the log(ILI) value. We are instead interested in obtaining predictions of the ILI value. We can convert from predictions of log(ILI) to predictions of ILI via exponentiation, or the exp() function. The new code, which predicts the ILI value, is\n",
    "\n",
    "np.exp(linear_regression.predict(X_test))"
   ]
  },
  {
   "cell_type": "markdown",
   "metadata": {},
   "source": [
    "#### What is our estimate for the percentage of ILI-related physician visits for the week of March 11, 2012? "
   ]
  },
  {
   "cell_type": "code",
   "execution_count": 12,
   "metadata": {
    "collapsed": true
   },
   "outputs": [],
   "source": [
    "FluTest = pd.read_csv('FluTest.csv')"
   ]
  },
  {
   "cell_type": "code",
   "execution_count": 13,
   "metadata": {},
   "outputs": [
    {
     "name": "stdout",
     "output_type": "stream",
     "text": [
      "(52, 1)\n",
      "(52, 1)\n"
     ]
    }
   ],
   "source": [
    "X_test = FluTest['Queries'].values.reshape((len(FluTest['Queries']), 1))\n",
    "y_test = pd.DataFrame(np.log(FluTest['ILI']))\n",
    "#linear_regression.fit(X_train, y_train)\n",
    "print(X_test.shape)\n",
    "print(y_test.shape)"
   ]
  },
  {
   "cell_type": "code",
   "execution_count": 14,
   "metadata": {
    "collapsed": true
   },
   "outputs": [],
   "source": [
    "predicted_values = np.exp(linear_regression.predict(X_test))"
   ]
  },
  {
   "cell_type": "code",
   "execution_count": 28,
   "metadata": {},
   "outputs": [
    {
     "data": {
      "text/html": [
       "<div>\n",
       "<style>\n",
       "    .dataframe thead tr:only-child th {\n",
       "        text-align: right;\n",
       "    }\n",
       "\n",
       "    .dataframe thead th {\n",
       "        text-align: left;\n",
       "    }\n",
       "\n",
       "    .dataframe tbody tr th {\n",
       "        vertical-align: top;\n",
       "    }\n",
       "</style>\n",
       "<table border=\"1\" class=\"dataframe\">\n",
       "  <thead>\n",
       "    <tr style=\"text-align: right;\">\n",
       "      <th></th>\n",
       "      <th>Week</th>\n",
       "      <th>ILI</th>\n",
       "      <th>Queries</th>\n",
       "    </tr>\n",
       "  </thead>\n",
       "  <tbody>\n",
       "    <tr>\n",
       "      <th>0</th>\n",
       "      <td>2012-01-01 - 2012-01-07</td>\n",
       "      <td>1.766707</td>\n",
       "      <td>0.593625</td>\n",
       "    </tr>\n",
       "    <tr>\n",
       "      <th>1</th>\n",
       "      <td>2012-01-08 - 2012-01-14</td>\n",
       "      <td>1.543401</td>\n",
       "      <td>0.499336</td>\n",
       "    </tr>\n",
       "    <tr>\n",
       "      <th>2</th>\n",
       "      <td>2012-01-15 - 2012-01-21</td>\n",
       "      <td>1.647615</td>\n",
       "      <td>0.500664</td>\n",
       "    </tr>\n",
       "    <tr>\n",
       "      <th>3</th>\n",
       "      <td>2012-01-22 - 2012-01-28</td>\n",
       "      <td>1.684297</td>\n",
       "      <td>0.479416</td>\n",
       "    </tr>\n",
       "    <tr>\n",
       "      <th>4</th>\n",
       "      <td>2012-01-29 - 2012-02-04</td>\n",
       "      <td>1.863542</td>\n",
       "      <td>0.471448</td>\n",
       "    </tr>\n",
       "    <tr>\n",
       "      <th>5</th>\n",
       "      <td>2012-02-05 - 2012-02-11</td>\n",
       "      <td>1.864079</td>\n",
       "      <td>0.503320</td>\n",
       "    </tr>\n",
       "    <tr>\n",
       "      <th>6</th>\n",
       "      <td>2012-02-12 - 2012-02-18</td>\n",
       "      <td>2.019927</td>\n",
       "      <td>0.513944</td>\n",
       "    </tr>\n",
       "    <tr>\n",
       "      <th>7</th>\n",
       "      <td>2012-02-19 - 2012-02-25</td>\n",
       "      <td>2.103851</td>\n",
       "      <td>0.500664</td>\n",
       "    </tr>\n",
       "    <tr>\n",
       "      <th>8</th>\n",
       "      <td>2012-02-26 - 2012-03-03</td>\n",
       "      <td>2.095549</td>\n",
       "      <td>0.460823</td>\n",
       "    </tr>\n",
       "    <tr>\n",
       "      <th>9</th>\n",
       "      <td>2012-03-04 - 2012-03-10</td>\n",
       "      <td>2.103983</td>\n",
       "      <td>0.458167</td>\n",
       "    </tr>\n",
       "    <tr>\n",
       "      <th>10</th>\n",
       "      <td>2012-03-11 - 2012-03-17</td>\n",
       "      <td>2.293422</td>\n",
       "      <td>0.432935</td>\n",
       "    </tr>\n",
       "    <tr>\n",
       "      <th>11</th>\n",
       "      <td>2012-03-18 - 2012-03-24</td>\n",
       "      <td>1.922234</td>\n",
       "      <td>0.366534</td>\n",
       "    </tr>\n",
       "    <tr>\n",
       "      <th>12</th>\n",
       "      <td>2012-03-25 - 2012-03-31</td>\n",
       "      <td>1.742386</td>\n",
       "      <td>0.365206</td>\n",
       "    </tr>\n",
       "    <tr>\n",
       "      <th>13</th>\n",
       "      <td>2012-04-01 - 2012-04-07</td>\n",
       "      <td>1.676014</td>\n",
       "      <td>0.350598</td>\n",
       "    </tr>\n",
       "    <tr>\n",
       "      <th>14</th>\n",
       "      <td>2012-04-08 - 2012-04-14</td>\n",
       "      <td>1.496371</td>\n",
       "      <td>0.365206</td>\n",
       "    </tr>\n",
       "  </tbody>\n",
       "</table>\n",
       "</div>"
      ],
      "text/plain": [
       "                       Week       ILI   Queries\n",
       "0   2012-01-01 - 2012-01-07  1.766707  0.593625\n",
       "1   2012-01-08 - 2012-01-14  1.543401  0.499336\n",
       "2   2012-01-15 - 2012-01-21  1.647615  0.500664\n",
       "3   2012-01-22 - 2012-01-28  1.684297  0.479416\n",
       "4   2012-01-29 - 2012-02-04  1.863542  0.471448\n",
       "5   2012-02-05 - 2012-02-11  1.864079  0.503320\n",
       "6   2012-02-12 - 2012-02-18  2.019927  0.513944\n",
       "7   2012-02-19 - 2012-02-25  2.103851  0.500664\n",
       "8   2012-02-26 - 2012-03-03  2.095549  0.460823\n",
       "9   2012-03-04 - 2012-03-10  2.103983  0.458167\n",
       "10  2012-03-11 - 2012-03-17  2.293422  0.432935\n",
       "11  2012-03-18 - 2012-03-24  1.922234  0.366534\n",
       "12  2012-03-25 - 2012-03-31  1.742386  0.365206\n",
       "13  2012-04-01 - 2012-04-07  1.676014  0.350598\n",
       "14  2012-04-08 - 2012-04-14  1.496371  0.365206"
      ]
     },
     "execution_count": 28,
     "metadata": {},
     "output_type": "execute_result"
    }
   ],
   "source": [
    "FluTest.head(15)"
   ]
  },
  {
   "cell_type": "code",
   "execution_count": 29,
   "metadata": {},
   "outputs": [
    {
     "data": {
      "text/html": [
       "<div>\n",
       "<style>\n",
       "    .dataframe thead tr:only-child th {\n",
       "        text-align: right;\n",
       "    }\n",
       "\n",
       "    .dataframe thead th {\n",
       "        text-align: left;\n",
       "    }\n",
       "\n",
       "    .dataframe tbody tr th {\n",
       "        vertical-align: top;\n",
       "    }\n",
       "</style>\n",
       "<table border=\"1\" class=\"dataframe\">\n",
       "  <thead>\n",
       "    <tr style=\"text-align: right;\">\n",
       "      <th></th>\n",
       "      <th>Week</th>\n",
       "      <th>ILI</th>\n",
       "      <th>Queries</th>\n",
       "    </tr>\n",
       "  </thead>\n",
       "  <tbody>\n",
       "    <tr>\n",
       "      <th>10</th>\n",
       "      <td>2012-03-11 - 2012-03-17</td>\n",
       "      <td>2.293422</td>\n",
       "      <td>0.432935</td>\n",
       "    </tr>\n",
       "  </tbody>\n",
       "</table>\n",
       "</div>"
      ],
      "text/plain": [
       "                       Week       ILI   Queries\n",
       "10  2012-03-11 - 2012-03-17  2.293422  0.432935"
      ]
     },
     "execution_count": 29,
     "metadata": {},
     "output_type": "execute_result"
    }
   ],
   "source": [
    "FluTest.loc[FluTest['Week'] == '2012-03-11 - 2012-03-17']"
   ]
  },
  {
   "cell_type": "code",
   "execution_count": 30,
   "metadata": {},
   "outputs": [
    {
     "data": {
      "text/plain": [
       "array([ 2.18737772])"
      ]
     },
     "execution_count": 30,
     "metadata": {},
     "output_type": "execute_result"
    }
   ],
   "source": [
    "predicted_values[10]"
   ]
  },
  {
   "cell_type": "markdown",
   "metadata": {},
   "source": [
    "***"
   ]
  },
  {
   "cell_type": "markdown",
   "metadata": {},
   "source": [
    "#### What is the relative error betweeen the estimate (our prediction) and the observed value for the week of March 11, 2012? Note that the relative error is calculated as,\n",
    "\n",
    "<br>\n",
    "\n",
    "<font color = 'green'> (Observed ILI - Estimated ILI)/Observed ILI </font>"
   ]
  },
  {
   "cell_type": "code",
   "execution_count": 31,
   "metadata": {},
   "outputs": [
    {
     "data": {
      "text/plain": [
       "0.04623845066455274"
      ]
     },
     "execution_count": 31,
     "metadata": {},
     "output_type": "execute_result"
    }
   ],
   "source": [
    "relative_error = (2.293422 - 2.18737772) / 2.293422\n",
    "relative_error"
   ]
  },
  {
   "cell_type": "markdown",
   "metadata": {},
   "source": [
    "#### What is the Root Mean Square Error (RMSE) between our estimates and the actual observations for the percentage of ILI-related physician visits, on the test set?"
   ]
  },
  {
   "cell_type": "code",
   "execution_count": 15,
   "metadata": {
    "collapsed": true
   },
   "outputs": [],
   "source": [
    "from sklearn.metrics import mean_squared_error"
   ]
  },
  {
   "cell_type": "code",
   "execution_count": 16,
   "metadata": {},
   "outputs": [
    {
     "name": "stdout",
     "output_type": "stream",
     "text": [
      "Mean squared error:  0.561097665762\n"
     ]
    }
   ],
   "source": [
    "mse = mean_squared_error(np.exp(y_test), predicted_values)\n",
    "print(\"Mean squared error: \", mse)"
   ]
  },
  {
   "cell_type": "code",
   "execution_count": 17,
   "metadata": {},
   "outputs": [
    {
     "name": "stdout",
     "output_type": "stream",
     "text": [
      "Root mean squared error:  0.7490645271019668\n"
     ]
    }
   ],
   "source": [
    "rmse = math.sqrt(mean_squared_error(np.exp(y_test), predicted_values))\n",
    "print(\"Root mean squared error: \", rmse)"
   ]
  },
  {
   "cell_type": "markdown",
   "metadata": {},
   "source": [
    "#### Alternatively, it can be calculated as follows:\n",
    "\n",
    "The RMSE can be calculated by first computing the SSE:\n",
    "\n",
    "SSE = sum((predictedValues-FluTest['ILI'])^2)\n",
    "\n",
    "and then dividing by the number of observations and taking the square root:\n",
    "\n",
    "RMSE = sqrt(SSE / len(FluTest))\n",
    "\n",
    "In other words, sqrt(sum((predictedValues - FluTest['ILI'])^2))"
   ]
  },
  {
   "cell_type": "markdown",
   "metadata": {},
   "source": [
    "***"
   ]
  },
  {
   "cell_type": "markdown",
   "metadata": {},
   "source": [
    "#### The observations in this dataset are consecutive weekly measurements of the dependent and independent variables. This sort of dataset is called a \"time series.\" Often, statistical models can be improved by predicting the current value of the dependent variable using the value of the dependent variable from earlier weeks. In our models, this means we will predict the ILI variable in the current week using values of the ILI variable from previous weeks.\n",
    "\n",
    "#### First, we need to decide the amount of time to lag the observations. Because the ILI variable is reported with a 1- or 2-week lag, a decision maker cannot rely on the previous week's ILI value to predict the current week's value. Instead, the decision maker will only have data available from 2 or more weeks ago. We will build a variable called ILI_Lag_2_Weeks that contains the ILI value from 2 weeks before the current observation."
   ]
  },
  {
   "cell_type": "code",
   "execution_count": 35,
   "metadata": {},
   "outputs": [
    {
     "data": {
      "text/html": [
       "<div>\n",
       "<style>\n",
       "    .dataframe thead tr:only-child th {\n",
       "        text-align: right;\n",
       "    }\n",
       "\n",
       "    .dataframe thead th {\n",
       "        text-align: left;\n",
       "    }\n",
       "\n",
       "    .dataframe tbody tr th {\n",
       "        vertical-align: top;\n",
       "    }\n",
       "</style>\n",
       "<table border=\"1\" class=\"dataframe\">\n",
       "  <thead>\n",
       "    <tr style=\"text-align: right;\">\n",
       "      <th></th>\n",
       "      <th>Week</th>\n",
       "      <th>ILI</th>\n",
       "      <th>Queries</th>\n",
       "    </tr>\n",
       "  </thead>\n",
       "  <tbody>\n",
       "    <tr>\n",
       "      <th>0</th>\n",
       "      <td>2004-01-04 - 2004-01-10</td>\n",
       "      <td>2.418331</td>\n",
       "      <td>0.237716</td>\n",
       "    </tr>\n",
       "    <tr>\n",
       "      <th>1</th>\n",
       "      <td>2004-01-11 - 2004-01-17</td>\n",
       "      <td>1.809056</td>\n",
       "      <td>0.220452</td>\n",
       "    </tr>\n",
       "    <tr>\n",
       "      <th>2</th>\n",
       "      <td>2004-01-18 - 2004-01-24</td>\n",
       "      <td>1.712024</td>\n",
       "      <td>0.225764</td>\n",
       "    </tr>\n",
       "    <tr>\n",
       "      <th>3</th>\n",
       "      <td>2004-01-25 - 2004-01-31</td>\n",
       "      <td>1.542495</td>\n",
       "      <td>0.237716</td>\n",
       "    </tr>\n",
       "    <tr>\n",
       "      <th>4</th>\n",
       "      <td>2004-02-01 - 2004-02-07</td>\n",
       "      <td>1.437868</td>\n",
       "      <td>0.224436</td>\n",
       "    </tr>\n",
       "    <tr>\n",
       "      <th>5</th>\n",
       "      <td>2004-02-08 - 2004-02-14</td>\n",
       "      <td>1.324274</td>\n",
       "      <td>0.207171</td>\n",
       "    </tr>\n",
       "    <tr>\n",
       "      <th>6</th>\n",
       "      <td>2004-02-15 - 2004-02-21</td>\n",
       "      <td>1.307257</td>\n",
       "      <td>0.241700</td>\n",
       "    </tr>\n",
       "    <tr>\n",
       "      <th>7</th>\n",
       "      <td>2004-02-22 - 2004-02-28</td>\n",
       "      <td>1.036977</td>\n",
       "      <td>0.216467</td>\n",
       "    </tr>\n",
       "    <tr>\n",
       "      <th>8</th>\n",
       "      <td>2004-02-29 - 2004-03-06</td>\n",
       "      <td>1.010320</td>\n",
       "      <td>0.225764</td>\n",
       "    </tr>\n",
       "    <tr>\n",
       "      <th>9</th>\n",
       "      <td>2004-03-07 - 2004-03-13</td>\n",
       "      <td>1.052492</td>\n",
       "      <td>0.199203</td>\n",
       "    </tr>\n",
       "  </tbody>\n",
       "</table>\n",
       "</div>"
      ],
      "text/plain": [
       "                      Week       ILI   Queries\n",
       "0  2004-01-04 - 2004-01-10  2.418331  0.237716\n",
       "1  2004-01-11 - 2004-01-17  1.809056  0.220452\n",
       "2  2004-01-18 - 2004-01-24  1.712024  0.225764\n",
       "3  2004-01-25 - 2004-01-31  1.542495  0.237716\n",
       "4  2004-02-01 - 2004-02-07  1.437868  0.224436\n",
       "5  2004-02-08 - 2004-02-14  1.324274  0.207171\n",
       "6  2004-02-15 - 2004-02-21  1.307257  0.241700\n",
       "7  2004-02-22 - 2004-02-28  1.036977  0.216467\n",
       "8  2004-02-29 - 2004-03-06  1.010320  0.225764\n",
       "9  2004-03-07 - 2004-03-13  1.052492  0.199203"
      ]
     },
     "execution_count": 35,
     "metadata": {},
     "output_type": "execute_result"
    }
   ],
   "source": [
    "FluTrain.head(10)"
   ]
  },
  {
   "cell_type": "code",
   "execution_count": 36,
   "metadata": {},
   "outputs": [
    {
     "data": {
      "text/plain": [
       "Week        object\n",
       "ILI        float64\n",
       "Queries    float64\n",
       "dtype: object"
      ]
     },
     "execution_count": 36,
     "metadata": {},
     "output_type": "execute_result"
    }
   ],
   "source": [
    "FluTrain.dtypes"
   ]
  },
  {
   "cell_type": "code",
   "execution_count": 18,
   "metadata": {
    "collapsed": true
   },
   "outputs": [],
   "source": [
    "FluTrain['Week_Time_Series'] = pd.to_datetime(FluTrain['Week'])"
   ]
  },
  {
   "cell_type": "code",
   "execution_count": 38,
   "metadata": {},
   "outputs": [
    {
     "data": {
      "text/plain": [
       "Week                        object\n",
       "ILI                        float64\n",
       "Queries                    float64\n",
       "Week_Time_Series    datetime64[ns]\n",
       "dtype: object"
      ]
     },
     "execution_count": 38,
     "metadata": {},
     "output_type": "execute_result"
    }
   ],
   "source": [
    "FluTrain.dtypes"
   ]
  },
  {
   "cell_type": "code",
   "execution_count": 50,
   "metadata": {},
   "outputs": [
    {
     "data": {
      "text/html": [
       "<div>\n",
       "<style>\n",
       "    .dataframe thead tr:only-child th {\n",
       "        text-align: right;\n",
       "    }\n",
       "\n",
       "    .dataframe thead th {\n",
       "        text-align: left;\n",
       "    }\n",
       "\n",
       "    .dataframe tbody tr th {\n",
       "        vertical-align: top;\n",
       "    }\n",
       "</style>\n",
       "<table border=\"1\" class=\"dataframe\">\n",
       "  <thead>\n",
       "    <tr style=\"text-align: right;\">\n",
       "      <th></th>\n",
       "      <th>Week</th>\n",
       "      <th>ILI</th>\n",
       "      <th>Queries</th>\n",
       "      <th>Week_Time_Series</th>\n",
       "    </tr>\n",
       "  </thead>\n",
       "  <tbody>\n",
       "    <tr>\n",
       "      <th>0</th>\n",
       "      <td>2004-01-04 - 2004-01-10</td>\n",
       "      <td>2.418331</td>\n",
       "      <td>0.237716</td>\n",
       "      <td>2004-01-05 06:04:00</td>\n",
       "    </tr>\n",
       "    <tr>\n",
       "      <th>1</th>\n",
       "      <td>2004-01-11 - 2004-01-17</td>\n",
       "      <td>1.809056</td>\n",
       "      <td>0.220452</td>\n",
       "      <td>2004-01-12 13:04:00</td>\n",
       "    </tr>\n",
       "    <tr>\n",
       "      <th>2</th>\n",
       "      <td>2004-01-18 - 2004-01-24</td>\n",
       "      <td>1.712024</td>\n",
       "      <td>0.225764</td>\n",
       "      <td>2004-01-19 20:04:00</td>\n",
       "    </tr>\n",
       "    <tr>\n",
       "      <th>3</th>\n",
       "      <td>2004-01-25 - 2004-01-31</td>\n",
       "      <td>1.542495</td>\n",
       "      <td>0.237716</td>\n",
       "      <td>2004-01-27 03:04:00</td>\n",
       "    </tr>\n",
       "    <tr>\n",
       "      <th>4</th>\n",
       "      <td>2004-02-01 - 2004-02-07</td>\n",
       "      <td>1.437868</td>\n",
       "      <td>0.224436</td>\n",
       "      <td>2004-02-02 03:04:00</td>\n",
       "    </tr>\n",
       "  </tbody>\n",
       "</table>\n",
       "</div>"
      ],
      "text/plain": [
       "                      Week       ILI   Queries    Week_Time_Series\n",
       "0  2004-01-04 - 2004-01-10  2.418331  0.237716 2004-01-05 06:04:00\n",
       "1  2004-01-11 - 2004-01-17  1.809056  0.220452 2004-01-12 13:04:00\n",
       "2  2004-01-18 - 2004-01-24  1.712024  0.225764 2004-01-19 20:04:00\n",
       "3  2004-01-25 - 2004-01-31  1.542495  0.237716 2004-01-27 03:04:00\n",
       "4  2004-02-01 - 2004-02-07  1.437868  0.224436 2004-02-02 03:04:00"
      ]
     },
     "execution_count": 50,
     "metadata": {},
     "output_type": "execute_result"
    }
   ],
   "source": [
    "FluTrain.head()"
   ]
  },
  {
   "cell_type": "code",
   "execution_count": 19,
   "metadata": {
    "collapsed": true
   },
   "outputs": [],
   "source": [
    "FluTrain2 = pd.read_csv('FluTrain.csv', parse_dates=[0])"
   ]
  },
  {
   "cell_type": "code",
   "execution_count": 41,
   "metadata": {},
   "outputs": [
    {
     "data": {
      "text/html": [
       "<div>\n",
       "<style>\n",
       "    .dataframe thead tr:only-child th {\n",
       "        text-align: right;\n",
       "    }\n",
       "\n",
       "    .dataframe thead th {\n",
       "        text-align: left;\n",
       "    }\n",
       "\n",
       "    .dataframe tbody tr th {\n",
       "        vertical-align: top;\n",
       "    }\n",
       "</style>\n",
       "<table border=\"1\" class=\"dataframe\">\n",
       "  <thead>\n",
       "    <tr style=\"text-align: right;\">\n",
       "      <th></th>\n",
       "      <th>Week</th>\n",
       "      <th>ILI</th>\n",
       "      <th>Queries</th>\n",
       "    </tr>\n",
       "  </thead>\n",
       "  <tbody>\n",
       "    <tr>\n",
       "      <th>0</th>\n",
       "      <td>2004-01-05 06:04:00</td>\n",
       "      <td>2.418331</td>\n",
       "      <td>0.237716</td>\n",
       "    </tr>\n",
       "    <tr>\n",
       "      <th>1</th>\n",
       "      <td>2004-01-12 13:04:00</td>\n",
       "      <td>1.809056</td>\n",
       "      <td>0.220452</td>\n",
       "    </tr>\n",
       "    <tr>\n",
       "      <th>2</th>\n",
       "      <td>2004-01-19 20:04:00</td>\n",
       "      <td>1.712024</td>\n",
       "      <td>0.225764</td>\n",
       "    </tr>\n",
       "    <tr>\n",
       "      <th>3</th>\n",
       "      <td>2004-01-27 03:04:00</td>\n",
       "      <td>1.542495</td>\n",
       "      <td>0.237716</td>\n",
       "    </tr>\n",
       "    <tr>\n",
       "      <th>4</th>\n",
       "      <td>2004-02-02 03:04:00</td>\n",
       "      <td>1.437868</td>\n",
       "      <td>0.224436</td>\n",
       "    </tr>\n",
       "  </tbody>\n",
       "</table>\n",
       "</div>"
      ],
      "text/plain": [
       "                 Week       ILI   Queries\n",
       "0 2004-01-05 06:04:00  2.418331  0.237716\n",
       "1 2004-01-12 13:04:00  1.809056  0.220452\n",
       "2 2004-01-19 20:04:00  1.712024  0.225764\n",
       "3 2004-01-27 03:04:00  1.542495  0.237716\n",
       "4 2004-02-02 03:04:00  1.437868  0.224436"
      ]
     },
     "execution_count": 41,
     "metadata": {},
     "output_type": "execute_result"
    }
   ],
   "source": [
    "FluTrain2.head()"
   ]
  },
  {
   "cell_type": "code",
   "execution_count": 42,
   "metadata": {},
   "outputs": [
    {
     "data": {
      "text/plain": [
       "Week       datetime64[ns]\n",
       "ILI               float64\n",
       "Queries           float64\n",
       "dtype: object"
      ]
     },
     "execution_count": 42,
     "metadata": {},
     "output_type": "execute_result"
    }
   ],
   "source": [
    "FluTrain2.dtypes"
   ]
  },
  {
   "cell_type": "code",
   "execution_count": 20,
   "metadata": {},
   "outputs": [
    {
     "data": {
      "text/html": [
       "<div>\n",
       "<style>\n",
       "    .dataframe thead tr:only-child th {\n",
       "        text-align: right;\n",
       "    }\n",
       "\n",
       "    .dataframe thead th {\n",
       "        text-align: left;\n",
       "    }\n",
       "\n",
       "    .dataframe tbody tr th {\n",
       "        vertical-align: top;\n",
       "    }\n",
       "</style>\n",
       "<table border=\"1\" class=\"dataframe\">\n",
       "  <thead>\n",
       "    <tr style=\"text-align: right;\">\n",
       "      <th></th>\n",
       "      <th>Start_Date</th>\n",
       "      <th>End_Date</th>\n",
       "    </tr>\n",
       "  </thead>\n",
       "  <tbody>\n",
       "    <tr>\n",
       "      <th>0</th>\n",
       "      <td>2004-01-04</td>\n",
       "      <td>2004-01-10</td>\n",
       "    </tr>\n",
       "    <tr>\n",
       "      <th>1</th>\n",
       "      <td>2004-01-11</td>\n",
       "      <td>2004-01-17</td>\n",
       "    </tr>\n",
       "    <tr>\n",
       "      <th>2</th>\n",
       "      <td>2004-01-18</td>\n",
       "      <td>2004-01-24</td>\n",
       "    </tr>\n",
       "    <tr>\n",
       "      <th>3</th>\n",
       "      <td>2004-01-25</td>\n",
       "      <td>2004-01-31</td>\n",
       "    </tr>\n",
       "    <tr>\n",
       "      <th>4</th>\n",
       "      <td>2004-02-01</td>\n",
       "      <td>2004-02-07</td>\n",
       "    </tr>\n",
       "  </tbody>\n",
       "</table>\n",
       "</div>"
      ],
      "text/plain": [
       "   Start_Date    End_Date\n",
       "0  2004-01-04  2004-01-10\n",
       "1  2004-01-11  2004-01-17\n",
       "2  2004-01-18  2004-01-24\n",
       "3  2004-01-25  2004-01-31\n",
       "4  2004-02-01  2004-02-07"
      ]
     },
     "execution_count": 20,
     "metadata": {},
     "output_type": "execute_result"
    }
   ],
   "source": [
    "FluTrain3 = pd.read_csv('FluTrain.csv')\n",
    "FluTrain3['Week'].astype(str).str.split(' - ', 1, expand = True).rename(columns = {0:'Start_Date', 1 : 'End_Date'}).head()"
   ]
  },
  {
   "cell_type": "code",
   "execution_count": 21,
   "metadata": {
    "collapsed": true
   },
   "outputs": [],
   "source": [
    "FluTrain[['Start_Date',  'End_Date']] = FluTrain['Week'].astype(str).str.split(' - ', 1, expand = True)"
   ]
  },
  {
   "cell_type": "code",
   "execution_count": 22,
   "metadata": {},
   "outputs": [
    {
     "data": {
      "text/html": [
       "<div>\n",
       "<style>\n",
       "    .dataframe thead tr:only-child th {\n",
       "        text-align: right;\n",
       "    }\n",
       "\n",
       "    .dataframe thead th {\n",
       "        text-align: left;\n",
       "    }\n",
       "\n",
       "    .dataframe tbody tr th {\n",
       "        vertical-align: top;\n",
       "    }\n",
       "</style>\n",
       "<table border=\"1\" class=\"dataframe\">\n",
       "  <thead>\n",
       "    <tr style=\"text-align: right;\">\n",
       "      <th></th>\n",
       "      <th>Week</th>\n",
       "      <th>ILI</th>\n",
       "      <th>Queries</th>\n",
       "      <th>Week_Time_Series</th>\n",
       "      <th>Start_Date</th>\n",
       "      <th>End_Date</th>\n",
       "    </tr>\n",
       "  </thead>\n",
       "  <tbody>\n",
       "    <tr>\n",
       "      <th>0</th>\n",
       "      <td>2004-01-04 - 2004-01-10</td>\n",
       "      <td>2.418331</td>\n",
       "      <td>0.237716</td>\n",
       "      <td>2004-01-05 06:04:00</td>\n",
       "      <td>2004-01-04</td>\n",
       "      <td>2004-01-10</td>\n",
       "    </tr>\n",
       "    <tr>\n",
       "      <th>1</th>\n",
       "      <td>2004-01-11 - 2004-01-17</td>\n",
       "      <td>1.809056</td>\n",
       "      <td>0.220452</td>\n",
       "      <td>2004-01-12 13:04:00</td>\n",
       "      <td>2004-01-11</td>\n",
       "      <td>2004-01-17</td>\n",
       "    </tr>\n",
       "    <tr>\n",
       "      <th>2</th>\n",
       "      <td>2004-01-18 - 2004-01-24</td>\n",
       "      <td>1.712024</td>\n",
       "      <td>0.225764</td>\n",
       "      <td>2004-01-19 20:04:00</td>\n",
       "      <td>2004-01-18</td>\n",
       "      <td>2004-01-24</td>\n",
       "    </tr>\n",
       "    <tr>\n",
       "      <th>3</th>\n",
       "      <td>2004-01-25 - 2004-01-31</td>\n",
       "      <td>1.542495</td>\n",
       "      <td>0.237716</td>\n",
       "      <td>2004-01-27 03:04:00</td>\n",
       "      <td>2004-01-25</td>\n",
       "      <td>2004-01-31</td>\n",
       "    </tr>\n",
       "    <tr>\n",
       "      <th>4</th>\n",
       "      <td>2004-02-01 - 2004-02-07</td>\n",
       "      <td>1.437868</td>\n",
       "      <td>0.224436</td>\n",
       "      <td>2004-02-02 03:04:00</td>\n",
       "      <td>2004-02-01</td>\n",
       "      <td>2004-02-07</td>\n",
       "    </tr>\n",
       "  </tbody>\n",
       "</table>\n",
       "</div>"
      ],
      "text/plain": [
       "                      Week       ILI   Queries    Week_Time_Series  \\\n",
       "0  2004-01-04 - 2004-01-10  2.418331  0.237716 2004-01-05 06:04:00   \n",
       "1  2004-01-11 - 2004-01-17  1.809056  0.220452 2004-01-12 13:04:00   \n",
       "2  2004-01-18 - 2004-01-24  1.712024  0.225764 2004-01-19 20:04:00   \n",
       "3  2004-01-25 - 2004-01-31  1.542495  0.237716 2004-01-27 03:04:00   \n",
       "4  2004-02-01 - 2004-02-07  1.437868  0.224436 2004-02-02 03:04:00   \n",
       "\n",
       "   Start_Date    End_Date  \n",
       "0  2004-01-04  2004-01-10  \n",
       "1  2004-01-11  2004-01-17  \n",
       "2  2004-01-18  2004-01-24  \n",
       "3  2004-01-25  2004-01-31  \n",
       "4  2004-02-01  2004-02-07  "
      ]
     },
     "execution_count": 22,
     "metadata": {},
     "output_type": "execute_result"
    }
   ],
   "source": [
    "FluTrain.head()"
   ]
  },
  {
   "cell_type": "code",
   "execution_count": 53,
   "metadata": {},
   "outputs": [
    {
     "data": {
      "text/plain": [
       "Week                        object\n",
       "ILI                        float64\n",
       "Queries                    float64\n",
       "Week_Time_Series    datetime64[ns]\n",
       "Start_Date                  object\n",
       "End_Date                    object\n",
       "dtype: object"
      ]
     },
     "execution_count": 53,
     "metadata": {},
     "output_type": "execute_result"
    }
   ],
   "source": [
    "FluTrain.dtypes"
   ]
  },
  {
   "cell_type": "code",
   "execution_count": 23,
   "metadata": {
    "collapsed": true
   },
   "outputs": [],
   "source": [
    "FluTrain['Start_Date'] = pd.to_datetime(FluTrain['Start_Date'])"
   ]
  },
  {
   "cell_type": "code",
   "execution_count": 24,
   "metadata": {
    "collapsed": true
   },
   "outputs": [],
   "source": [
    "FluTrain['End_Date'] = pd.to_datetime(FluTrain['End_Date'])"
   ]
  },
  {
   "cell_type": "code",
   "execution_count": 25,
   "metadata": {},
   "outputs": [
    {
     "data": {
      "text/plain": [
       "Week                        object\n",
       "ILI                        float64\n",
       "Queries                    float64\n",
       "Week_Time_Series    datetime64[ns]\n",
       "Start_Date          datetime64[ns]\n",
       "End_Date            datetime64[ns]\n",
       "dtype: object"
      ]
     },
     "execution_count": 25,
     "metadata": {},
     "output_type": "execute_result"
    }
   ],
   "source": [
    "FluTrain.dtypes"
   ]
  },
  {
   "cell_type": "code",
   "execution_count": 58,
   "metadata": {},
   "outputs": [
    {
     "data": {
      "text/html": [
       "<div>\n",
       "<style>\n",
       "    .dataframe thead tr:only-child th {\n",
       "        text-align: right;\n",
       "    }\n",
       "\n",
       "    .dataframe thead th {\n",
       "        text-align: left;\n",
       "    }\n",
       "\n",
       "    .dataframe tbody tr th {\n",
       "        vertical-align: top;\n",
       "    }\n",
       "</style>\n",
       "<table border=\"1\" class=\"dataframe\">\n",
       "  <thead>\n",
       "    <tr style=\"text-align: right;\">\n",
       "      <th></th>\n",
       "      <th>Week</th>\n",
       "      <th>ILI</th>\n",
       "      <th>Queries</th>\n",
       "      <th>Week_Time_Series</th>\n",
       "      <th>Start_Date</th>\n",
       "      <th>End_Date</th>\n",
       "    </tr>\n",
       "  </thead>\n",
       "  <tbody>\n",
       "    <tr>\n",
       "      <th>0</th>\n",
       "      <td>2004-01-04 - 2004-01-10</td>\n",
       "      <td>2.418331</td>\n",
       "      <td>0.237716</td>\n",
       "      <td>2004-01-05 06:04:00</td>\n",
       "      <td>2004-01-04</td>\n",
       "      <td>2004-01-10</td>\n",
       "    </tr>\n",
       "    <tr>\n",
       "      <th>1</th>\n",
       "      <td>2004-01-11 - 2004-01-17</td>\n",
       "      <td>1.809056</td>\n",
       "      <td>0.220452</td>\n",
       "      <td>2004-01-12 13:04:00</td>\n",
       "      <td>2004-01-11</td>\n",
       "      <td>2004-01-17</td>\n",
       "    </tr>\n",
       "    <tr>\n",
       "      <th>2</th>\n",
       "      <td>2004-01-18 - 2004-01-24</td>\n",
       "      <td>1.712024</td>\n",
       "      <td>0.225764</td>\n",
       "      <td>2004-01-19 20:04:00</td>\n",
       "      <td>2004-01-18</td>\n",
       "      <td>2004-01-24</td>\n",
       "    </tr>\n",
       "    <tr>\n",
       "      <th>3</th>\n",
       "      <td>2004-01-25 - 2004-01-31</td>\n",
       "      <td>1.542495</td>\n",
       "      <td>0.237716</td>\n",
       "      <td>2004-01-27 03:04:00</td>\n",
       "      <td>2004-01-25</td>\n",
       "      <td>2004-01-31</td>\n",
       "    </tr>\n",
       "    <tr>\n",
       "      <th>4</th>\n",
       "      <td>2004-02-01 - 2004-02-07</td>\n",
       "      <td>1.437868</td>\n",
       "      <td>0.224436</td>\n",
       "      <td>2004-02-02 03:04:00</td>\n",
       "      <td>2004-02-01</td>\n",
       "      <td>2004-02-07</td>\n",
       "    </tr>\n",
       "  </tbody>\n",
       "</table>\n",
       "</div>"
      ],
      "text/plain": [
       "                      Week       ILI   Queries    Week_Time_Series Start_Date  \\\n",
       "0  2004-01-04 - 2004-01-10  2.418331  0.237716 2004-01-05 06:04:00 2004-01-04   \n",
       "1  2004-01-11 - 2004-01-17  1.809056  0.220452 2004-01-12 13:04:00 2004-01-11   \n",
       "2  2004-01-18 - 2004-01-24  1.712024  0.225764 2004-01-19 20:04:00 2004-01-18   \n",
       "3  2004-01-25 - 2004-01-31  1.542495  0.237716 2004-01-27 03:04:00 2004-01-25   \n",
       "4  2004-02-01 - 2004-02-07  1.437868  0.224436 2004-02-02 03:04:00 2004-02-01   \n",
       "\n",
       "    End_Date  \n",
       "0 2004-01-10  \n",
       "1 2004-01-17  \n",
       "2 2004-01-24  \n",
       "3 2004-01-31  \n",
       "4 2004-02-07  "
      ]
     },
     "execution_count": 58,
     "metadata": {},
     "output_type": "execute_result"
    }
   ],
   "source": [
    "FluTrain.head()"
   ]
  },
  {
   "cell_type": "code",
   "execution_count": 26,
   "metadata": {
    "collapsed": true
   },
   "outputs": [],
   "source": [
    "offset = pd.Timedelta(2, 'W')"
   ]
  },
  {
   "cell_type": "code",
   "execution_count": 27,
   "metadata": {
    "collapsed": true
   },
   "outputs": [],
   "source": [
    "sample_date = pd.to_datetime('2018-10-05')"
   ]
  },
  {
   "cell_type": "code",
   "execution_count": 61,
   "metadata": {},
   "outputs": [
    {
     "data": {
      "text/plain": [
       "Timestamp('2018-10-19 00:00:00')"
      ]
     },
     "execution_count": 61,
     "metadata": {},
     "output_type": "execute_result"
    }
   ],
   "source": [
    "sample_date + offset"
   ]
  },
  {
   "cell_type": "code",
   "execution_count": 62,
   "metadata": {},
   "outputs": [
    {
     "data": {
      "text/plain": [
       "Timestamp('2018-09-21 00:00:00')"
      ]
     },
     "execution_count": 62,
     "metadata": {},
     "output_type": "execute_result"
    }
   ],
   "source": [
    "sample_date - offset"
   ]
  },
  {
   "cell_type": "code",
   "execution_count": 28,
   "metadata": {
    "collapsed": true
   },
   "outputs": [],
   "source": [
    "FluTrain['Start_Date_Offset_2_Weeks'] = FluTrain['Start_Date'].shift(2)"
   ]
  },
  {
   "cell_type": "code",
   "execution_count": 29,
   "metadata": {},
   "outputs": [
    {
     "data": {
      "text/html": [
       "<div>\n",
       "<style>\n",
       "    .dataframe thead tr:only-child th {\n",
       "        text-align: right;\n",
       "    }\n",
       "\n",
       "    .dataframe thead th {\n",
       "        text-align: left;\n",
       "    }\n",
       "\n",
       "    .dataframe tbody tr th {\n",
       "        vertical-align: top;\n",
       "    }\n",
       "</style>\n",
       "<table border=\"1\" class=\"dataframe\">\n",
       "  <thead>\n",
       "    <tr style=\"text-align: right;\">\n",
       "      <th></th>\n",
       "      <th>Week</th>\n",
       "      <th>ILI</th>\n",
       "      <th>Queries</th>\n",
       "      <th>Week_Time_Series</th>\n",
       "      <th>Start_Date</th>\n",
       "      <th>End_Date</th>\n",
       "      <th>Start_Date_Offset_2_Weeks</th>\n",
       "    </tr>\n",
       "  </thead>\n",
       "  <tbody>\n",
       "    <tr>\n",
       "      <th>0</th>\n",
       "      <td>2004-01-04 - 2004-01-10</td>\n",
       "      <td>2.418331</td>\n",
       "      <td>0.237716</td>\n",
       "      <td>2004-01-05 06:04:00</td>\n",
       "      <td>2004-01-04</td>\n",
       "      <td>2004-01-10</td>\n",
       "      <td>NaT</td>\n",
       "    </tr>\n",
       "    <tr>\n",
       "      <th>1</th>\n",
       "      <td>2004-01-11 - 2004-01-17</td>\n",
       "      <td>1.809056</td>\n",
       "      <td>0.220452</td>\n",
       "      <td>2004-01-12 13:04:00</td>\n",
       "      <td>2004-01-11</td>\n",
       "      <td>2004-01-17</td>\n",
       "      <td>NaT</td>\n",
       "    </tr>\n",
       "    <tr>\n",
       "      <th>2</th>\n",
       "      <td>2004-01-18 - 2004-01-24</td>\n",
       "      <td>1.712024</td>\n",
       "      <td>0.225764</td>\n",
       "      <td>2004-01-19 20:04:00</td>\n",
       "      <td>2004-01-18</td>\n",
       "      <td>2004-01-24</td>\n",
       "      <td>2004-01-04</td>\n",
       "    </tr>\n",
       "    <tr>\n",
       "      <th>3</th>\n",
       "      <td>2004-01-25 - 2004-01-31</td>\n",
       "      <td>1.542495</td>\n",
       "      <td>0.237716</td>\n",
       "      <td>2004-01-27 03:04:00</td>\n",
       "      <td>2004-01-25</td>\n",
       "      <td>2004-01-31</td>\n",
       "      <td>2004-01-11</td>\n",
       "    </tr>\n",
       "    <tr>\n",
       "      <th>4</th>\n",
       "      <td>2004-02-01 - 2004-02-07</td>\n",
       "      <td>1.437868</td>\n",
       "      <td>0.224436</td>\n",
       "      <td>2004-02-02 03:04:00</td>\n",
       "      <td>2004-02-01</td>\n",
       "      <td>2004-02-07</td>\n",
       "      <td>2004-01-18</td>\n",
       "    </tr>\n",
       "  </tbody>\n",
       "</table>\n",
       "</div>"
      ],
      "text/plain": [
       "                      Week       ILI   Queries    Week_Time_Series Start_Date  \\\n",
       "0  2004-01-04 - 2004-01-10  2.418331  0.237716 2004-01-05 06:04:00 2004-01-04   \n",
       "1  2004-01-11 - 2004-01-17  1.809056  0.220452 2004-01-12 13:04:00 2004-01-11   \n",
       "2  2004-01-18 - 2004-01-24  1.712024  0.225764 2004-01-19 20:04:00 2004-01-18   \n",
       "3  2004-01-25 - 2004-01-31  1.542495  0.237716 2004-01-27 03:04:00 2004-01-25   \n",
       "4  2004-02-01 - 2004-02-07  1.437868  0.224436 2004-02-02 03:04:00 2004-02-01   \n",
       "\n",
       "    End_Date Start_Date_Offset_2_Weeks  \n",
       "0 2004-01-10                       NaT  \n",
       "1 2004-01-17                       NaT  \n",
       "2 2004-01-24                2004-01-04  \n",
       "3 2004-01-31                2004-01-11  \n",
       "4 2004-02-07                2004-01-18  "
      ]
     },
     "execution_count": 29,
     "metadata": {},
     "output_type": "execute_result"
    }
   ],
   "source": [
    "FluTrain.head()"
   ]
  },
  {
   "cell_type": "code",
   "execution_count": 30,
   "metadata": {
    "collapsed": true
   },
   "outputs": [],
   "source": [
    "FluTrain['End_Date_Offset_2_Weeks'] = FluTrain['End_Date'].shift(2)"
   ]
  },
  {
   "cell_type": "code",
   "execution_count": 66,
   "metadata": {},
   "outputs": [
    {
     "data": {
      "text/html": [
       "<div>\n",
       "<style>\n",
       "    .dataframe thead tr:only-child th {\n",
       "        text-align: right;\n",
       "    }\n",
       "\n",
       "    .dataframe thead th {\n",
       "        text-align: left;\n",
       "    }\n",
       "\n",
       "    .dataframe tbody tr th {\n",
       "        vertical-align: top;\n",
       "    }\n",
       "</style>\n",
       "<table border=\"1\" class=\"dataframe\">\n",
       "  <thead>\n",
       "    <tr style=\"text-align: right;\">\n",
       "      <th></th>\n",
       "      <th>Week</th>\n",
       "      <th>ILI</th>\n",
       "      <th>Queries</th>\n",
       "      <th>Week_Time_Series</th>\n",
       "      <th>Start_Date</th>\n",
       "      <th>End_Date</th>\n",
       "      <th>Start_Date_Offset_2_Weeks</th>\n",
       "      <th>End_Date_Offset_2_Weeks</th>\n",
       "    </tr>\n",
       "  </thead>\n",
       "  <tbody>\n",
       "    <tr>\n",
       "      <th>0</th>\n",
       "      <td>2004-01-04 - 2004-01-10</td>\n",
       "      <td>2.418331</td>\n",
       "      <td>0.237716</td>\n",
       "      <td>2004-01-05 06:04:00</td>\n",
       "      <td>2004-01-04</td>\n",
       "      <td>2004-01-10</td>\n",
       "      <td>NaT</td>\n",
       "      <td>NaT</td>\n",
       "    </tr>\n",
       "    <tr>\n",
       "      <th>1</th>\n",
       "      <td>2004-01-11 - 2004-01-17</td>\n",
       "      <td>1.809056</td>\n",
       "      <td>0.220452</td>\n",
       "      <td>2004-01-12 13:04:00</td>\n",
       "      <td>2004-01-11</td>\n",
       "      <td>2004-01-17</td>\n",
       "      <td>NaT</td>\n",
       "      <td>NaT</td>\n",
       "    </tr>\n",
       "    <tr>\n",
       "      <th>2</th>\n",
       "      <td>2004-01-18 - 2004-01-24</td>\n",
       "      <td>1.712024</td>\n",
       "      <td>0.225764</td>\n",
       "      <td>2004-01-19 20:04:00</td>\n",
       "      <td>2004-01-18</td>\n",
       "      <td>2004-01-24</td>\n",
       "      <td>2004-01-04</td>\n",
       "      <td>2004-01-10</td>\n",
       "    </tr>\n",
       "    <tr>\n",
       "      <th>3</th>\n",
       "      <td>2004-01-25 - 2004-01-31</td>\n",
       "      <td>1.542495</td>\n",
       "      <td>0.237716</td>\n",
       "      <td>2004-01-27 03:04:00</td>\n",
       "      <td>2004-01-25</td>\n",
       "      <td>2004-01-31</td>\n",
       "      <td>2004-01-11</td>\n",
       "      <td>2004-01-17</td>\n",
       "    </tr>\n",
       "    <tr>\n",
       "      <th>4</th>\n",
       "      <td>2004-02-01 - 2004-02-07</td>\n",
       "      <td>1.437868</td>\n",
       "      <td>0.224436</td>\n",
       "      <td>2004-02-02 03:04:00</td>\n",
       "      <td>2004-02-01</td>\n",
       "      <td>2004-02-07</td>\n",
       "      <td>2004-01-18</td>\n",
       "      <td>2004-01-24</td>\n",
       "    </tr>\n",
       "  </tbody>\n",
       "</table>\n",
       "</div>"
      ],
      "text/plain": [
       "                      Week       ILI   Queries    Week_Time_Series Start_Date  \\\n",
       "0  2004-01-04 - 2004-01-10  2.418331  0.237716 2004-01-05 06:04:00 2004-01-04   \n",
       "1  2004-01-11 - 2004-01-17  1.809056  0.220452 2004-01-12 13:04:00 2004-01-11   \n",
       "2  2004-01-18 - 2004-01-24  1.712024  0.225764 2004-01-19 20:04:00 2004-01-18   \n",
       "3  2004-01-25 - 2004-01-31  1.542495  0.237716 2004-01-27 03:04:00 2004-01-25   \n",
       "4  2004-02-01 - 2004-02-07  1.437868  0.224436 2004-02-02 03:04:00 2004-02-01   \n",
       "\n",
       "    End_Date Start_Date_Offset_2_Weeks End_Date_Offset_2_Weeks  \n",
       "0 2004-01-10                       NaT                     NaT  \n",
       "1 2004-01-17                       NaT                     NaT  \n",
       "2 2004-01-24                2004-01-04              2004-01-10  \n",
       "3 2004-01-31                2004-01-11              2004-01-17  \n",
       "4 2004-02-07                2004-01-18              2004-01-24  "
      ]
     },
     "execution_count": 66,
     "metadata": {},
     "output_type": "execute_result"
    }
   ],
   "source": [
    "FluTrain.head()"
   ]
  },
  {
   "cell_type": "code",
   "execution_count": 31,
   "metadata": {
    "collapsed": true
   },
   "outputs": [],
   "source": [
    "FluTrain['ILI_Lag_2_Weeks'] = FluTrain['ILI'].shift(2)"
   ]
  },
  {
   "cell_type": "code",
   "execution_count": 68,
   "metadata": {},
   "outputs": [
    {
     "data": {
      "text/html": [
       "<div>\n",
       "<style>\n",
       "    .dataframe thead tr:only-child th {\n",
       "        text-align: right;\n",
       "    }\n",
       "\n",
       "    .dataframe thead th {\n",
       "        text-align: left;\n",
       "    }\n",
       "\n",
       "    .dataframe tbody tr th {\n",
       "        vertical-align: top;\n",
       "    }\n",
       "</style>\n",
       "<table border=\"1\" class=\"dataframe\">\n",
       "  <thead>\n",
       "    <tr style=\"text-align: right;\">\n",
       "      <th></th>\n",
       "      <th>Week</th>\n",
       "      <th>ILI</th>\n",
       "      <th>Queries</th>\n",
       "      <th>Week_Time_Series</th>\n",
       "      <th>Start_Date</th>\n",
       "      <th>End_Date</th>\n",
       "      <th>Start_Date_Offset_2_Weeks</th>\n",
       "      <th>End_Date_Offset_2_Weeks</th>\n",
       "      <th>ILI_Lag_2_Weeks</th>\n",
       "    </tr>\n",
       "  </thead>\n",
       "  <tbody>\n",
       "    <tr>\n",
       "      <th>0</th>\n",
       "      <td>2004-01-04 - 2004-01-10</td>\n",
       "      <td>2.418331</td>\n",
       "      <td>0.237716</td>\n",
       "      <td>2004-01-05 06:04:00</td>\n",
       "      <td>2004-01-04</td>\n",
       "      <td>2004-01-10</td>\n",
       "      <td>NaT</td>\n",
       "      <td>NaT</td>\n",
       "      <td>NaN</td>\n",
       "    </tr>\n",
       "    <tr>\n",
       "      <th>1</th>\n",
       "      <td>2004-01-11 - 2004-01-17</td>\n",
       "      <td>1.809056</td>\n",
       "      <td>0.220452</td>\n",
       "      <td>2004-01-12 13:04:00</td>\n",
       "      <td>2004-01-11</td>\n",
       "      <td>2004-01-17</td>\n",
       "      <td>NaT</td>\n",
       "      <td>NaT</td>\n",
       "      <td>NaN</td>\n",
       "    </tr>\n",
       "    <tr>\n",
       "      <th>2</th>\n",
       "      <td>2004-01-18 - 2004-01-24</td>\n",
       "      <td>1.712024</td>\n",
       "      <td>0.225764</td>\n",
       "      <td>2004-01-19 20:04:00</td>\n",
       "      <td>2004-01-18</td>\n",
       "      <td>2004-01-24</td>\n",
       "      <td>2004-01-04</td>\n",
       "      <td>2004-01-10</td>\n",
       "      <td>2.418331</td>\n",
       "    </tr>\n",
       "    <tr>\n",
       "      <th>3</th>\n",
       "      <td>2004-01-25 - 2004-01-31</td>\n",
       "      <td>1.542495</td>\n",
       "      <td>0.237716</td>\n",
       "      <td>2004-01-27 03:04:00</td>\n",
       "      <td>2004-01-25</td>\n",
       "      <td>2004-01-31</td>\n",
       "      <td>2004-01-11</td>\n",
       "      <td>2004-01-17</td>\n",
       "      <td>1.809056</td>\n",
       "    </tr>\n",
       "    <tr>\n",
       "      <th>4</th>\n",
       "      <td>2004-02-01 - 2004-02-07</td>\n",
       "      <td>1.437868</td>\n",
       "      <td>0.224436</td>\n",
       "      <td>2004-02-02 03:04:00</td>\n",
       "      <td>2004-02-01</td>\n",
       "      <td>2004-02-07</td>\n",
       "      <td>2004-01-18</td>\n",
       "      <td>2004-01-24</td>\n",
       "      <td>1.712024</td>\n",
       "    </tr>\n",
       "  </tbody>\n",
       "</table>\n",
       "</div>"
      ],
      "text/plain": [
       "                      Week       ILI   Queries    Week_Time_Series Start_Date  \\\n",
       "0  2004-01-04 - 2004-01-10  2.418331  0.237716 2004-01-05 06:04:00 2004-01-04   \n",
       "1  2004-01-11 - 2004-01-17  1.809056  0.220452 2004-01-12 13:04:00 2004-01-11   \n",
       "2  2004-01-18 - 2004-01-24  1.712024  0.225764 2004-01-19 20:04:00 2004-01-18   \n",
       "3  2004-01-25 - 2004-01-31  1.542495  0.237716 2004-01-27 03:04:00 2004-01-25   \n",
       "4  2004-02-01 - 2004-02-07  1.437868  0.224436 2004-02-02 03:04:00 2004-02-01   \n",
       "\n",
       "    End_Date Start_Date_Offset_2_Weeks End_Date_Offset_2_Weeks  \\\n",
       "0 2004-01-10                       NaT                     NaT   \n",
       "1 2004-01-17                       NaT                     NaT   \n",
       "2 2004-01-24                2004-01-04              2004-01-10   \n",
       "3 2004-01-31                2004-01-11              2004-01-17   \n",
       "4 2004-02-07                2004-01-18              2004-01-24   \n",
       "\n",
       "   ILI_Lag_2_Weeks  \n",
       "0              NaN  \n",
       "1              NaN  \n",
       "2         2.418331  \n",
       "3         1.809056  \n",
       "4         1.712024  "
      ]
     },
     "execution_count": 68,
     "metadata": {},
     "output_type": "execute_result"
    }
   ],
   "source": [
    "FluTrain.head()"
   ]
  },
  {
   "cell_type": "markdown",
   "metadata": {},
   "source": [
    "#### How many values are missing in the new ILILag2 variable?\n",
    "\n",
    "2"
   ]
  },
  {
   "cell_type": "markdown",
   "metadata": {},
   "source": [
    "***"
   ]
  },
  {
   "cell_type": "markdown",
   "metadata": {},
   "source": [
    "#### Plot the log of ILI_Lag_2_Weeks against the log of ILI. Which best describes the relationship between these two variables?\n",
    "\n",
    "- There is a strong negative relationship between log(ILILag2) and log(ILI).\n",
    "- This is a weak or no relationship between log(ILILag2) and log(ILI)\n",
    "- There is a strong positive relationship between log(ILILag2) and log(ILI)\n",
    "\n",
    "*There is a strong positive relationship between log(ILILag2) and log(ILI)*"
   ]
  },
  {
   "cell_type": "code",
   "execution_count": 69,
   "metadata": {},
   "outputs": [
    {
     "data": {
      "text/plain": [
       "<matplotlib.text.Text at 0x172f4f33208>"
      ]
     },
     "execution_count": 69,
     "metadata": {},
     "output_type": "execute_result"
    },
    {
     "data": {
      "image/png": "[encoded data removed]",
      "text/plain": [
       "<matplotlib.figure.Figure at 0x172f27d3400>"
      ]
     },
     "metadata": {},
     "output_type": "display_data"
    }
   ],
   "source": [
    "plt.scatter(FluTrain['ILI'], FluTrain['ILI_Lag_2_Weeks'])\n",
    "plt.xscale('log')\n",
    "plt.yscale('log')\n",
    "plt.xlabel('ILI')\n",
    "plt.ylabel('ILI_Lagged_By_2_Weeks')\n",
    "plt.title('ILI vs ILI_Lagged_By_2_Weeks')"
   ]
  },
  {
   "cell_type": "markdown",
   "metadata": {},
   "source": [
    "***"
   ]
  },
  {
   "cell_type": "markdown",
   "metadata": {},
   "source": [
    "#### Train a linear regression model on the FluTrain dataset to predict the log of the ILI variable using the Queries variable as well as the log of the ILILag2 variable.\n",
    "\n",
    "#### Which coefficients are significant at the p=0.05 level in this regression model? (Select all that apply.)\n",
    "\n",
    "- Intercept\n",
    "- Queries\n",
    "- log(ILI_Lag_2_Weeks)\n",
    "\n",
    "*All of them are significant*\n",
    "\n",
    "\n",
    "\n",
    "#### What is the R^2 value of the FluTrend2 model?\n",
    "\n",
    "0.906"
   ]
  },
  {
   "cell_type": "code",
   "execution_count": 32,
   "metadata": {
    "collapsed": true
   },
   "outputs": [],
   "source": [
    "FluTrain_Model_4 = FluTrain[['ILI', 'Queries', 'ILI_Lag_2_Weeks']]"
   ]
  },
  {
   "cell_type": "code",
   "execution_count": 71,
   "metadata": {},
   "outputs": [
    {
     "data": {
      "text/html": [
       "<div>\n",
       "<style>\n",
       "    .dataframe thead tr:only-child th {\n",
       "        text-align: right;\n",
       "    }\n",
       "\n",
       "    .dataframe thead th {\n",
       "        text-align: left;\n",
       "    }\n",
       "\n",
       "    .dataframe tbody tr th {\n",
       "        vertical-align: top;\n",
       "    }\n",
       "</style>\n",
       "<table border=\"1\" class=\"dataframe\">\n",
       "  <thead>\n",
       "    <tr style=\"text-align: right;\">\n",
       "      <th></th>\n",
       "      <th>ILI</th>\n",
       "      <th>Queries</th>\n",
       "      <th>ILI_Lag_2_Weeks</th>\n",
       "    </tr>\n",
       "  </thead>\n",
       "  <tbody>\n",
       "    <tr>\n",
       "      <th>0</th>\n",
       "      <td>2.418331</td>\n",
       "      <td>0.237716</td>\n",
       "      <td>NaN</td>\n",
       "    </tr>\n",
       "    <tr>\n",
       "      <th>1</th>\n",
       "      <td>1.809056</td>\n",
       "      <td>0.220452</td>\n",
       "      <td>NaN</td>\n",
       "    </tr>\n",
       "    <tr>\n",
       "      <th>2</th>\n",
       "      <td>1.712024</td>\n",
       "      <td>0.225764</td>\n",
       "      <td>2.418331</td>\n",
       "    </tr>\n",
       "    <tr>\n",
       "      <th>3</th>\n",
       "      <td>1.542495</td>\n",
       "      <td>0.237716</td>\n",
       "      <td>1.809056</td>\n",
       "    </tr>\n",
       "    <tr>\n",
       "      <th>4</th>\n",
       "      <td>1.437868</td>\n",
       "      <td>0.224436</td>\n",
       "      <td>1.712024</td>\n",
       "    </tr>\n",
       "  </tbody>\n",
       "</table>\n",
       "</div>"
      ],
      "text/plain": [
       "        ILI   Queries  ILI_Lag_2_Weeks\n",
       "0  2.418331  0.237716              NaN\n",
       "1  1.809056  0.220452              NaN\n",
       "2  1.712024  0.225764         2.418331\n",
       "3  1.542495  0.237716         1.809056\n",
       "4  1.437868  0.224436         1.712024"
      ]
     },
     "execution_count": 71,
     "metadata": {},
     "output_type": "execute_result"
    }
   ],
   "source": [
    "FluTrain_Model_4.head()"
   ]
  },
  {
   "cell_type": "code",
   "execution_count": 33,
   "metadata": {},
   "outputs": [
    {
     "name": "stderr",
     "output_type": "stream",
     "text": [
      "C:\\Users\\Vivek\\Anaconda3\\lib\\site-packages\\statsmodels\\compat\\pandas.py:56: FutureWarning: The pandas.core.datetools module is deprecated and will be removed in a future version. Please use the pandas.tseries module instead.\n",
      "  from pandas.core import datetools\n",
      "C:\\Users\\Vivek\\Anaconda3\\lib\\site-packages\\ipykernel_launcher.py:7: SettingWithCopyWarning: \n",
      "A value is trying to be set on a copy of a slice from a DataFrame.\n",
      "Try using .loc[row_indexer,col_indexer] = value instead\n",
      "\n",
      "See the caveats in the documentation: http://pandas.pydata.org/pandas-docs/stable/indexing.html#indexing-view-versus-copy\n",
      "  import sys\n"
     ]
    },
    {
     "data": {
      "text/html": [
       "<table class=\"simpletable\">\n",
       "<caption>OLS Regression Results</caption>\n",
       "<tr>\n",
       "  <th>Dep. Variable:</th>           <td>ILI</td>       <th>  R-squared:         </th> <td>   0.906</td> \n",
       "</tr>\n",
       "<tr>\n",
       "  <th>Model:</th>                   <td>OLS</td>       <th>  Adj. R-squared:    </th> <td>   0.906</td> \n",
       "</tr>\n",
       "<tr>\n",
       "  <th>Method:</th>             <td>Least Squares</td>  <th>  F-statistic:       </th> <td>   1993.</td> \n",
       "</tr>\n",
       "<tr>\n",
       "  <th>Date:</th>             <td>Sat, 27 Oct 2018</td> <th>  Prob (F-statistic):</th> <td>1.38e-212</td>\n",
       "</tr>\n",
       "<tr>\n",
       "  <th>Time:</th>                 <td>07:46:20</td>     <th>  Log-Likelihood:    </th> <td>  147.24</td> \n",
       "</tr>\n",
       "<tr>\n",
       "  <th>No. Observations:</th>      <td>   415</td>      <th>  AIC:               </th> <td>  -288.5</td> \n",
       "</tr>\n",
       "<tr>\n",
       "  <th>Df Residuals:</th>          <td>   412</td>      <th>  BIC:               </th> <td>  -276.4</td> \n",
       "</tr>\n",
       "<tr>\n",
       "  <th>Df Model:</th>              <td>     2</td>      <th>                     </th>     <td> </td>    \n",
       "</tr>\n",
       "<tr>\n",
       "  <th>Covariance Type:</th>      <td>nonrobust</td>    <th>                     </th>     <td> </td>    \n",
       "</tr>\n",
       "</table>\n",
       "<table class=\"simpletable\">\n",
       "<tr>\n",
       "           <td></td>              <th>coef</th>     <th>std err</th>      <th>t</th>      <th>P>|t|</th>  <th>[0.025</th>    <th>0.975]</th>  \n",
       "</tr>\n",
       "<tr>\n",
       "  <th>const</th>               <td>   -0.2406</td> <td>    0.020</td> <td>  -12.321</td> <td> 0.000</td> <td>   -0.279</td> <td>   -0.202</td>\n",
       "</tr>\n",
       "<tr>\n",
       "  <th>Queries</th>             <td>    1.2558</td> <td>    0.079</td> <td>   15.876</td> <td> 0.000</td> <td>    1.100</td> <td>    1.411</td>\n",
       "</tr>\n",
       "<tr>\n",
       "  <th>Log_ILI_Lag_2_Weeks</th> <td>    0.6557</td> <td>    0.023</td> <td>   29.135</td> <td> 0.000</td> <td>    0.611</td> <td>    0.700</td>\n",
       "</tr>\n",
       "</table>\n",
       "<table class=\"simpletable\">\n",
       "<tr>\n",
       "  <th>Omnibus:</th>       <td>74.791</td> <th>  Durbin-Watson:     </th> <td>   0.764</td>\n",
       "</tr>\n",
       "<tr>\n",
       "  <th>Prob(Omnibus):</th> <td> 0.000</td> <th>  Jarque-Bera (JB):  </th> <td> 159.402</td>\n",
       "</tr>\n",
       "<tr>\n",
       "  <th>Skew:</th>          <td> 0.950</td> <th>  Prob(JB):          </th> <td>2.43e-35</td>\n",
       "</tr>\n",
       "<tr>\n",
       "  <th>Kurtosis:</th>      <td> 5.368</td> <th>  Cond. No.          </th> <td>    11.1</td>\n",
       "</tr>\n",
       "</table>"
      ],
      "text/plain": [
       "<class 'statsmodels.iolib.summary.Summary'>\n",
       "\"\"\"\n",
       "                            OLS Regression Results                            \n",
       "==============================================================================\n",
       "Dep. Variable:                    ILI   R-squared:                       0.906\n",
       "Model:                            OLS   Adj. R-squared:                  0.906\n",
       "Method:                 Least Squares   F-statistic:                     1993.\n",
       "Date:                Sat, 27 Oct 2018   Prob (F-statistic):          1.38e-212\n",
       "Time:                        07:46:20   Log-Likelihood:                 147.24\n",
       "No. Observations:                 415   AIC:                            -288.5\n",
       "Df Residuals:                     412   BIC:                            -276.4\n",
       "Df Model:                           2                                         \n",
       "Covariance Type:            nonrobust                                         \n",
       "=======================================================================================\n",
       "                          coef    std err          t      P>|t|      [0.025      0.975]\n",
       "---------------------------------------------------------------------------------------\n",
       "const                  -0.2406      0.020    -12.321      0.000      -0.279      -0.202\n",
       "Queries                 1.2558      0.079     15.876      0.000       1.100       1.411\n",
       "Log_ILI_Lag_2_Weeks     0.6557      0.023     29.135      0.000       0.611       0.700\n",
       "==============================================================================\n",
       "Omnibus:                       74.791   Durbin-Watson:                   0.764\n",
       "Prob(Omnibus):                  0.000   Jarque-Bera (JB):              159.402\n",
       "Skew:                           0.950   Prob(JB):                     2.43e-35\n",
       "Kurtosis:                       5.368   Cond. No.                         11.1\n",
       "==============================================================================\n",
       "\n",
       "Warnings:\n",
       "[1] Standard Errors assume that the covariance matrix of the errors is correctly specified.\n",
       "\"\"\""
      ]
     },
     "execution_count": 33,
     "metadata": {},
     "output_type": "execute_result"
    }
   ],
   "source": [
    "import statsmodels.api as sm\n",
    "\n",
    "FluTrain_Model_4 = FluTrain_Model_4.dropna()\n",
    "\n",
    "X_train_model_4 = FluTrain_Model_4[['Queries']] #, 'ILI_Lag_2_Weeks']].values.reshape(len(FluTrain_Model_4['Queries']), 1)\n",
    "\n",
    "X_train_model_4['Log_ILI_Lag_2_Weeks'] = pd.DataFrame(np.log(FluTrain_Model_4['ILI_Lag_2_Weeks']))\n",
    "\n",
    "y_train_model_4 = pd.DataFrame(np.log(FluTrain_Model_4['ILI']))\n",
    "\n",
    "X = sm.add_constant(X_train_model_4)\n",
    "\n",
    "model = sm.OLS(y_train_model_4, X).fit()\n",
    "\n",
    "model.summary()"
   ]
  },
  {
   "cell_type": "markdown",
   "metadata": {},
   "source": [
    "#### On the basis of R-squared value and significance of coefficients, which statement is the most accurate?\n",
    "\n",
    "- Due to overfitting, FluTrend2 is a weaker model than the first model we used on the training set.\n",
    "- FluTrain_Model_4 is about the same quality as the first model we used on the training set.\n",
    "- FluTrain_Model_4 is a stronger model than the first model we used on the training set.\n",
    "\n",
    "*FluTrain_Model_4 is a stronger model than the first model we used on the training set.*"
   ]
  },
  {
   "cell_type": "markdown",
   "metadata": {},
   "source": [
    "***"
   ]
  },
  {
   "cell_type": "markdown",
   "metadata": {},
   "source": [
    "#### So far, we have only added the ILI_Lag_2_Weeks variable to the FluTrain data frame. To make predictions with our FluTrend2 model, we will also need to add ILI_Lag_2_Weeks to the FluTest data frame (note that adding variables before splitting into a training and testing set can prevent this duplication of effort).\n",
    "\n",
    "#### Modify the code from the previous subproblem to add an ILI_Lag_2_Weeks variable to the FluTest data frame. How many missing values are there in this new variable?\n",
    "\n",
    "*2*"
   ]
  },
  {
   "cell_type": "code",
   "execution_count": 34,
   "metadata": {
    "collapsed": true
   },
   "outputs": [],
   "source": [
    "FluTest['ILI_Lag_2_Weeks'] = FluTest['ILI'].shift(2)"
   ]
  },
  {
   "cell_type": "code",
   "execution_count": 36,
   "metadata": {},
   "outputs": [
    {
     "data": {
      "text/html": [
       "<div>\n",
       "<style>\n",
       "    .dataframe thead tr:only-child th {\n",
       "        text-align: right;\n",
       "    }\n",
       "\n",
       "    .dataframe thead th {\n",
       "        text-align: left;\n",
       "    }\n",
       "\n",
       "    .dataframe tbody tr th {\n",
       "        vertical-align: top;\n",
       "    }\n",
       "</style>\n",
       "<table border=\"1\" class=\"dataframe\">\n",
       "  <thead>\n",
       "    <tr style=\"text-align: right;\">\n",
       "      <th></th>\n",
       "      <th>Week</th>\n",
       "      <th>ILI</th>\n",
       "      <th>Queries</th>\n",
       "      <th>ILI_Lag_2_Weeks</th>\n",
       "    </tr>\n",
       "  </thead>\n",
       "  <tbody>\n",
       "    <tr>\n",
       "      <th>0</th>\n",
       "      <td>2012-01-01 - 2012-01-07</td>\n",
       "      <td>1.766707</td>\n",
       "      <td>0.593625</td>\n",
       "      <td>NaN</td>\n",
       "    </tr>\n",
       "    <tr>\n",
       "      <th>1</th>\n",
       "      <td>2012-01-08 - 2012-01-14</td>\n",
       "      <td>1.543401</td>\n",
       "      <td>0.499336</td>\n",
       "      <td>NaN</td>\n",
       "    </tr>\n",
       "    <tr>\n",
       "      <th>2</th>\n",
       "      <td>2012-01-15 - 2012-01-21</td>\n",
       "      <td>1.647615</td>\n",
       "      <td>0.500664</td>\n",
       "      <td>1.766707</td>\n",
       "    </tr>\n",
       "    <tr>\n",
       "      <th>3</th>\n",
       "      <td>2012-01-22 - 2012-01-28</td>\n",
       "      <td>1.684297</td>\n",
       "      <td>0.479416</td>\n",
       "      <td>1.543401</td>\n",
       "    </tr>\n",
       "    <tr>\n",
       "      <th>4</th>\n",
       "      <td>2012-01-29 - 2012-02-04</td>\n",
       "      <td>1.863542</td>\n",
       "      <td>0.471448</td>\n",
       "      <td>1.647615</td>\n",
       "    </tr>\n",
       "  </tbody>\n",
       "</table>\n",
       "</div>"
      ],
      "text/plain": [
       "                      Week       ILI   Queries  ILI_Lag_2_Weeks\n",
       "0  2012-01-01 - 2012-01-07  1.766707  0.593625              NaN\n",
       "1  2012-01-08 - 2012-01-14  1.543401  0.499336              NaN\n",
       "2  2012-01-15 - 2012-01-21  1.647615  0.500664         1.766707\n",
       "3  2012-01-22 - 2012-01-28  1.684297  0.479416         1.543401\n",
       "4  2012-01-29 - 2012-02-04  1.863542  0.471448         1.647615"
      ]
     },
     "execution_count": 36,
     "metadata": {},
     "output_type": "execute_result"
    }
   ],
   "source": [
    "FluTest.head()"
   ]
  },
  {
   "cell_type": "markdown",
   "metadata": {},
   "source": [
    "***"
   ]
  },
  {
   "cell_type": "markdown",
   "metadata": {},
   "source": [
    "#### In this problem, the training and testing sets are split sequentially -- the training set contains all observations from 2004-2011 and the testing set contains all observations from 2012. There is no time gap between the two datasets, meaning the first observation in FluTest was recorded one week after the last observation in FluTrain. From this, we can identify how to fill in the missing values for the ILI_Lag_2_Weeks variable in FluTest.\n",
    "\n",
    "#### Which value should be used to fill in the ILILag2 variable for the first observation in FluTest?\n",
    "\n",
    "- The ILI value of the second-to-last observation in the FluTrain data frame.\n",
    "- The ILI value of the last observation in the FluTrain data frame.\n",
    "- The ILI value of the first observation in the FluTest data frame.\n",
    "- The ILI value of the second observation in the FluTest data frame.\n",
    "\n",
    "** The ILI value of the second-to-last observation in the FluTrain data frame. **\n",
    "\n",
    "\n",
    "#### Which value should be used to fill in the ILILag2 variable for the second observation in FluTest?\n",
    "\n",
    "- The ILI value of the second-to-last observation in the FluTrain data frame.\n",
    "- The ILI value of the last observation in the FluTrain data frame.\n",
    "- The ILI value of the first observation in the FluTest data frame.\n",
    "- The ILI value of the second observation in the FluTest data frame.\n",
    "\n",
    "** The ILI value of the last observation in the FluTrain data frame. **"
   ]
  },
  {
   "cell_type": "markdown",
   "metadata": {},
   "source": [
    "***"
   ]
  },
  {
   "cell_type": "markdown",
   "metadata": {},
   "source": [
    "#### Fill in the missing values for ILI_Lag_2_Weeks in FluTest\n",
    "\n",
    "#### What is the new value of the ILILag2 variable in the first row of FluTest?\n",
    "\n",
    "* 1.852736 *\n",
    "\n",
    "#### What is the new value of the ILILag2 variable in the second row of FluTest?\n",
    "\n",
    "* 2.12413 *"
   ]
  },
  {
   "cell_type": "code",
   "execution_count": 37,
   "metadata": {},
   "outputs": [
    {
     "data": {
      "text/html": [
       "<div>\n",
       "<style>\n",
       "    .dataframe thead tr:only-child th {\n",
       "        text-align: right;\n",
       "    }\n",
       "\n",
       "    .dataframe thead th {\n",
       "        text-align: left;\n",
       "    }\n",
       "\n",
       "    .dataframe tbody tr th {\n",
       "        vertical-align: top;\n",
       "    }\n",
       "</style>\n",
       "<table border=\"1\" class=\"dataframe\">\n",
       "  <thead>\n",
       "    <tr style=\"text-align: right;\">\n",
       "      <th></th>\n",
       "      <th>Week</th>\n",
       "      <th>ILI</th>\n",
       "      <th>Queries</th>\n",
       "      <th>Week_Time_Series</th>\n",
       "      <th>Start_Date</th>\n",
       "      <th>End_Date</th>\n",
       "      <th>Start_Date_Offset_2_Weeks</th>\n",
       "      <th>End_Date_Offset_2_Weeks</th>\n",
       "      <th>ILI_Lag_2_Weeks</th>\n",
       "    </tr>\n",
       "  </thead>\n",
       "  <tbody>\n",
       "    <tr>\n",
       "      <th>412</th>\n",
       "      <td>2011-11-27 - 2011-12-03</td>\n",
       "      <td>1.465723</td>\n",
       "      <td>0.478088</td>\n",
       "      <td>2011-11-27 23:11:00</td>\n",
       "      <td>2011-11-27</td>\n",
       "      <td>2011-12-03</td>\n",
       "      <td>2011-11-13</td>\n",
       "      <td>2011-11-19</td>\n",
       "      <td>1.462212</td>\n",
       "    </tr>\n",
       "    <tr>\n",
       "      <th>413</th>\n",
       "      <td>2011-12-04 - 2011-12-10</td>\n",
       "      <td>1.518106</td>\n",
       "      <td>0.464807</td>\n",
       "      <td>2011-12-05 06:11:00</td>\n",
       "      <td>2011-12-04</td>\n",
       "      <td>2011-12-10</td>\n",
       "      <td>2011-11-20</td>\n",
       "      <td>2011-11-26</td>\n",
       "      <td>1.655415</td>\n",
       "    </tr>\n",
       "    <tr>\n",
       "      <th>414</th>\n",
       "      <td>2011-12-11 - 2011-12-17</td>\n",
       "      <td>1.663954</td>\n",
       "      <td>0.479416</td>\n",
       "      <td>2011-12-12 13:11:00</td>\n",
       "      <td>2011-12-11</td>\n",
       "      <td>2011-12-17</td>\n",
       "      <td>2011-11-27</td>\n",
       "      <td>2011-12-03</td>\n",
       "      <td>1.465723</td>\n",
       "    </tr>\n",
       "    <tr>\n",
       "      <th>415</th>\n",
       "      <td>2011-12-18 - 2011-12-24</td>\n",
       "      <td>1.852736</td>\n",
       "      <td>0.537849</td>\n",
       "      <td>2011-12-19 20:11:00</td>\n",
       "      <td>2011-12-18</td>\n",
       "      <td>2011-12-24</td>\n",
       "      <td>2011-12-04</td>\n",
       "      <td>2011-12-10</td>\n",
       "      <td>1.518106</td>\n",
       "    </tr>\n",
       "    <tr>\n",
       "      <th>416</th>\n",
       "      <td>2011-12-25 - 2011-12-31</td>\n",
       "      <td>2.124130</td>\n",
       "      <td>0.618858</td>\n",
       "      <td>2011-12-27 03:11:00</td>\n",
       "      <td>2011-12-25</td>\n",
       "      <td>2011-12-31</td>\n",
       "      <td>2011-12-11</td>\n",
       "      <td>2011-12-17</td>\n",
       "      <td>1.663954</td>\n",
       "    </tr>\n",
       "  </tbody>\n",
       "</table>\n",
       "</div>"
      ],
      "text/plain": [
       "                        Week       ILI   Queries    Week_Time_Series  \\\n",
       "412  2011-11-27 - 2011-12-03  1.465723  0.478088 2011-11-27 23:11:00   \n",
       "413  2011-12-04 - 2011-12-10  1.518106  0.464807 2011-12-05 06:11:00   \n",
       "414  2011-12-11 - 2011-12-17  1.663954  0.479416 2011-12-12 13:11:00   \n",
       "415  2011-12-18 - 2011-12-24  1.852736  0.537849 2011-12-19 20:11:00   \n",
       "416  2011-12-25 - 2011-12-31  2.124130  0.618858 2011-12-27 03:11:00   \n",
       "\n",
       "    Start_Date   End_Date Start_Date_Offset_2_Weeks End_Date_Offset_2_Weeks  \\\n",
       "412 2011-11-27 2011-12-03                2011-11-13              2011-11-19   \n",
       "413 2011-12-04 2011-12-10                2011-11-20              2011-11-26   \n",
       "414 2011-12-11 2011-12-17                2011-11-27              2011-12-03   \n",
       "415 2011-12-18 2011-12-24                2011-12-04              2011-12-10   \n",
       "416 2011-12-25 2011-12-31                2011-12-11              2011-12-17   \n",
       "\n",
       "     ILI_Lag_2_Weeks  \n",
       "412         1.462212  \n",
       "413         1.655415  \n",
       "414         1.465723  \n",
       "415         1.518106  \n",
       "416         1.663954  "
      ]
     },
     "execution_count": 37,
     "metadata": {},
     "output_type": "execute_result"
    }
   ],
   "source": [
    "FluTrain.tail()"
   ]
  },
  {
   "cell_type": "code",
   "execution_count": 39,
   "metadata": {},
   "outputs": [
    {
     "data": {
      "text/html": [
       "<div>\n",
       "<style>\n",
       "    .dataframe thead tr:only-child th {\n",
       "        text-align: right;\n",
       "    }\n",
       "\n",
       "    .dataframe thead th {\n",
       "        text-align: left;\n",
       "    }\n",
       "\n",
       "    .dataframe tbody tr th {\n",
       "        vertical-align: top;\n",
       "    }\n",
       "</style>\n",
       "<table border=\"1\" class=\"dataframe\">\n",
       "  <thead>\n",
       "    <tr style=\"text-align: right;\">\n",
       "      <th></th>\n",
       "      <th>Week</th>\n",
       "      <th>ILI</th>\n",
       "      <th>Queries</th>\n",
       "      <th>ILI_Lag_2_Weeks</th>\n",
       "    </tr>\n",
       "  </thead>\n",
       "  <tbody>\n",
       "    <tr>\n",
       "      <th>0</th>\n",
       "      <td>2012-01-01 - 2012-01-07</td>\n",
       "      <td>1.766707</td>\n",
       "      <td>0.593625</td>\n",
       "      <td>NaN</td>\n",
       "    </tr>\n",
       "    <tr>\n",
       "      <th>1</th>\n",
       "      <td>2012-01-08 - 2012-01-14</td>\n",
       "      <td>1.543401</td>\n",
       "      <td>0.499336</td>\n",
       "      <td>NaN</td>\n",
       "    </tr>\n",
       "    <tr>\n",
       "      <th>2</th>\n",
       "      <td>2012-01-15 - 2012-01-21</td>\n",
       "      <td>1.647615</td>\n",
       "      <td>0.500664</td>\n",
       "      <td>1.766707</td>\n",
       "    </tr>\n",
       "    <tr>\n",
       "      <th>3</th>\n",
       "      <td>2012-01-22 - 2012-01-28</td>\n",
       "      <td>1.684297</td>\n",
       "      <td>0.479416</td>\n",
       "      <td>1.543401</td>\n",
       "    </tr>\n",
       "    <tr>\n",
       "      <th>4</th>\n",
       "      <td>2012-01-29 - 2012-02-04</td>\n",
       "      <td>1.863542</td>\n",
       "      <td>0.471448</td>\n",
       "      <td>1.647615</td>\n",
       "    </tr>\n",
       "  </tbody>\n",
       "</table>\n",
       "</div>"
      ],
      "text/plain": [
       "                      Week       ILI   Queries  ILI_Lag_2_Weeks\n",
       "0  2012-01-01 - 2012-01-07  1.766707  0.593625              NaN\n",
       "1  2012-01-08 - 2012-01-14  1.543401  0.499336              NaN\n",
       "2  2012-01-15 - 2012-01-21  1.647615  0.500664         1.766707\n",
       "3  2012-01-22 - 2012-01-28  1.684297  0.479416         1.543401\n",
       "4  2012-01-29 - 2012-02-04  1.863542  0.471448         1.647615"
      ]
     },
     "execution_count": 39,
     "metadata": {},
     "output_type": "execute_result"
    }
   ],
   "source": [
    "FluTest.head()"
   ]
  },
  {
   "cell_type": "code",
   "execution_count": 43,
   "metadata": {},
   "outputs": [
    {
     "name": "stderr",
     "output_type": "stream",
     "text": [
      "C:\\Users\\Vivek\\Anaconda3\\lib\\site-packages\\pandas\\core\\indexing.py:179: SettingWithCopyWarning: \n",
      "A value is trying to be set on a copy of a slice from a DataFrame\n",
      "\n",
      "See the caveats in the documentation: http://pandas.pydata.org/pandas-docs/stable/indexing.html#indexing-view-versus-copy\n",
      "  self._setitem_with_indexer(indexer, value)\n"
     ]
    }
   ],
   "source": [
    "FluTest['ILI_Lag_2_Weeks'].iloc[1] = FluTrain['ILI'].iloc[416]\n",
    "FluTest['ILI_Lag_2_Weeks'].iloc[0] = FluTrain['ILI'].iloc[415]"
   ]
  },
  {
   "cell_type": "code",
   "execution_count": 44,
   "metadata": {},
   "outputs": [
    {
     "data": {
      "text/html": [
       "<div>\n",
       "<style>\n",
       "    .dataframe thead tr:only-child th {\n",
       "        text-align: right;\n",
       "    }\n",
       "\n",
       "    .dataframe thead th {\n",
       "        text-align: left;\n",
       "    }\n",
       "\n",
       "    .dataframe tbody tr th {\n",
       "        vertical-align: top;\n",
       "    }\n",
       "</style>\n",
       "<table border=\"1\" class=\"dataframe\">\n",
       "  <thead>\n",
       "    <tr style=\"text-align: right;\">\n",
       "      <th></th>\n",
       "      <th>Week</th>\n",
       "      <th>ILI</th>\n",
       "      <th>Queries</th>\n",
       "      <th>ILI_Lag_2_Weeks</th>\n",
       "    </tr>\n",
       "  </thead>\n",
       "  <tbody>\n",
       "    <tr>\n",
       "      <th>0</th>\n",
       "      <td>2012-01-01 - 2012-01-07</td>\n",
       "      <td>1.766707</td>\n",
       "      <td>0.593625</td>\n",
       "      <td>1.852736</td>\n",
       "    </tr>\n",
       "    <tr>\n",
       "      <th>1</th>\n",
       "      <td>2012-01-08 - 2012-01-14</td>\n",
       "      <td>1.543401</td>\n",
       "      <td>0.499336</td>\n",
       "      <td>2.124130</td>\n",
       "    </tr>\n",
       "    <tr>\n",
       "      <th>2</th>\n",
       "      <td>2012-01-15 - 2012-01-21</td>\n",
       "      <td>1.647615</td>\n",
       "      <td>0.500664</td>\n",
       "      <td>1.766707</td>\n",
       "    </tr>\n",
       "    <tr>\n",
       "      <th>3</th>\n",
       "      <td>2012-01-22 - 2012-01-28</td>\n",
       "      <td>1.684297</td>\n",
       "      <td>0.479416</td>\n",
       "      <td>1.543401</td>\n",
       "    </tr>\n",
       "    <tr>\n",
       "      <th>4</th>\n",
       "      <td>2012-01-29 - 2012-02-04</td>\n",
       "      <td>1.863542</td>\n",
       "      <td>0.471448</td>\n",
       "      <td>1.647615</td>\n",
       "    </tr>\n",
       "  </tbody>\n",
       "</table>\n",
       "</div>"
      ],
      "text/plain": [
       "                      Week       ILI   Queries  ILI_Lag_2_Weeks\n",
       "0  2012-01-01 - 2012-01-07  1.766707  0.593625         1.852736\n",
       "1  2012-01-08 - 2012-01-14  1.543401  0.499336         2.124130\n",
       "2  2012-01-15 - 2012-01-21  1.647615  0.500664         1.766707\n",
       "3  2012-01-22 - 2012-01-28  1.684297  0.479416         1.543401\n",
       "4  2012-01-29 - 2012-02-04  1.863542  0.471448         1.647615"
      ]
     },
     "execution_count": 44,
     "metadata": {},
     "output_type": "execute_result"
    }
   ],
   "source": [
    "FluTest.head()"
   ]
  },
  {
   "cell_type": "markdown",
   "metadata": {},
   "source": [
    "***"
   ]
  },
  {
   "cell_type": "code",
   "execution_count": 46,
   "metadata": {
    "collapsed": true
   },
   "outputs": [],
   "source": [
    "linear_regression_new = linear_model.LinearRegression()"
   ]
  },
  {
   "cell_type": "code",
   "execution_count": 47,
   "metadata": {},
   "outputs": [
    {
     "data": {
      "text/plain": [
       "LinearRegression(copy_X=True, fit_intercept=True, n_jobs=1, normalize=False)"
      ]
     },
     "execution_count": 47,
     "metadata": {},
     "output_type": "execute_result"
    }
   ],
   "source": [
    "linear_regression_new.fit(X_train_model_4, y_train_model_4)"
   ]
  },
  {
   "cell_type": "code",
   "execution_count": 48,
   "metadata": {},
   "outputs": [
    {
     "name": "stderr",
     "output_type": "stream",
     "text": [
      "C:\\Users\\Vivek\\Anaconda3\\lib\\site-packages\\sklearn\\utils\\deprecation.py:70: DeprecationWarning: Function residues_ is deprecated; ``residues_`` is deprecated and will be removed in 0.19\n",
      "  warnings.warn(msg, category=DeprecationWarning)\n"
     ]
    },
    {
     "data": {
      "text/plain": [
       "array([ 11.95110215])"
      ]
     },
     "execution_count": 48,
     "metadata": {},
     "output_type": "execute_result"
    }
   ],
   "source": [
    "linear_regression_new.residues_"
   ]
  },
  {
   "cell_type": "code",
   "execution_count": 49,
   "metadata": {},
   "outputs": [
    {
     "data": {
      "text/plain": [
       "array([-0.24064065])"
      ]
     },
     "execution_count": 49,
     "metadata": {},
     "output_type": "execute_result"
    }
   ],
   "source": [
    "linear_regression_new.intercept_"
   ]
  },
  {
   "cell_type": "code",
   "execution_count": 53,
   "metadata": {},
   "outputs": [
    {
     "name": "stdout",
     "output_type": "stream",
     "text": [
      "(415, 2)\n"
     ]
    }
   ],
   "source": [
    "print(X_train_model_4.shape)"
   ]
  },
  {
   "cell_type": "code",
   "execution_count": 55,
   "metadata": {},
   "outputs": [
    {
     "name": "stdout",
     "output_type": "stream",
     "text": [
      "(415, 1)\n"
     ]
    }
   ],
   "source": [
    "print(y_train_model_4.shape)"
   ]
  },
  {
   "cell_type": "code",
   "execution_count": 54,
   "metadata": {},
   "outputs": [
    {
     "name": "stdout",
     "output_type": "stream",
     "text": [
      "(52, 2)\n",
      "(52, 1)\n"
     ]
    }
   ],
   "source": [
    "X_test_lag = FluTest[['Queries', 'ILI_Lag_2_Weeks']]#.values.reshape((len(FluTest['Queries']), 1))\n",
    "y_test_lag = pd.DataFrame(np.log(FluTest['ILI']))\n",
    "\n",
    "print(X_test_lag.shape)\n",
    "print(y_test_lag.shape)"
   ]
  },
  {
   "cell_type": "code",
   "execution_count": 56,
   "metadata": {},
   "outputs": [],
   "source": [
    "predicted_values_new = np.exp(linear_regression_new.predict(X_test_lag))"
   ]
  },
  {
   "cell_type": "code",
   "execution_count": 57,
   "metadata": {},
   "outputs": [
    {
     "data": {
      "text/plain": [
       "4.8787661983679422"
      ]
     },
     "execution_count": 57,
     "metadata": {},
     "output_type": "execute_result"
    }
   ],
   "source": [
    "rms = np.sqrt(mean_squared_error(y_test_lag, predicted_values_new))\n",
    "rms"
   ]
  },
  {
   "cell_type": "markdown",
   "metadata": {},
   "source": [
    "#### Resources:\n",
    "\n",
    "- https://docs.scipy.org/doc/numpy-1.15.1/reference/generated/numpy.reshape.html\n",
    "- https://www.siyavula.com/read/maths/grade-11/statistics/11-statistics-05\n",
    "- http://blog.minitab.com/blog/adventures-in-statistics-2/regression-analysis-how-do-i-interpret-r-squared-and-assess-the-goodness-of-fit\n",
    "- http://www.endmemo.com/program/R/exp.php\n",
    "- https://docs.scipy.org/doc/numpy-1.15.1/reference/generated/numpy.exp2.html\n",
    "- https://docs.scipy.org/doc/numpy-1.15.1/reference/generated/numpy.exp.html\n",
    "- http://scikit-learn.org/stable/modules/model_evaluation.html#mean-squared-error\n",
    "- http://northstar-www.dartmouth.edu/doc/idl/html_6.2/Time-Series_Analysis.html\n",
    "- http://pandas.pydata.org/pandas-docs/stable/timeseries.html\n",
    "- https://ec.europa.eu/eurostat/statistics-explained/index.php/Glossary:Lag\n",
    "- https://towardsdatascience.com/basic-time-series-manipulation-with-pandas-4432afee64ea\n",
    "- https://stackoverflow.com/questions/14745022/how-to-split-a-column-into-two-columns\n",
    "- https://stackoverflow.com/questions/13413590/how-to-drop-rows-of-pandas-dataframe-whose-value-in-certain-columns-is-nan"
   ]
  }
 ],
 "metadata": {
  "kernelspec": {
   "display_name": "Python 3",
   "language": "python",
   "name": "python3"
  },
  "language_info": {
   "codemirror_mode": {
    "name": "ipython",
    "version": 3
   },
   "file_extension": ".py",
   "mimetype": "text/x-python",
   "name": "python",
   "nbconvert_exporter": "python",
   "pygments_lexer": "ipython3",
   "version": "3.6.1"
  }
 },
 "nbformat": 4,
 "nbformat_minor": 2
}
