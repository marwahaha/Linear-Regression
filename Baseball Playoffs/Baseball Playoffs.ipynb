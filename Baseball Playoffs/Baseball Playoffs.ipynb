{
 "cells": [
  {
   "cell_type": "code",
   "execution_count": 1,
   "metadata": {
    "collapsed": true
   },
   "outputs": [],
   "source": [
    "import pandas as pd"
   ]
  },
  {
   "cell_type": "code",
   "execution_count": 2,
   "metadata": {
    "collapsed": true
   },
   "outputs": [],
   "source": [
    "baseball = pd.read_csv(\"baseball.csv\")"
   ]
  },
  {
   "cell_type": "code",
   "execution_count": 3,
   "metadata": {},
   "outputs": [
    {
     "name": "stdout",
     "output_type": "stream",
     "text": [
      "<class 'pandas.core.frame.DataFrame'>\n",
      "RangeIndex: 1232 entries, 0 to 1231\n",
      "Data columns (total 15 columns):\n",
      "Team            1232 non-null object\n",
      "League          1232 non-null object\n",
      "Year            1232 non-null int64\n",
      "RS              1232 non-null int64\n",
      "RA              1232 non-null int64\n",
      "W               1232 non-null int64\n",
      "OBP             1232 non-null float64\n",
      "SLG             1232 non-null float64\n",
      "BA              1232 non-null float64\n",
      "Playoffs        1232 non-null int64\n",
      "RankSeason      244 non-null float64\n",
      "RankPlayoffs    244 non-null float64\n",
      "G               1232 non-null int64\n",
      "OOBP            420 non-null float64\n",
      "OSLG            420 non-null float64\n",
      "dtypes: float64(7), int64(6), object(2)\n",
      "memory usage: 144.5+ KB\n"
     ]
    }
   ],
   "source": [
    "baseball.info()"
   ]
  },
  {
   "cell_type": "code",
   "execution_count": 3,
   "metadata": {
    "collapsed": true
   },
   "outputs": [],
   "source": [
    "moneyball = baseball[baseball['Year'] < 2002]"
   ]
  },
  {
   "cell_type": "code",
   "execution_count": 5,
   "metadata": {},
   "outputs": [
    {
     "name": "stdout",
     "output_type": "stream",
     "text": [
      "<class 'pandas.core.frame.DataFrame'>\n",
      "Int64Index: 902 entries, 330 to 1231\n",
      "Data columns (total 15 columns):\n",
      "Team            902 non-null object\n",
      "League          902 non-null object\n",
      "Year            902 non-null int64\n",
      "RS              902 non-null int64\n",
      "RA              902 non-null int64\n",
      "W               902 non-null int64\n",
      "OBP             902 non-null float64\n",
      "SLG             902 non-null float64\n",
      "BA              902 non-null float64\n",
      "Playoffs        902 non-null int64\n",
      "RankSeason      154 non-null float64\n",
      "RankPlayoffs    154 non-null float64\n",
      "G               902 non-null int64\n",
      "OOBP            90 non-null float64\n",
      "OSLG            90 non-null float64\n",
      "dtypes: float64(7), int64(6), object(2)\n",
      "memory usage: 112.8+ KB\n"
     ]
    }
   ],
   "source": [
    "moneyball.info()"
   ]
  },
  {
   "cell_type": "markdown",
   "metadata": {},
   "source": [
    "#### Since wins are based on Runs scored (RS) and Runs allowed (RA), let's calculate the difference between them."
   ]
  },
  {
   "cell_type": "code",
   "execution_count": 4,
   "metadata": {},
   "outputs": [
    {
     "name": "stderr",
     "output_type": "stream",
     "text": [
      "C:\\Users\\Vivek\\Anaconda3\\lib\\site-packages\\ipykernel_launcher.py:1: SettingWithCopyWarning: \n",
      "A value is trying to be set on a copy of a slice from a DataFrame.\n",
      "Try using .loc[row_indexer,col_indexer] = value instead\n",
      "\n",
      "See the caveats in the documentation: http://pandas.pydata.org/pandas-docs/stable/indexing.html#indexing-view-versus-copy\n",
      "  \"\"\"Entry point for launching an IPython kernel.\n"
     ]
    }
   ],
   "source": [
    "moneyball['RD'] = moneyball['RS'] - moneyball['RA']"
   ]
  },
  {
   "cell_type": "code",
   "execution_count": 7,
   "metadata": {},
   "outputs": [
    {
     "name": "stdout",
     "output_type": "stream",
     "text": [
      "<class 'pandas.core.frame.DataFrame'>\n",
      "Int64Index: 902 entries, 330 to 1231\n",
      "Data columns (total 16 columns):\n",
      "Team            902 non-null object\n",
      "League          902 non-null object\n",
      "Year            902 non-null int64\n",
      "RS              902 non-null int64\n",
      "RA              902 non-null int64\n",
      "W               902 non-null int64\n",
      "OBP             902 non-null float64\n",
      "SLG             902 non-null float64\n",
      "BA              902 non-null float64\n",
      "Playoffs        902 non-null int64\n",
      "RankSeason      154 non-null float64\n",
      "RankPlayoffs    154 non-null float64\n",
      "G               902 non-null int64\n",
      "OOBP            90 non-null float64\n",
      "OSLG            90 non-null float64\n",
      "RD              902 non-null int64\n",
      "dtypes: float64(7), int64(7), object(2)\n",
      "memory usage: 119.8+ KB\n"
     ]
    }
   ],
   "source": [
    "moneyball.info()"
   ]
  },
  {
   "cell_type": "code",
   "execution_count": 8,
   "metadata": {},
   "outputs": [
    {
     "data": {
      "text/html": [
       "<div>\n",
       "<style>\n",
       "    .dataframe thead tr:only-child th {\n",
       "        text-align: right;\n",
       "    }\n",
       "\n",
       "    .dataframe thead th {\n",
       "        text-align: left;\n",
       "    }\n",
       "\n",
       "    .dataframe tbody tr th {\n",
       "        vertical-align: top;\n",
       "    }\n",
       "</style>\n",
       "<table border=\"1\" class=\"dataframe\">\n",
       "  <thead>\n",
       "    <tr style=\"text-align: right;\">\n",
       "      <th></th>\n",
       "      <th>Team</th>\n",
       "      <th>League</th>\n",
       "      <th>Year</th>\n",
       "      <th>RS</th>\n",
       "      <th>RA</th>\n",
       "      <th>W</th>\n",
       "      <th>OBP</th>\n",
       "      <th>SLG</th>\n",
       "      <th>BA</th>\n",
       "      <th>Playoffs</th>\n",
       "      <th>RankSeason</th>\n",
       "      <th>RankPlayoffs</th>\n",
       "      <th>G</th>\n",
       "      <th>OOBP</th>\n",
       "      <th>OSLG</th>\n",
       "      <th>RD</th>\n",
       "    </tr>\n",
       "  </thead>\n",
       "  <tbody>\n",
       "    <tr>\n",
       "      <th>330</th>\n",
       "      <td>ANA</td>\n",
       "      <td>AL</td>\n",
       "      <td>2001</td>\n",
       "      <td>691</td>\n",
       "      <td>730</td>\n",
       "      <td>75</td>\n",
       "      <td>0.327</td>\n",
       "      <td>0.405</td>\n",
       "      <td>0.261</td>\n",
       "      <td>0</td>\n",
       "      <td>NaN</td>\n",
       "      <td>NaN</td>\n",
       "      <td>162</td>\n",
       "      <td>0.331</td>\n",
       "      <td>0.412</td>\n",
       "      <td>-39</td>\n",
       "    </tr>\n",
       "    <tr>\n",
       "      <th>331</th>\n",
       "      <td>ARI</td>\n",
       "      <td>NL</td>\n",
       "      <td>2001</td>\n",
       "      <td>818</td>\n",
       "      <td>677</td>\n",
       "      <td>92</td>\n",
       "      <td>0.341</td>\n",
       "      <td>0.442</td>\n",
       "      <td>0.267</td>\n",
       "      <td>1</td>\n",
       "      <td>5.0</td>\n",
       "      <td>1.0</td>\n",
       "      <td>162</td>\n",
       "      <td>0.311</td>\n",
       "      <td>0.404</td>\n",
       "      <td>141</td>\n",
       "    </tr>\n",
       "    <tr>\n",
       "      <th>332</th>\n",
       "      <td>ATL</td>\n",
       "      <td>NL</td>\n",
       "      <td>2001</td>\n",
       "      <td>729</td>\n",
       "      <td>643</td>\n",
       "      <td>88</td>\n",
       "      <td>0.324</td>\n",
       "      <td>0.412</td>\n",
       "      <td>0.260</td>\n",
       "      <td>1</td>\n",
       "      <td>7.0</td>\n",
       "      <td>3.0</td>\n",
       "      <td>162</td>\n",
       "      <td>0.314</td>\n",
       "      <td>0.384</td>\n",
       "      <td>86</td>\n",
       "    </tr>\n",
       "    <tr>\n",
       "      <th>333</th>\n",
       "      <td>BAL</td>\n",
       "      <td>AL</td>\n",
       "      <td>2001</td>\n",
       "      <td>687</td>\n",
       "      <td>829</td>\n",
       "      <td>63</td>\n",
       "      <td>0.319</td>\n",
       "      <td>0.380</td>\n",
       "      <td>0.248</td>\n",
       "      <td>0</td>\n",
       "      <td>NaN</td>\n",
       "      <td>NaN</td>\n",
       "      <td>162</td>\n",
       "      <td>0.337</td>\n",
       "      <td>0.439</td>\n",
       "      <td>-142</td>\n",
       "    </tr>\n",
       "    <tr>\n",
       "      <th>334</th>\n",
       "      <td>BOS</td>\n",
       "      <td>AL</td>\n",
       "      <td>2001</td>\n",
       "      <td>772</td>\n",
       "      <td>745</td>\n",
       "      <td>82</td>\n",
       "      <td>0.334</td>\n",
       "      <td>0.439</td>\n",
       "      <td>0.266</td>\n",
       "      <td>0</td>\n",
       "      <td>NaN</td>\n",
       "      <td>NaN</td>\n",
       "      <td>161</td>\n",
       "      <td>0.329</td>\n",
       "      <td>0.393</td>\n",
       "      <td>27</td>\n",
       "    </tr>\n",
       "  </tbody>\n",
       "</table>\n",
       "</div>"
      ],
      "text/plain": [
       "    Team League  Year   RS   RA   W    OBP    SLG     BA  Playoffs  \\\n",
       "330  ANA     AL  2001  691  730  75  0.327  0.405  0.261         0   \n",
       "331  ARI     NL  2001  818  677  92  0.341  0.442  0.267         1   \n",
       "332  ATL     NL  2001  729  643  88  0.324  0.412  0.260         1   \n",
       "333  BAL     AL  2001  687  829  63  0.319  0.380  0.248         0   \n",
       "334  BOS     AL  2001  772  745  82  0.334  0.439  0.266         0   \n",
       "\n",
       "     RankSeason  RankPlayoffs    G   OOBP   OSLG   RD  \n",
       "330         NaN           NaN  162  0.331  0.412  -39  \n",
       "331         5.0           1.0  162  0.311  0.404  141  \n",
       "332         7.0           3.0  162  0.314  0.384   86  \n",
       "333         NaN           NaN  162  0.337  0.439 -142  \n",
       "334         NaN           NaN  161  0.329  0.393   27  "
      ]
     },
     "execution_count": 8,
     "metadata": {},
     "output_type": "execute_result"
    }
   ],
   "source": [
    "moneyball.head()"
   ]
  },
  {
   "cell_type": "code",
   "execution_count": 5,
   "metadata": {
    "collapsed": true
   },
   "outputs": [],
   "source": [
    "import matplotlib.pyplot as plt\n",
    "%matplotlib inline"
   ]
  },
  {
   "cell_type": "markdown",
   "metadata": {},
   "source": [
    "#### It seems there is a strong correlation between Runs Difference and the number of Wins (W)"
   ]
  },
  {
   "cell_type": "code",
   "execution_count": 6,
   "metadata": {},
   "outputs": [
    {
     "data": {
      "text/plain": [
       "<matplotlib.text.Text at 0x1cac1496860>"
      ]
     },
     "execution_count": 6,
     "metadata": {},
     "output_type": "execute_result"
    },
    {
     "data": {
      "image/png": "[encoded data removed]",
      "text/plain": [
       "<matplotlib.figure.Figure at 0x1cac10bceb8>"
      ]
     },
     "metadata": {},
     "output_type": "display_data"
    }
   ],
   "source": [
    "plt.scatter(moneyball['RD'], moneyball['W'])\n",
    "plt.xlabel('Runs Difference')\n",
    "plt.ylabel('Wins')\n",
    "plt.title('Runs Difference vs Wins')"
   ]
  },
  {
   "cell_type": "code",
   "execution_count": 7,
   "metadata": {
    "collapsed": true
   },
   "outputs": [],
   "source": [
    "from sklearn import linear_model"
   ]
  },
  {
   "cell_type": "code",
   "execution_count": 8,
   "metadata": {
    "collapsed": true
   },
   "outputs": [],
   "source": [
    "linearRegression = linear_model.LinearRegression()"
   ]
  },
  {
   "cell_type": "code",
   "execution_count": 9,
   "metadata": {
    "collapsed": true
   },
   "outputs": [],
   "source": [
    "X_train = moneyball[['RD']]\n",
    "y_train = moneyball[['W']]"
   ]
  },
  {
   "cell_type": "code",
   "execution_count": 10,
   "metadata": {},
   "outputs": [
    {
     "data": {
      "text/plain": [
       "LinearRegression(copy_X=True, fit_intercept=True, n_jobs=1, normalize=False)"
      ]
     },
     "execution_count": 10,
     "metadata": {},
     "output_type": "execute_result"
    }
   ],
   "source": [
    "linearRegression.fit(X_train, y_train)"
   ]
  },
  {
   "cell_type": "code",
   "execution_count": 15,
   "metadata": {},
   "outputs": [
    {
     "name": "stdout",
     "output_type": "stream",
     "text": [
      "Coefficients  [[ 0.10576562]]\n"
     ]
    }
   ],
   "source": [
    "print(\"Coefficients \", linearRegression.coef_)"
   ]
  },
  {
   "cell_type": "code",
   "execution_count": 16,
   "metadata": {},
   "outputs": [
    {
     "name": "stdout",
     "output_type": "stream",
     "text": [
      "Intercept  [ 80.88137472]\n"
     ]
    }
   ],
   "source": [
    "print(\"Intercept \", linearRegression.intercept_)"
   ]
  },
  {
   "cell_type": "markdown",
   "metadata": {},
   "source": [
    "#### Basically, this means W = 0.1058(RD) + 80.8814\n",
    "#### Claim : The number of wins should be >= 95\n",
    "#### So, 0.1058(RD) + 80.8814 >= 95\n",
    "#### RD = (95 - 80.8814)/0.1058 = 133.44612, approximately equal to 135 (claim made by Paul for the teams to make it to the playoffs)"
   ]
  },
  {
   "cell_type": "markdown",
   "metadata": {},
   "source": [
    "#### If a baseball team scores 713 runs and allows 614 runs, how many games do we expect the team to win?\n",
    "\n",
    "91 (W = 0.1058 * (713 - 614) + 80.8814)"
   ]
  },
  {
   "cell_type": "markdown",
   "metadata": {},
   "source": [
    "#### How does a score team more runs?"
   ]
  },
  {
   "cell_type": "markdown",
   "metadata": {},
   "source": [
    "#### The A's discovered that two baseball statistics were more important than anything else\n",
    "\n",
    "1. On-Base Percentage (OBP) - Percentage of time a player gets on base (including walks)\n",
    "2. Slugging Percentage (SLG) - How far a player gets on the bases on his turn (measures power)"
   ]
  },
  {
   "cell_type": "markdown",
   "metadata": {},
   "source": [
    "#### Most teams focussed on Batting Average (BA - Getting on base by hitting the ball) but A's claimed that it was overvalued and OBP was the most important and SLG was important"
   ]
  },
  {
   "cell_type": "code",
   "execution_count": 11,
   "metadata": {},
   "outputs": [
    {
     "name": "stdout",
     "output_type": "stream",
     "text": [
      "Coefficients  [[ 2900.9403354   1533.88483471  -134.90497379]]\n",
      "Intercept  [-806.08452907]\n"
     ]
    }
   ],
   "source": [
    "X_train_runs_scored = baseball[['OBP', 'SLG', 'BA']]\n",
    "y_train_runs_scored = baseball[['RS']]\n",
    "linearRegression.fit(X_train_runs_scored, y_train_runs_scored)\n",
    "print(\"Coefficients \", linearRegression.coef_)\n",
    "print(\"Intercept \", linearRegression.intercept_)"
   ]
  },
  {
   "cell_type": "code",
   "execution_count": 12,
   "metadata": {},
   "outputs": [
    {
     "name": "stdout",
     "output_type": "stream",
     "text": [
      "Coefficients  [[ 2830.70470463  1517.57843237]]\n",
      "Intercept  [-811.66242009]\n"
     ]
    }
   ],
   "source": [
    "X_train_runs_scored_without_BA = baseball[['OBP', 'SLG']]\n",
    "y_train_runs_scored_without_BA = baseball[['RS']]\n",
    "linearRegression.fit(X_train_runs_scored_without_BA, y_train_runs_scored_without_BA)\n",
    "print(\"Coefficients \", linearRegression.coef_)\n",
    "print(\"Intercept \", linearRegression.intercept_)"
   ]
  },
  {
   "cell_type": "code",
   "execution_count": 14,
   "metadata": {},
   "outputs": [
    {
     "data": {
      "text/plain": [
       "Team            False\n",
       "League          False\n",
       "Year            False\n",
       "RS              False\n",
       "RA              False\n",
       "W               False\n",
       "OBP             False\n",
       "SLG             False\n",
       "BA              False\n",
       "Playoffs        False\n",
       "RankSeason       True\n",
       "RankPlayoffs     True\n",
       "G               False\n",
       "OOBP             True\n",
       "OSLG             True\n",
       "dtype: bool"
      ]
     },
     "execution_count": 14,
     "metadata": {},
     "output_type": "execute_result"
    }
   ],
   "source": [
    "baseball.isnull().any()"
   ]
  },
  {
   "cell_type": "code",
   "execution_count": 15,
   "metadata": {},
   "outputs": [
    {
     "data": {
      "text/plain": [
       "Team              0\n",
       "League            0\n",
       "Year              0\n",
       "RS                0\n",
       "RA                0\n",
       "W                 0\n",
       "OBP               0\n",
       "SLG               0\n",
       "BA                0\n",
       "Playoffs          0\n",
       "RankSeason      988\n",
       "RankPlayoffs    988\n",
       "G                 0\n",
       "OOBP            812\n",
       "OSLG            812\n",
       "dtype: int64"
      ]
     },
     "execution_count": 15,
     "metadata": {},
     "output_type": "execute_result"
    }
   ],
   "source": [
    "baseball.isnull().sum()"
   ]
  },
  {
   "cell_type": "code",
   "execution_count": 17,
   "metadata": {},
   "outputs": [
    {
     "data": {
      "text/html": [
       "<div>\n",
       "<style>\n",
       "    .dataframe thead tr:only-child th {\n",
       "        text-align: right;\n",
       "    }\n",
       "\n",
       "    .dataframe thead th {\n",
       "        text-align: left;\n",
       "    }\n",
       "\n",
       "    .dataframe tbody tr th {\n",
       "        vertical-align: top;\n",
       "    }\n",
       "</style>\n",
       "<table border=\"1\" class=\"dataframe\">\n",
       "  <thead>\n",
       "    <tr style=\"text-align: right;\">\n",
       "      <th></th>\n",
       "      <th>Team</th>\n",
       "      <th>League</th>\n",
       "      <th>Year</th>\n",
       "      <th>RS</th>\n",
       "      <th>RA</th>\n",
       "      <th>W</th>\n",
       "      <th>OBP</th>\n",
       "      <th>SLG</th>\n",
       "      <th>BA</th>\n",
       "      <th>Playoffs</th>\n",
       "      <th>RankSeason</th>\n",
       "      <th>RankPlayoffs</th>\n",
       "      <th>G</th>\n",
       "      <th>OOBP</th>\n",
       "      <th>OSLG</th>\n",
       "    </tr>\n",
       "  </thead>\n",
       "  <tbody>\n",
       "    <tr>\n",
       "      <th>1227</th>\n",
       "      <td>PHI</td>\n",
       "      <td>NL</td>\n",
       "      <td>1962</td>\n",
       "      <td>705</td>\n",
       "      <td>759</td>\n",
       "      <td>81</td>\n",
       "      <td>0.330</td>\n",
       "      <td>0.390</td>\n",
       "      <td>0.260</td>\n",
       "      <td>0</td>\n",
       "      <td>NaN</td>\n",
       "      <td>NaN</td>\n",
       "      <td>161</td>\n",
       "      <td>NaN</td>\n",
       "      <td>NaN</td>\n",
       "    </tr>\n",
       "    <tr>\n",
       "      <th>1228</th>\n",
       "      <td>PIT</td>\n",
       "      <td>NL</td>\n",
       "      <td>1962</td>\n",
       "      <td>706</td>\n",
       "      <td>626</td>\n",
       "      <td>93</td>\n",
       "      <td>0.321</td>\n",
       "      <td>0.394</td>\n",
       "      <td>0.268</td>\n",
       "      <td>0</td>\n",
       "      <td>NaN</td>\n",
       "      <td>NaN</td>\n",
       "      <td>161</td>\n",
       "      <td>NaN</td>\n",
       "      <td>NaN</td>\n",
       "    </tr>\n",
       "    <tr>\n",
       "      <th>1229</th>\n",
       "      <td>SFG</td>\n",
       "      <td>NL</td>\n",
       "      <td>1962</td>\n",
       "      <td>878</td>\n",
       "      <td>690</td>\n",
       "      <td>103</td>\n",
       "      <td>0.341</td>\n",
       "      <td>0.441</td>\n",
       "      <td>0.278</td>\n",
       "      <td>1</td>\n",
       "      <td>1.0</td>\n",
       "      <td>2.0</td>\n",
       "      <td>165</td>\n",
       "      <td>NaN</td>\n",
       "      <td>NaN</td>\n",
       "    </tr>\n",
       "    <tr>\n",
       "      <th>1230</th>\n",
       "      <td>STL</td>\n",
       "      <td>NL</td>\n",
       "      <td>1962</td>\n",
       "      <td>774</td>\n",
       "      <td>664</td>\n",
       "      <td>84</td>\n",
       "      <td>0.335</td>\n",
       "      <td>0.394</td>\n",
       "      <td>0.271</td>\n",
       "      <td>0</td>\n",
       "      <td>NaN</td>\n",
       "      <td>NaN</td>\n",
       "      <td>163</td>\n",
       "      <td>NaN</td>\n",
       "      <td>NaN</td>\n",
       "    </tr>\n",
       "    <tr>\n",
       "      <th>1231</th>\n",
       "      <td>WSA</td>\n",
       "      <td>AL</td>\n",
       "      <td>1962</td>\n",
       "      <td>599</td>\n",
       "      <td>716</td>\n",
       "      <td>60</td>\n",
       "      <td>0.308</td>\n",
       "      <td>0.373</td>\n",
       "      <td>0.250</td>\n",
       "      <td>0</td>\n",
       "      <td>NaN</td>\n",
       "      <td>NaN</td>\n",
       "      <td>162</td>\n",
       "      <td>NaN</td>\n",
       "      <td>NaN</td>\n",
       "    </tr>\n",
       "  </tbody>\n",
       "</table>\n",
       "</div>"
      ],
      "text/plain": [
       "     Team League  Year   RS   RA    W    OBP    SLG     BA  Playoffs  \\\n",
       "1227  PHI     NL  1962  705  759   81  0.330  0.390  0.260         0   \n",
       "1228  PIT     NL  1962  706  626   93  0.321  0.394  0.268         0   \n",
       "1229  SFG     NL  1962  878  690  103  0.341  0.441  0.278         1   \n",
       "1230  STL     NL  1962  774  664   84  0.335  0.394  0.271         0   \n",
       "1231  WSA     AL  1962  599  716   60  0.308  0.373  0.250         0   \n",
       "\n",
       "      RankSeason  RankPlayoffs    G  OOBP  OSLG  \n",
       "1227         NaN           NaN  161   NaN   NaN  \n",
       "1228         NaN           NaN  161   NaN   NaN  \n",
       "1229         1.0           2.0  165   NaN   NaN  \n",
       "1230         NaN           NaN  163   NaN   NaN  \n",
       "1231         NaN           NaN  162   NaN   NaN  "
      ]
     },
     "execution_count": 17,
     "metadata": {},
     "output_type": "execute_result"
    }
   ],
   "source": [
    "baseball.tail()"
   ]
  },
  {
   "cell_type": "code",
   "execution_count": 18,
   "metadata": {},
   "outputs": [
    {
     "data": {
      "text/html": [
       "<div>\n",
       "<style>\n",
       "    .dataframe thead tr:only-child th {\n",
       "        text-align: right;\n",
       "    }\n",
       "\n",
       "    .dataframe thead th {\n",
       "        text-align: left;\n",
       "    }\n",
       "\n",
       "    .dataframe tbody tr th {\n",
       "        vertical-align: top;\n",
       "    }\n",
       "</style>\n",
       "<table border=\"1\" class=\"dataframe\">\n",
       "  <thead>\n",
       "    <tr style=\"text-align: right;\">\n",
       "      <th></th>\n",
       "      <th>Year</th>\n",
       "      <th>RS</th>\n",
       "      <th>RA</th>\n",
       "      <th>W</th>\n",
       "      <th>OBP</th>\n",
       "      <th>SLG</th>\n",
       "      <th>BA</th>\n",
       "      <th>Playoffs</th>\n",
       "      <th>RankSeason</th>\n",
       "      <th>RankPlayoffs</th>\n",
       "      <th>G</th>\n",
       "      <th>OOBP</th>\n",
       "      <th>OSLG</th>\n",
       "    </tr>\n",
       "  </thead>\n",
       "  <tbody>\n",
       "    <tr>\n",
       "      <th>count</th>\n",
       "      <td>1232.000000</td>\n",
       "      <td>1232.000000</td>\n",
       "      <td>1232.000000</td>\n",
       "      <td>1232.000000</td>\n",
       "      <td>1232.000000</td>\n",
       "      <td>1232.000000</td>\n",
       "      <td>1232.000000</td>\n",
       "      <td>1232.000000</td>\n",
       "      <td>244.000000</td>\n",
       "      <td>244.000000</td>\n",
       "      <td>1232.000000</td>\n",
       "      <td>420.000000</td>\n",
       "      <td>420.000000</td>\n",
       "    </tr>\n",
       "    <tr>\n",
       "      <th>mean</th>\n",
       "      <td>1988.957792</td>\n",
       "      <td>715.081981</td>\n",
       "      <td>715.081981</td>\n",
       "      <td>80.904221</td>\n",
       "      <td>0.326331</td>\n",
       "      <td>0.397342</td>\n",
       "      <td>0.259273</td>\n",
       "      <td>0.198052</td>\n",
       "      <td>3.122951</td>\n",
       "      <td>2.717213</td>\n",
       "      <td>161.918831</td>\n",
       "      <td>0.332264</td>\n",
       "      <td>0.419743</td>\n",
       "    </tr>\n",
       "    <tr>\n",
       "      <th>std</th>\n",
       "      <td>14.819625</td>\n",
       "      <td>91.534294</td>\n",
       "      <td>93.079933</td>\n",
       "      <td>11.458139</td>\n",
       "      <td>0.015013</td>\n",
       "      <td>0.033267</td>\n",
       "      <td>0.012907</td>\n",
       "      <td>0.398693</td>\n",
       "      <td>1.738349</td>\n",
       "      <td>1.095234</td>\n",
       "      <td>0.624365</td>\n",
       "      <td>0.015295</td>\n",
       "      <td>0.026510</td>\n",
       "    </tr>\n",
       "    <tr>\n",
       "      <th>min</th>\n",
       "      <td>1962.000000</td>\n",
       "      <td>463.000000</td>\n",
       "      <td>472.000000</td>\n",
       "      <td>40.000000</td>\n",
       "      <td>0.277000</td>\n",
       "      <td>0.301000</td>\n",
       "      <td>0.214000</td>\n",
       "      <td>0.000000</td>\n",
       "      <td>1.000000</td>\n",
       "      <td>1.000000</td>\n",
       "      <td>158.000000</td>\n",
       "      <td>0.294000</td>\n",
       "      <td>0.346000</td>\n",
       "    </tr>\n",
       "    <tr>\n",
       "      <th>25%</th>\n",
       "      <td>1976.750000</td>\n",
       "      <td>652.000000</td>\n",
       "      <td>649.750000</td>\n",
       "      <td>73.000000</td>\n",
       "      <td>0.317000</td>\n",
       "      <td>0.375000</td>\n",
       "      <td>0.251000</td>\n",
       "      <td>0.000000</td>\n",
       "      <td>2.000000</td>\n",
       "      <td>2.000000</td>\n",
       "      <td>162.000000</td>\n",
       "      <td>0.321000</td>\n",
       "      <td>0.401000</td>\n",
       "    </tr>\n",
       "    <tr>\n",
       "      <th>50%</th>\n",
       "      <td>1989.000000</td>\n",
       "      <td>711.000000</td>\n",
       "      <td>709.000000</td>\n",
       "      <td>81.000000</td>\n",
       "      <td>0.326000</td>\n",
       "      <td>0.396000</td>\n",
       "      <td>0.260000</td>\n",
       "      <td>0.000000</td>\n",
       "      <td>3.000000</td>\n",
       "      <td>3.000000</td>\n",
       "      <td>162.000000</td>\n",
       "      <td>0.331000</td>\n",
       "      <td>0.419000</td>\n",
       "    </tr>\n",
       "    <tr>\n",
       "      <th>75%</th>\n",
       "      <td>2002.000000</td>\n",
       "      <td>775.000000</td>\n",
       "      <td>774.250000</td>\n",
       "      <td>89.000000</td>\n",
       "      <td>0.337000</td>\n",
       "      <td>0.421000</td>\n",
       "      <td>0.268000</td>\n",
       "      <td>0.000000</td>\n",
       "      <td>4.000000</td>\n",
       "      <td>4.000000</td>\n",
       "      <td>162.000000</td>\n",
       "      <td>0.343000</td>\n",
       "      <td>0.438000</td>\n",
       "    </tr>\n",
       "    <tr>\n",
       "      <th>max</th>\n",
       "      <td>2012.000000</td>\n",
       "      <td>1009.000000</td>\n",
       "      <td>1103.000000</td>\n",
       "      <td>116.000000</td>\n",
       "      <td>0.373000</td>\n",
       "      <td>0.491000</td>\n",
       "      <td>0.294000</td>\n",
       "      <td>1.000000</td>\n",
       "      <td>8.000000</td>\n",
       "      <td>5.000000</td>\n",
       "      <td>165.000000</td>\n",
       "      <td>0.384000</td>\n",
       "      <td>0.499000</td>\n",
       "    </tr>\n",
       "  </tbody>\n",
       "</table>\n",
       "</div>"
      ],
      "text/plain": [
       "              Year           RS           RA            W          OBP  \\\n",
       "count  1232.000000  1232.000000  1232.000000  1232.000000  1232.000000   \n",
       "mean   1988.957792   715.081981   715.081981    80.904221     0.326331   \n",
       "std      14.819625    91.534294    93.079933    11.458139     0.015013   \n",
       "min    1962.000000   463.000000   472.000000    40.000000     0.277000   \n",
       "25%    1976.750000   652.000000   649.750000    73.000000     0.317000   \n",
       "50%    1989.000000   711.000000   709.000000    81.000000     0.326000   \n",
       "75%    2002.000000   775.000000   774.250000    89.000000     0.337000   \n",
       "max    2012.000000  1009.000000  1103.000000   116.000000     0.373000   \n",
       "\n",
       "               SLG           BA     Playoffs  RankSeason  RankPlayoffs  \\\n",
       "count  1232.000000  1232.000000  1232.000000  244.000000    244.000000   \n",
       "mean      0.397342     0.259273     0.198052    3.122951      2.717213   \n",
       "std       0.033267     0.012907     0.398693    1.738349      1.095234   \n",
       "min       0.301000     0.214000     0.000000    1.000000      1.000000   \n",
       "25%       0.375000     0.251000     0.000000    2.000000      2.000000   \n",
       "50%       0.396000     0.260000     0.000000    3.000000      3.000000   \n",
       "75%       0.421000     0.268000     0.000000    4.000000      4.000000   \n",
       "max       0.491000     0.294000     1.000000    8.000000      5.000000   \n",
       "\n",
       "                 G        OOBP        OSLG  \n",
       "count  1232.000000  420.000000  420.000000  \n",
       "mean    161.918831    0.332264    0.419743  \n",
       "std       0.624365    0.015295    0.026510  \n",
       "min     158.000000    0.294000    0.346000  \n",
       "25%     162.000000    0.321000    0.401000  \n",
       "50%     162.000000    0.331000    0.419000  \n",
       "75%     162.000000    0.343000    0.438000  \n",
       "max     165.000000    0.384000    0.499000  "
      ]
     },
     "execution_count": 18,
     "metadata": {},
     "output_type": "execute_result"
    }
   ],
   "source": [
    "baseball.describe()"
   ]
  },
  {
   "cell_type": "markdown",
   "metadata": {},
   "source": [
    "#### If a baseball team's OBP is 0.311 and SLG is 0.405, how many runs do we expect the team to score?\n",
    "\n",
    "683 (2830(0.311) + 1517(0.405) - 811)"
   ]
  },
  {
   "cell_type": "markdown",
   "metadata": {},
   "source": [
    "Suppose you are the General Manager of a baseball team, and you are selecting TWO players for your team. You have a budget of $1,500,000, and you have the choice between the following players:\n",
    "\n",
    "Player Name\tOBP\tSLG\tSalary\n",
    "Eric Chavez\t0.338\t0.540\t1,400,000 \n",
    "Jeremy Giambi\t0.391\t0.450\t1,065,000 \n",
    "Frank Menechino\t0.369\t0.374\t295,000 \n",
    "Greg Myers\t0.313\t0.447\t800,000 \n",
    "Carlos Pena\t0.361\t0.500\t300,000 \n",
    "Given your budget and the player statistics, which TWO players would you select?\n",
    "\n",
    "Jeremy Giambi and Carlos Pena. Though Eric Chavez has a high RS, he is way too expensive whereas as the General Manager, you\n",
    "could afford both Jeremy and Carlos since they have high RS too."
   ]
  }
 ],
 "metadata": {
  "kernelspec": {
   "display_name": "Python 3",
   "language": "python",
   "name": "python3"
  },
  "language_info": {
   "codemirror_mode": {
    "name": "ipython",
    "version": 3
   },
   "file_extension": ".py",
   "mimetype": "text/x-python",
   "name": "python",
   "nbconvert_exporter": "python",
   "pygments_lexer": "ipython3",
   "version": "3.6.1"
  }
 },
 "nbformat": 4,
 "nbformat_minor": 2
}
