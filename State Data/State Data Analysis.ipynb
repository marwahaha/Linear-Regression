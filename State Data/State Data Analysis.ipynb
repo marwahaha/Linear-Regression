{
 "cells": [
  {
   "cell_type": "code",
   "execution_count": 1,
   "metadata": {
    "collapsed": true
   },
   "outputs": [],
   "source": [
    "import pandas as pd"
   ]
  },
  {
   "cell_type": "code",
   "execution_count": 2,
   "metadata": {
    "collapsed": true
   },
   "outputs": [],
   "source": [
    "state = pd.read_csv(\"statedata.csv\")"
   ]
  },
  {
   "cell_type": "code",
   "execution_count": 3,
   "metadata": {},
   "outputs": [
    {
     "name": "stdout",
     "output_type": "stream",
     "text": [
      "<class 'pandas.core.frame.DataFrame'>\n",
      "RangeIndex: 50 entries, 0 to 49\n",
      "Data columns (total 15 columns):\n",
      "Population        50 non-null int64\n",
      "Income            50 non-null int64\n",
      "Illiteracy        50 non-null float64\n",
      "Life.Exp          50 non-null float64\n",
      "Murder            50 non-null float64\n",
      "HS.Grad           50 non-null float64\n",
      "Frost             50 non-null int64\n",
      "Area              50 non-null int64\n",
      "state.abb         50 non-null object\n",
      "state.area        50 non-null int64\n",
      "x                 50 non-null float64\n",
      "y                 50 non-null float64\n",
      "state.division    50 non-null object\n",
      "state.name        50 non-null object\n",
      "state.region      50 non-null object\n",
      "dtypes: float64(6), int64(5), object(4)\n",
      "memory usage: 5.9+ KB\n"
     ]
    }
   ],
   "source": [
    "state.info()"
   ]
  },
  {
   "cell_type": "code",
   "execution_count": 4,
   "metadata": {},
   "outputs": [
    {
     "data": {
      "text/html": [
       "<div>\n",
       "<style>\n",
       "    .dataframe thead tr:only-child th {\n",
       "        text-align: right;\n",
       "    }\n",
       "\n",
       "    .dataframe thead th {\n",
       "        text-align: left;\n",
       "    }\n",
       "\n",
       "    .dataframe tbody tr th {\n",
       "        vertical-align: top;\n",
       "    }\n",
       "</style>\n",
       "<table border=\"1\" class=\"dataframe\">\n",
       "  <thead>\n",
       "    <tr style=\"text-align: right;\">\n",
       "      <th></th>\n",
       "      <th>Population</th>\n",
       "      <th>Income</th>\n",
       "      <th>Illiteracy</th>\n",
       "      <th>Life.Exp</th>\n",
       "      <th>Murder</th>\n",
       "      <th>HS.Grad</th>\n",
       "      <th>Frost</th>\n",
       "      <th>Area</th>\n",
       "      <th>state.abb</th>\n",
       "      <th>state.area</th>\n",
       "      <th>x</th>\n",
       "      <th>y</th>\n",
       "      <th>state.division</th>\n",
       "      <th>state.name</th>\n",
       "      <th>state.region</th>\n",
       "    </tr>\n",
       "  </thead>\n",
       "  <tbody>\n",
       "    <tr>\n",
       "      <th>0</th>\n",
       "      <td>3615</td>\n",
       "      <td>3624</td>\n",
       "      <td>2.1</td>\n",
       "      <td>69.05</td>\n",
       "      <td>15.1</td>\n",
       "      <td>41.3</td>\n",
       "      <td>20</td>\n",
       "      <td>50708</td>\n",
       "      <td>AL</td>\n",
       "      <td>51609</td>\n",
       "      <td>-86.7509</td>\n",
       "      <td>32.5901</td>\n",
       "      <td>East South Central</td>\n",
       "      <td>Alabama</td>\n",
       "      <td>South</td>\n",
       "    </tr>\n",
       "    <tr>\n",
       "      <th>1</th>\n",
       "      <td>365</td>\n",
       "      <td>6315</td>\n",
       "      <td>1.5</td>\n",
       "      <td>69.31</td>\n",
       "      <td>11.3</td>\n",
       "      <td>66.7</td>\n",
       "      <td>152</td>\n",
       "      <td>566432</td>\n",
       "      <td>AK</td>\n",
       "      <td>589757</td>\n",
       "      <td>-127.2500</td>\n",
       "      <td>49.2500</td>\n",
       "      <td>Pacific</td>\n",
       "      <td>Alaska</td>\n",
       "      <td>West</td>\n",
       "    </tr>\n",
       "    <tr>\n",
       "      <th>2</th>\n",
       "      <td>2212</td>\n",
       "      <td>4530</td>\n",
       "      <td>1.8</td>\n",
       "      <td>70.55</td>\n",
       "      <td>7.8</td>\n",
       "      <td>58.1</td>\n",
       "      <td>15</td>\n",
       "      <td>113417</td>\n",
       "      <td>AZ</td>\n",
       "      <td>113909</td>\n",
       "      <td>-111.6250</td>\n",
       "      <td>34.2192</td>\n",
       "      <td>Mountain</td>\n",
       "      <td>Arizona</td>\n",
       "      <td>West</td>\n",
       "    </tr>\n",
       "    <tr>\n",
       "      <th>3</th>\n",
       "      <td>2110</td>\n",
       "      <td>3378</td>\n",
       "      <td>1.9</td>\n",
       "      <td>70.66</td>\n",
       "      <td>10.1</td>\n",
       "      <td>39.9</td>\n",
       "      <td>65</td>\n",
       "      <td>51945</td>\n",
       "      <td>AR</td>\n",
       "      <td>53104</td>\n",
       "      <td>-92.2992</td>\n",
       "      <td>34.7336</td>\n",
       "      <td>West South Central</td>\n",
       "      <td>Arkansas</td>\n",
       "      <td>South</td>\n",
       "    </tr>\n",
       "    <tr>\n",
       "      <th>4</th>\n",
       "      <td>21198</td>\n",
       "      <td>5114</td>\n",
       "      <td>1.1</td>\n",
       "      <td>71.71</td>\n",
       "      <td>10.3</td>\n",
       "      <td>62.6</td>\n",
       "      <td>20</td>\n",
       "      <td>156361</td>\n",
       "      <td>CA</td>\n",
       "      <td>158693</td>\n",
       "      <td>-119.7730</td>\n",
       "      <td>36.5341</td>\n",
       "      <td>Pacific</td>\n",
       "      <td>California</td>\n",
       "      <td>West</td>\n",
       "    </tr>\n",
       "  </tbody>\n",
       "</table>\n",
       "</div>"
      ],
      "text/plain": [
       "   Population  Income  Illiteracy  Life.Exp  Murder  HS.Grad  Frost    Area  \\\n",
       "0        3615    3624         2.1     69.05    15.1     41.3     20   50708   \n",
       "1         365    6315         1.5     69.31    11.3     66.7    152  566432   \n",
       "2        2212    4530         1.8     70.55     7.8     58.1     15  113417   \n",
       "3        2110    3378         1.9     70.66    10.1     39.9     65   51945   \n",
       "4       21198    5114         1.1     71.71    10.3     62.6     20  156361   \n",
       "\n",
       "  state.abb  state.area         x        y      state.division  state.name  \\\n",
       "0        AL       51609  -86.7509  32.5901  East South Central     Alabama   \n",
       "1        AK      589757 -127.2500  49.2500             Pacific      Alaska   \n",
       "2        AZ      113909 -111.6250  34.2192            Mountain     Arizona   \n",
       "3        AR       53104  -92.2992  34.7336  West South Central    Arkansas   \n",
       "4        CA      158693 -119.7730  36.5341             Pacific  California   \n",
       "\n",
       "  state.region  \n",
       "0        South  \n",
       "1         West  \n",
       "2         West  \n",
       "3        South  \n",
       "4         West  "
      ]
     },
     "execution_count": 4,
     "metadata": {},
     "output_type": "execute_result"
    }
   ],
   "source": [
    "state.head()"
   ]
  },
  {
   "cell_type": "code",
   "execution_count": 5,
   "metadata": {
    "collapsed": true
   },
   "outputs": [],
   "source": [
    "import matplotlib.pyplot as plt\n",
    "%matplotlib inline"
   ]
  },
  {
   "cell_type": "code",
   "execution_count": 7,
   "metadata": {},
   "outputs": [
    {
     "data": {
      "image/png": "[encoded data removed]",
      "text/plain": [
       "<matplotlib.figure.Figure at 0x24bf9c30eb8>"
      ]
     },
     "metadata": {},
     "output_type": "display_data"
    }
   ],
   "source": [
    "plt.scatter(state['x'], state['y'])\n",
    "plt.xlabel('Latitude')\n",
    "plt.ylabel('Longitude')\n",
    "plt.show()"
   ]
  },
  {
   "cell_type": "markdown",
   "metadata": {},
   "source": [
    "#### Determine which region of the US (West, North Central, South, or Northeast) has the highest average high school graduation rate of all the states in the region\n",
    "\n",
    "*West*"
   ]
  },
  {
   "cell_type": "code",
   "execution_count": 10,
   "metadata": {
    "collapsed": true
   },
   "outputs": [],
   "source": [
    "import numpy as np"
   ]
  },
  {
   "cell_type": "code",
   "execution_count": 11,
   "metadata": {},
   "outputs": [
    {
     "data": {
      "text/html": [
       "<div>\n",
       "<style>\n",
       "    .dataframe thead tr:only-child th {\n",
       "        text-align: right;\n",
       "    }\n",
       "\n",
       "    .dataframe thead th {\n",
       "        text-align: left;\n",
       "    }\n",
       "\n",
       "    .dataframe tbody tr th {\n",
       "        vertical-align: top;\n",
       "    }\n",
       "</style>\n",
       "<table border=\"1\" class=\"dataframe\">\n",
       "  <thead>\n",
       "    <tr style=\"text-align: right;\">\n",
       "      <th>state.region</th>\n",
       "      <th>North Central</th>\n",
       "      <th>Northeast</th>\n",
       "      <th>South</th>\n",
       "      <th>West</th>\n",
       "      <th>All</th>\n",
       "    </tr>\n",
       "    <tr>\n",
       "      <th>HS.Grad</th>\n",
       "      <th></th>\n",
       "      <th></th>\n",
       "      <th></th>\n",
       "      <th></th>\n",
       "      <th></th>\n",
       "    </tr>\n",
       "  </thead>\n",
       "  <tbody>\n",
       "    <tr>\n",
       "      <th>37.8</th>\n",
       "      <td>0</td>\n",
       "      <td>0</td>\n",
       "      <td>1</td>\n",
       "      <td>0</td>\n",
       "      <td>1</td>\n",
       "    </tr>\n",
       "    <tr>\n",
       "      <th>38.5</th>\n",
       "      <td>0</td>\n",
       "      <td>0</td>\n",
       "      <td>2</td>\n",
       "      <td>0</td>\n",
       "      <td>2</td>\n",
       "    </tr>\n",
       "    <tr>\n",
       "      <th>39.9</th>\n",
       "      <td>0</td>\n",
       "      <td>0</td>\n",
       "      <td>1</td>\n",
       "      <td>0</td>\n",
       "      <td>1</td>\n",
       "    </tr>\n",
       "    <tr>\n",
       "      <th>40.6</th>\n",
       "      <td>0</td>\n",
       "      <td>0</td>\n",
       "      <td>1</td>\n",
       "      <td>0</td>\n",
       "      <td>1</td>\n",
       "    </tr>\n",
       "    <tr>\n",
       "      <th>41.0</th>\n",
       "      <td>0</td>\n",
       "      <td>0</td>\n",
       "      <td>1</td>\n",
       "      <td>0</td>\n",
       "      <td>1</td>\n",
       "    </tr>\n",
       "    <tr>\n",
       "      <th>41.3</th>\n",
       "      <td>0</td>\n",
       "      <td>0</td>\n",
       "      <td>1</td>\n",
       "      <td>0</td>\n",
       "      <td>1</td>\n",
       "    </tr>\n",
       "    <tr>\n",
       "      <th>41.6</th>\n",
       "      <td>0</td>\n",
       "      <td>0</td>\n",
       "      <td>1</td>\n",
       "      <td>0</td>\n",
       "      <td>1</td>\n",
       "    </tr>\n",
       "    <tr>\n",
       "      <th>41.8</th>\n",
       "      <td>0</td>\n",
       "      <td>0</td>\n",
       "      <td>1</td>\n",
       "      <td>0</td>\n",
       "      <td>1</td>\n",
       "    </tr>\n",
       "    <tr>\n",
       "      <th>42.2</th>\n",
       "      <td>0</td>\n",
       "      <td>0</td>\n",
       "      <td>1</td>\n",
       "      <td>0</td>\n",
       "      <td>1</td>\n",
       "    </tr>\n",
       "    <tr>\n",
       "      <th>46.4</th>\n",
       "      <td>0</td>\n",
       "      <td>1</td>\n",
       "      <td>0</td>\n",
       "      <td>0</td>\n",
       "      <td>1</td>\n",
       "    </tr>\n",
       "    <tr>\n",
       "      <th>47.4</th>\n",
       "      <td>0</td>\n",
       "      <td>0</td>\n",
       "      <td>1</td>\n",
       "      <td>0</td>\n",
       "      <td>1</td>\n",
       "    </tr>\n",
       "    <tr>\n",
       "      <th>47.8</th>\n",
       "      <td>0</td>\n",
       "      <td>0</td>\n",
       "      <td>1</td>\n",
       "      <td>0</td>\n",
       "      <td>1</td>\n",
       "    </tr>\n",
       "    <tr>\n",
       "      <th>48.8</th>\n",
       "      <td>1</td>\n",
       "      <td>0</td>\n",
       "      <td>0</td>\n",
       "      <td>0</td>\n",
       "      <td>1</td>\n",
       "    </tr>\n",
       "    <tr>\n",
       "      <th>50.2</th>\n",
       "      <td>0</td>\n",
       "      <td>1</td>\n",
       "      <td>0</td>\n",
       "      <td>0</td>\n",
       "      <td>1</td>\n",
       "    </tr>\n",
       "    <tr>\n",
       "      <th>50.3</th>\n",
       "      <td>1</td>\n",
       "      <td>0</td>\n",
       "      <td>0</td>\n",
       "      <td>0</td>\n",
       "      <td>1</td>\n",
       "    </tr>\n",
       "    <tr>\n",
       "      <th>51.6</th>\n",
       "      <td>0</td>\n",
       "      <td>0</td>\n",
       "      <td>1</td>\n",
       "      <td>0</td>\n",
       "      <td>1</td>\n",
       "    </tr>\n",
       "    <tr>\n",
       "      <th>52.3</th>\n",
       "      <td>0</td>\n",
       "      <td>0</td>\n",
       "      <td>1</td>\n",
       "      <td>0</td>\n",
       "      <td>1</td>\n",
       "    </tr>\n",
       "    <tr>\n",
       "      <th>52.5</th>\n",
       "      <td>0</td>\n",
       "      <td>1</td>\n",
       "      <td>0</td>\n",
       "      <td>0</td>\n",
       "      <td>1</td>\n",
       "    </tr>\n",
       "    <tr>\n",
       "      <th>52.6</th>\n",
       "      <td>1</td>\n",
       "      <td>0</td>\n",
       "      <td>1</td>\n",
       "      <td>0</td>\n",
       "      <td>2</td>\n",
       "    </tr>\n",
       "    <tr>\n",
       "      <th>52.7</th>\n",
       "      <td>0</td>\n",
       "      <td>1</td>\n",
       "      <td>0</td>\n",
       "      <td>0</td>\n",
       "      <td>1</td>\n",
       "    </tr>\n",
       "    <tr>\n",
       "      <th>52.8</th>\n",
       "      <td>1</td>\n",
       "      <td>0</td>\n",
       "      <td>0</td>\n",
       "      <td>0</td>\n",
       "      <td>1</td>\n",
       "    </tr>\n",
       "    <tr>\n",
       "      <th>52.9</th>\n",
       "      <td>1</td>\n",
       "      <td>0</td>\n",
       "      <td>0</td>\n",
       "      <td>0</td>\n",
       "      <td>1</td>\n",
       "    </tr>\n",
       "    <tr>\n",
       "      <th>53.2</th>\n",
       "      <td>1</td>\n",
       "      <td>0</td>\n",
       "      <td>0</td>\n",
       "      <td>0</td>\n",
       "      <td>1</td>\n",
       "    </tr>\n",
       "    <tr>\n",
       "      <th>53.3</th>\n",
       "      <td>1</td>\n",
       "      <td>0</td>\n",
       "      <td>0</td>\n",
       "      <td>0</td>\n",
       "      <td>1</td>\n",
       "    </tr>\n",
       "    <tr>\n",
       "      <th>54.5</th>\n",
       "      <td>1</td>\n",
       "      <td>0</td>\n",
       "      <td>0</td>\n",
       "      <td>0</td>\n",
       "      <td>1</td>\n",
       "    </tr>\n",
       "    <tr>\n",
       "      <th>54.6</th>\n",
       "      <td>0</td>\n",
       "      <td>0</td>\n",
       "      <td>1</td>\n",
       "      <td>0</td>\n",
       "      <td>1</td>\n",
       "    </tr>\n",
       "    <tr>\n",
       "      <th>54.7</th>\n",
       "      <td>0</td>\n",
       "      <td>1</td>\n",
       "      <td>0</td>\n",
       "      <td>0</td>\n",
       "      <td>1</td>\n",
       "    </tr>\n",
       "    <tr>\n",
       "      <th>55.2</th>\n",
       "      <td>0</td>\n",
       "      <td>0</td>\n",
       "      <td>0</td>\n",
       "      <td>1</td>\n",
       "      <td>1</td>\n",
       "    </tr>\n",
       "    <tr>\n",
       "      <th>56.0</th>\n",
       "      <td>0</td>\n",
       "      <td>1</td>\n",
       "      <td>0</td>\n",
       "      <td>0</td>\n",
       "      <td>1</td>\n",
       "    </tr>\n",
       "    <tr>\n",
       "      <th>57.1</th>\n",
       "      <td>0</td>\n",
       "      <td>1</td>\n",
       "      <td>0</td>\n",
       "      <td>0</td>\n",
       "      <td>1</td>\n",
       "    </tr>\n",
       "    <tr>\n",
       "      <th>57.6</th>\n",
       "      <td>1</td>\n",
       "      <td>1</td>\n",
       "      <td>0</td>\n",
       "      <td>0</td>\n",
       "      <td>2</td>\n",
       "    </tr>\n",
       "    <tr>\n",
       "      <th>58.1</th>\n",
       "      <td>0</td>\n",
       "      <td>0</td>\n",
       "      <td>0</td>\n",
       "      <td>1</td>\n",
       "      <td>1</td>\n",
       "    </tr>\n",
       "    <tr>\n",
       "      <th>58.5</th>\n",
       "      <td>0</td>\n",
       "      <td>1</td>\n",
       "      <td>0</td>\n",
       "      <td>0</td>\n",
       "      <td>1</td>\n",
       "    </tr>\n",
       "    <tr>\n",
       "      <th>59.0</th>\n",
       "      <td>1</td>\n",
       "      <td>0</td>\n",
       "      <td>0</td>\n",
       "      <td>0</td>\n",
       "      <td>1</td>\n",
       "    </tr>\n",
       "    <tr>\n",
       "      <th>59.2</th>\n",
       "      <td>0</td>\n",
       "      <td>0</td>\n",
       "      <td>0</td>\n",
       "      <td>1</td>\n",
       "      <td>1</td>\n",
       "    </tr>\n",
       "    <tr>\n",
       "      <th>59.3</th>\n",
       "      <td>1</td>\n",
       "      <td>0</td>\n",
       "      <td>0</td>\n",
       "      <td>0</td>\n",
       "      <td>1</td>\n",
       "    </tr>\n",
       "    <tr>\n",
       "      <th>59.5</th>\n",
       "      <td>0</td>\n",
       "      <td>0</td>\n",
       "      <td>0</td>\n",
       "      <td>1</td>\n",
       "      <td>1</td>\n",
       "    </tr>\n",
       "    <tr>\n",
       "      <th>59.9</th>\n",
       "      <td>1</td>\n",
       "      <td>0</td>\n",
       "      <td>0</td>\n",
       "      <td>0</td>\n",
       "      <td>1</td>\n",
       "    </tr>\n",
       "    <tr>\n",
       "      <th>60.0</th>\n",
       "      <td>0</td>\n",
       "      <td>0</td>\n",
       "      <td>0</td>\n",
       "      <td>1</td>\n",
       "      <td>1</td>\n",
       "    </tr>\n",
       "    <tr>\n",
       "      <th>61.9</th>\n",
       "      <td>0</td>\n",
       "      <td>0</td>\n",
       "      <td>0</td>\n",
       "      <td>1</td>\n",
       "      <td>1</td>\n",
       "    </tr>\n",
       "    <tr>\n",
       "      <th>62.6</th>\n",
       "      <td>0</td>\n",
       "      <td>0</td>\n",
       "      <td>0</td>\n",
       "      <td>1</td>\n",
       "      <td>1</td>\n",
       "    </tr>\n",
       "    <tr>\n",
       "      <th>62.9</th>\n",
       "      <td>0</td>\n",
       "      <td>0</td>\n",
       "      <td>0</td>\n",
       "      <td>1</td>\n",
       "      <td>1</td>\n",
       "    </tr>\n",
       "    <tr>\n",
       "      <th>63.5</th>\n",
       "      <td>0</td>\n",
       "      <td>0</td>\n",
       "      <td>0</td>\n",
       "      <td>1</td>\n",
       "      <td>1</td>\n",
       "    </tr>\n",
       "    <tr>\n",
       "      <th>63.9</th>\n",
       "      <td>0</td>\n",
       "      <td>0</td>\n",
       "      <td>0</td>\n",
       "      <td>1</td>\n",
       "      <td>1</td>\n",
       "    </tr>\n",
       "    <tr>\n",
       "      <th>65.2</th>\n",
       "      <td>0</td>\n",
       "      <td>0</td>\n",
       "      <td>0</td>\n",
       "      <td>1</td>\n",
       "      <td>1</td>\n",
       "    </tr>\n",
       "    <tr>\n",
       "      <th>66.7</th>\n",
       "      <td>0</td>\n",
       "      <td>0</td>\n",
       "      <td>0</td>\n",
       "      <td>1</td>\n",
       "      <td>1</td>\n",
       "    </tr>\n",
       "    <tr>\n",
       "      <th>67.3</th>\n",
       "      <td>0</td>\n",
       "      <td>0</td>\n",
       "      <td>0</td>\n",
       "      <td>1</td>\n",
       "      <td>1</td>\n",
       "    </tr>\n",
       "    <tr>\n",
       "      <th>All</th>\n",
       "      <td>12</td>\n",
       "      <td>9</td>\n",
       "      <td>16</td>\n",
       "      <td>13</td>\n",
       "      <td>50</td>\n",
       "    </tr>\n",
       "  </tbody>\n",
       "</table>\n",
       "</div>"
      ],
      "text/plain": [
       "state.region  North Central  Northeast  South  West  All\n",
       "HS.Grad                                                 \n",
       "37.8                      0          0      1     0    1\n",
       "38.5                      0          0      2     0    2\n",
       "39.9                      0          0      1     0    1\n",
       "40.6                      0          0      1     0    1\n",
       "41.0                      0          0      1     0    1\n",
       "41.3                      0          0      1     0    1\n",
       "41.6                      0          0      1     0    1\n",
       "41.8                      0          0      1     0    1\n",
       "42.2                      0          0      1     0    1\n",
       "46.4                      0          1      0     0    1\n",
       "47.4                      0          0      1     0    1\n",
       "47.8                      0          0      1     0    1\n",
       "48.8                      1          0      0     0    1\n",
       "50.2                      0          1      0     0    1\n",
       "50.3                      1          0      0     0    1\n",
       "51.6                      0          0      1     0    1\n",
       "52.3                      0          0      1     0    1\n",
       "52.5                      0          1      0     0    1\n",
       "52.6                      1          0      1     0    2\n",
       "52.7                      0          1      0     0    1\n",
       "52.8                      1          0      0     0    1\n",
       "52.9                      1          0      0     0    1\n",
       "53.2                      1          0      0     0    1\n",
       "53.3                      1          0      0     0    1\n",
       "54.5                      1          0      0     0    1\n",
       "54.6                      0          0      1     0    1\n",
       "54.7                      0          1      0     0    1\n",
       "55.2                      0          0      0     1    1\n",
       "56.0                      0          1      0     0    1\n",
       "57.1                      0          1      0     0    1\n",
       "57.6                      1          1      0     0    2\n",
       "58.1                      0          0      0     1    1\n",
       "58.5                      0          1      0     0    1\n",
       "59.0                      1          0      0     0    1\n",
       "59.2                      0          0      0     1    1\n",
       "59.3                      1          0      0     0    1\n",
       "59.5                      0          0      0     1    1\n",
       "59.9                      1          0      0     0    1\n",
       "60.0                      0          0      0     1    1\n",
       "61.9                      0          0      0     1    1\n",
       "62.6                      0          0      0     1    1\n",
       "62.9                      0          0      0     1    1\n",
       "63.5                      0          0      0     1    1\n",
       "63.9                      0          0      0     1    1\n",
       "65.2                      0          0      0     1    1\n",
       "66.7                      0          0      0     1    1\n",
       "67.3                      0          0      0     1    1\n",
       "All                      12          9     16    13   50"
      ]
     },
     "execution_count": 11,
     "metadata": {},
     "output_type": "execute_result"
    }
   ],
   "source": [
    "pd.crosstab(index = state['HS.Grad'], columns = state['state.region'], margins=True)"
   ]
  },
  {
   "cell_type": "code",
   "execution_count": 12,
   "metadata": {},
   "outputs": [
    {
     "data": {
      "text/plain": [
       "state.region\n",
       "North Central    54.516667\n",
       "Northeast        53.966667\n",
       "South            44.343750\n",
       "West             62.000000\n",
       "Name: HS.Grad, dtype: float64"
      ]
     },
     "execution_count": 12,
     "metadata": {},
     "output_type": "execute_result"
    }
   ],
   "source": [
    "state.groupby('state.region')['HS.Grad'].agg(np.mean)"
   ]
  },
  {
   "cell_type": "markdown",
   "metadata": {},
   "source": [
    "#### Now, let's make a boxplot of the murder rate by region.\n",
    "\n",
    "#### Which region has the highest median murder rate?\n",
    "\n",
    "*South*"
   ]
  },
  {
   "cell_type": "code",
   "execution_count": 16,
   "metadata": {
    "scrolled": false
   },
   "outputs": [
    {
     "data": {
      "text/plain": [
       "<matplotlib.axes._subplots.AxesSubplot at 0x24bf9fb8358>"
      ]
     },
     "execution_count": 16,
     "metadata": {},
     "output_type": "execute_result"
    },
    {
     "data": {
      "image/png": "[encoded data removed]",
      "text/plain": [
       "<matplotlib.figure.Figure at 0x24bfa0328d0>"
      ]
     },
     "metadata": {},
     "output_type": "display_data"
    }
   ],
   "source": [
    "state.boxplot(by='state.region', column=['Murder'])"
   ]
  },
  {
   "cell_type": "markdown",
   "metadata": {},
   "source": [
    "#### You should see that there is an outlier in the Northeast region of the boxplot you just generated. Which state does this correspond to?\n",
    "\n",
    "*New York*"
   ]
  },
  {
   "cell_type": "code",
   "execution_count": 17,
   "metadata": {},
   "outputs": [
    {
     "data": {
      "text/html": [
       "<div>\n",
       "<style>\n",
       "    .dataframe thead tr:only-child th {\n",
       "        text-align: right;\n",
       "    }\n",
       "\n",
       "    .dataframe thead th {\n",
       "        text-align: left;\n",
       "    }\n",
       "\n",
       "    .dataframe tbody tr th {\n",
       "        vertical-align: top;\n",
       "    }\n",
       "</style>\n",
       "<table border=\"1\" class=\"dataframe\">\n",
       "  <thead>\n",
       "    <tr style=\"text-align: right;\">\n",
       "      <th></th>\n",
       "      <th>Population</th>\n",
       "      <th>Income</th>\n",
       "      <th>Illiteracy</th>\n",
       "      <th>Life.Exp</th>\n",
       "      <th>Murder</th>\n",
       "      <th>HS.Grad</th>\n",
       "      <th>Frost</th>\n",
       "      <th>Area</th>\n",
       "      <th>state.abb</th>\n",
       "      <th>state.area</th>\n",
       "      <th>x</th>\n",
       "      <th>y</th>\n",
       "      <th>state.division</th>\n",
       "      <th>state.name</th>\n",
       "      <th>state.region</th>\n",
       "    </tr>\n",
       "  </thead>\n",
       "  <tbody>\n",
       "    <tr>\n",
       "      <th>6</th>\n",
       "      <td>3100</td>\n",
       "      <td>5348</td>\n",
       "      <td>1.1</td>\n",
       "      <td>72.48</td>\n",
       "      <td>3.1</td>\n",
       "      <td>56.0</td>\n",
       "      <td>139</td>\n",
       "      <td>4862</td>\n",
       "      <td>CT</td>\n",
       "      <td>5009</td>\n",
       "      <td>-72.3573</td>\n",
       "      <td>41.5928</td>\n",
       "      <td>New England</td>\n",
       "      <td>Connecticut</td>\n",
       "      <td>Northeast</td>\n",
       "    </tr>\n",
       "    <tr>\n",
       "      <th>18</th>\n",
       "      <td>1058</td>\n",
       "      <td>3694</td>\n",
       "      <td>0.7</td>\n",
       "      <td>70.39</td>\n",
       "      <td>2.7</td>\n",
       "      <td>54.7</td>\n",
       "      <td>161</td>\n",
       "      <td>30920</td>\n",
       "      <td>ME</td>\n",
       "      <td>33215</td>\n",
       "      <td>-68.9801</td>\n",
       "      <td>45.6226</td>\n",
       "      <td>New England</td>\n",
       "      <td>Maine</td>\n",
       "      <td>Northeast</td>\n",
       "    </tr>\n",
       "    <tr>\n",
       "      <th>20</th>\n",
       "      <td>5814</td>\n",
       "      <td>4755</td>\n",
       "      <td>1.1</td>\n",
       "      <td>71.83</td>\n",
       "      <td>3.3</td>\n",
       "      <td>58.5</td>\n",
       "      <td>103</td>\n",
       "      <td>7826</td>\n",
       "      <td>MA</td>\n",
       "      <td>8257</td>\n",
       "      <td>-71.5800</td>\n",
       "      <td>42.3645</td>\n",
       "      <td>New England</td>\n",
       "      <td>Massachusetts</td>\n",
       "      <td>Northeast</td>\n",
       "    </tr>\n",
       "    <tr>\n",
       "      <th>28</th>\n",
       "      <td>812</td>\n",
       "      <td>4281</td>\n",
       "      <td>0.7</td>\n",
       "      <td>71.23</td>\n",
       "      <td>3.3</td>\n",
       "      <td>57.6</td>\n",
       "      <td>174</td>\n",
       "      <td>9027</td>\n",
       "      <td>NH</td>\n",
       "      <td>9304</td>\n",
       "      <td>-71.3924</td>\n",
       "      <td>43.3934</td>\n",
       "      <td>New England</td>\n",
       "      <td>New Hampshire</td>\n",
       "      <td>Northeast</td>\n",
       "    </tr>\n",
       "    <tr>\n",
       "      <th>29</th>\n",
       "      <td>7333</td>\n",
       "      <td>5237</td>\n",
       "      <td>1.1</td>\n",
       "      <td>70.93</td>\n",
       "      <td>5.2</td>\n",
       "      <td>52.5</td>\n",
       "      <td>115</td>\n",
       "      <td>7521</td>\n",
       "      <td>NJ</td>\n",
       "      <td>7836</td>\n",
       "      <td>-74.2336</td>\n",
       "      <td>39.9637</td>\n",
       "      <td>Middle Atlantic</td>\n",
       "      <td>New Jersey</td>\n",
       "      <td>Northeast</td>\n",
       "    </tr>\n",
       "    <tr>\n",
       "      <th>31</th>\n",
       "      <td>18076</td>\n",
       "      <td>4903</td>\n",
       "      <td>1.4</td>\n",
       "      <td>70.55</td>\n",
       "      <td>10.9</td>\n",
       "      <td>52.7</td>\n",
       "      <td>82</td>\n",
       "      <td>47831</td>\n",
       "      <td>NY</td>\n",
       "      <td>49576</td>\n",
       "      <td>-75.1449</td>\n",
       "      <td>43.1361</td>\n",
       "      <td>Middle Atlantic</td>\n",
       "      <td>New York</td>\n",
       "      <td>Northeast</td>\n",
       "    </tr>\n",
       "    <tr>\n",
       "      <th>37</th>\n",
       "      <td>11860</td>\n",
       "      <td>4449</td>\n",
       "      <td>1.0</td>\n",
       "      <td>70.43</td>\n",
       "      <td>6.1</td>\n",
       "      <td>50.2</td>\n",
       "      <td>126</td>\n",
       "      <td>44966</td>\n",
       "      <td>PA</td>\n",
       "      <td>45333</td>\n",
       "      <td>-77.4500</td>\n",
       "      <td>40.9069</td>\n",
       "      <td>Middle Atlantic</td>\n",
       "      <td>Pennsylvania</td>\n",
       "      <td>Northeast</td>\n",
       "    </tr>\n",
       "    <tr>\n",
       "      <th>38</th>\n",
       "      <td>931</td>\n",
       "      <td>4558</td>\n",
       "      <td>1.3</td>\n",
       "      <td>71.90</td>\n",
       "      <td>2.4</td>\n",
       "      <td>46.4</td>\n",
       "      <td>127</td>\n",
       "      <td>1049</td>\n",
       "      <td>RI</td>\n",
       "      <td>1214</td>\n",
       "      <td>-71.1244</td>\n",
       "      <td>41.5928</td>\n",
       "      <td>New England</td>\n",
       "      <td>Rhode Island</td>\n",
       "      <td>Northeast</td>\n",
       "    </tr>\n",
       "    <tr>\n",
       "      <th>44</th>\n",
       "      <td>472</td>\n",
       "      <td>3907</td>\n",
       "      <td>0.6</td>\n",
       "      <td>71.64</td>\n",
       "      <td>5.5</td>\n",
       "      <td>57.1</td>\n",
       "      <td>168</td>\n",
       "      <td>9267</td>\n",
       "      <td>VT</td>\n",
       "      <td>9609</td>\n",
       "      <td>-72.5450</td>\n",
       "      <td>44.2508</td>\n",
       "      <td>New England</td>\n",
       "      <td>Vermont</td>\n",
       "      <td>Northeast</td>\n",
       "    </tr>\n",
       "  </tbody>\n",
       "</table>\n",
       "</div>"
      ],
      "text/plain": [
       "    Population  Income  Illiteracy  Life.Exp  Murder  HS.Grad  Frost   Area  \\\n",
       "6         3100    5348         1.1     72.48     3.1     56.0    139   4862   \n",
       "18        1058    3694         0.7     70.39     2.7     54.7    161  30920   \n",
       "20        5814    4755         1.1     71.83     3.3     58.5    103   7826   \n",
       "28         812    4281         0.7     71.23     3.3     57.6    174   9027   \n",
       "29        7333    5237         1.1     70.93     5.2     52.5    115   7521   \n",
       "31       18076    4903         1.4     70.55    10.9     52.7     82  47831   \n",
       "37       11860    4449         1.0     70.43     6.1     50.2    126  44966   \n",
       "38         931    4558         1.3     71.90     2.4     46.4    127   1049   \n",
       "44         472    3907         0.6     71.64     5.5     57.1    168   9267   \n",
       "\n",
       "   state.abb  state.area        x        y   state.division     state.name  \\\n",
       "6         CT        5009 -72.3573  41.5928      New England    Connecticut   \n",
       "18        ME       33215 -68.9801  45.6226      New England          Maine   \n",
       "20        MA        8257 -71.5800  42.3645      New England  Massachusetts   \n",
       "28        NH        9304 -71.3924  43.3934      New England  New Hampshire   \n",
       "29        NJ        7836 -74.2336  39.9637  Middle Atlantic     New Jersey   \n",
       "31        NY       49576 -75.1449  43.1361  Middle Atlantic       New York   \n",
       "37        PA       45333 -77.4500  40.9069  Middle Atlantic   Pennsylvania   \n",
       "38        RI        1214 -71.1244  41.5928      New England   Rhode Island   \n",
       "44        VT        9609 -72.5450  44.2508      New England        Vermont   \n",
       "\n",
       "   state.region  \n",
       "6     Northeast  \n",
       "18    Northeast  \n",
       "20    Northeast  \n",
       "28    Northeast  \n",
       "29    Northeast  \n",
       "31    Northeast  \n",
       "37    Northeast  \n",
       "38    Northeast  \n",
       "44    Northeast  "
      ]
     },
     "execution_count": 17,
     "metadata": {},
     "output_type": "execute_result"
    }
   ],
   "source": [
    "state[state['state.region'] == 'Northeast']"
   ]
  },
  {
   "cell_type": "code",
   "execution_count": 25,
   "metadata": {},
   "outputs": [
    {
     "data": {
      "text/plain": [
       "Population                  18076\n",
       "Income                       4903\n",
       "Illiteracy                    1.4\n",
       "Life.Exp                    70.55\n",
       "Murder                       10.9\n",
       "HS.Grad                      52.7\n",
       "Frost                          82\n",
       "Area                        47831\n",
       "state.abb                      NY\n",
       "state.area                  49576\n",
       "x                        -75.1449\n",
       "y                         43.1361\n",
       "state.division    Middle Atlantic\n",
       "state.name               New York\n",
       "state.region            Northeast\n",
       "Name: 31, dtype: object"
      ]
     },
     "execution_count": 25,
     "metadata": {},
     "output_type": "execute_result"
    }
   ],
   "source": [
    "northEastStates = state[state['state.region'] == 'Northeast']\n",
    "state.iloc[northEastStates['Murder'].idxmax()]"
   ]
  },
  {
   "cell_type": "markdown",
   "metadata": {},
   "source": [
    "#### Build the model with all potential variables included (Population, Income, Illiteracy, Murder, HS.Grad, Frost, and Area).\n",
    "\n",
    "#### What is the coefficient for \"Income\" in your linear regression model?\n",
    "\n",
    "*-0.0000218*"
   ]
  },
  {
   "cell_type": "code",
   "execution_count": 26,
   "metadata": {
    "collapsed": true
   },
   "outputs": [],
   "source": [
    "from sklearn import linear_model"
   ]
  },
  {
   "cell_type": "code",
   "execution_count": 27,
   "metadata": {
    "collapsed": true
   },
   "outputs": [],
   "source": [
    "linearRegression = linear_model.LinearRegression()"
   ]
  },
  {
   "cell_type": "code",
   "execution_count": 28,
   "metadata": {
    "collapsed": true
   },
   "outputs": [],
   "source": [
    "X_train_model1 = state[['Population', 'Income', 'Illiteracy', 'Murder', 'HS.Grad', 'Frost', 'Area']]\n",
    "y_train_model1 = state[['Life.Exp']]"
   ]
  },
  {
   "cell_type": "code",
   "execution_count": 29,
   "metadata": {},
   "outputs": [
    {
     "data": {
      "text/plain": [
       "LinearRegression(copy_X=True, fit_intercept=True, n_jobs=1, normalize=False)"
      ]
     },
     "execution_count": 29,
     "metadata": {},
     "output_type": "execute_result"
    }
   ],
   "source": [
    "linearRegression.fit(X_train_model1, y_train_model1)"
   ]
  },
  {
   "cell_type": "code",
   "execution_count": 30,
   "metadata": {},
   "outputs": [
    {
     "name": "stdout",
     "output_type": "stream",
     "text": [
      "Intercept  [ 70.94322411]\n"
     ]
    }
   ],
   "source": [
    "print(\"Intercept \", linearRegression.intercept_)"
   ]
  },
  {
   "cell_type": "code",
   "execution_count": 31,
   "metadata": {},
   "outputs": [
    {
     "name": "stdout",
     "output_type": "stream",
     "text": [
      "Coefficients of the variables  [[  5.18003638e-05  -2.18042378e-05   3.38203214e-02  -3.01123170e-01\n",
      "    4.89294789e-02  -5.73500110e-03  -7.38316614e-08]]\n"
     ]
    }
   ],
   "source": [
    "print(\"Coefficients of the variables \", linearRegression.coef_)"
   ]
  },
  {
   "cell_type": "markdown",
   "metadata": {},
   "source": [
    "#### Based on the coefficient for 'Income', what is the interpretation of the coefficient x?\n",
    "\n",
    "- For a one unit increase in income, predicted life expectancy increases by |x|\n",
    "- For a one unit increase in income, predicted life expectancy decreases by |x|\n",
    "- For a one unit increase in predicted life expectancy, income decreases by |x|\n",
    "- For a one unit increase in predicted life expectancy, income increases by |x|\n",
    "\n",
    "*For a one unit increase in income, predicted life expectancy decreases by |x|*"
   ]
  },
  {
   "cell_type": "markdown",
   "metadata": {},
   "source": [
    "***"
   ]
  },
  {
   "cell_type": "markdown",
   "metadata": {},
   "source": [
    "#### Now let's plot a graph of life expectancy vs. income. What appears to be the relationship?\n",
    "\n",
    "- Life expectancy is somewhat positively correlated with income.\n",
    "- Life expectancy is somewhat negatively correlated with income.\n",
    "- Life expectancy is not correlated with income.\n",
    "\n",
    "*Life expectancy is somewhat positively correlated with income.*"
   ]
  },
  {
   "cell_type": "code",
   "execution_count": 32,
   "metadata": {},
   "outputs": [
    {
     "data": {
      "image/png": "[encoded data removed]",
      "text/plain": [
       "<matplotlib.figure.Figure at 0x24bf9f50400>"
      ]
     },
     "metadata": {},
     "output_type": "display_data"
    }
   ],
   "source": [
    "plt.scatter(state['Life.Exp'], state['Income'])\n",
    "plt.xlabel('Life Expectancy')\n",
    "plt.ylabel('Income')\n",
    "plt.title('Life Expectancy vs Income')\n",
    "plt.show()"
   ]
  },
  {
   "cell_type": "markdown",
   "metadata": {},
   "source": [
    "***"
   ]
  },
  {
   "cell_type": "markdown",
   "metadata": {},
   "source": [
    "#### The model we built does not display the relationship we saw from the plot of life expectancy vs. income. Which of the following explanations seems the most reasonable?\n",
    "\n",
    "- Income is not related to life expectancy.\n",
    "- Multicollinearity\n",
    "\n",
    "\n",
    "*Multicollinearity*"
   ]
  },
  {
   "cell_type": "markdown",
   "metadata": {},
   "source": [
    "#### Although income is an insignificant variable in the model, this does not mean that there is no association between income and life expectancy. However, in the presence of all of the other variables, income does not add statistically significant explanatory power to the model. This means that multicollinearity is probably the issue."
   ]
  },
  {
   "cell_type": "markdown",
   "metadata": {},
   "source": [
    "***"
   ]
  },
  {
   "cell_type": "markdown",
   "metadata": {},
   "source": [
    "#### A model with fewer variables is preferable to a model with many unnnecessary variables. Experiment with removing independent variables from the original model. Remember to use the significance of the coefficients to decide which variables to remove (remove the one with the largest \"p-value\" first, or the one with the \"t value\" closest to zero), and to remove them one at a time (this is called \"backwards variable selection\"). This is important due to multicollinearity issues - removing one insignificant variable may make another previously insignificant variable become significant.\n",
    "\n",
    "#### You should be able to find a good model with only 4 independent variables, instead of the original 7. Which variables does this model contain?\n",
    "\n",
    "- Income, HS.Grad, Frost, Murder\n",
    "- HS.Grad, Population, Income, Frost\n",
    "- Frost, Murder, HS.Grad, Illiteracy\n",
    "- Population, Murder, Frost, HS.Grad\n",
    "\n",
    "*Population, Murder, Frost, HS.Grad*"
   ]
  },
  {
   "cell_type": "markdown",
   "metadata": {},
   "source": [
    "<font color='green'>First Model</font>"
   ]
  },
  {
   "cell_type": "code",
   "execution_count": 33,
   "metadata": {},
   "outputs": [
    {
     "data": {
      "text/plain": [
       "0.71472723200290811"
      ]
     },
     "execution_count": 33,
     "metadata": {},
     "output_type": "execute_result"
    }
   ],
   "source": [
    "X_train_model2 = state[['Income', 'HS.Grad','Frost', 'Murder']]\n",
    "y_train_model2 = state[['Life.Exp']]\n",
    "linearRegressionForModel2 = linear_model.LinearRegression()\n",
    "linearRegressionForModel2.fit(X_train_model2, y_train_model2)\n",
    "linearRegressionForModel2.score(X_train_model2, y_train_model2)"
   ]
  },
  {
   "cell_type": "markdown",
   "metadata": {},
   "source": [
    "<font color = 'green'>Second Model </font>"
   ]
  },
  {
   "cell_type": "code",
   "execution_count": 34,
   "metadata": {},
   "outputs": [
    {
     "data": {
      "text/plain": [
       "0.34267403989142919"
      ]
     },
     "execution_count": 34,
     "metadata": {},
     "output_type": "execute_result"
    }
   ],
   "source": [
    "X_train_model3 = state[['Income', 'HS.Grad','Frost', 'Population']]\n",
    "y_train_model3 = state[['Life.Exp']]\n",
    "linearRegressionForModel3 = linear_model.LinearRegression()\n",
    "linearRegressionForModel3.fit(X_train_model3, y_train_model3)\n",
    "linearRegressionForModel3.score(X_train_model3, y_train_model3)"
   ]
  },
  {
   "cell_type": "markdown",
   "metadata": {},
   "source": [
    "<font color = 'green'>Third Model</font>"
   ]
  },
  {
   "cell_type": "code",
   "execution_count": 35,
   "metadata": {},
   "outputs": [
    {
     "data": {
      "text/plain": [
       "0.71460844741149976"
      ]
     },
     "execution_count": 35,
     "metadata": {},
     "output_type": "execute_result"
    }
   ],
   "source": [
    "X_train_model4 = state[['Murder', 'HS.Grad','Frost', 'Illiteracy']]\n",
    "y_train_model4 = state[['Life.Exp']]\n",
    "linearRegressionForModel4 = linear_model.LinearRegression()\n",
    "linearRegressionForModel4.fit(X_train_model4, y_train_model4)\n",
    "linearRegressionForModel4.score(X_train_model4, y_train_model4)"
   ]
  },
  {
   "cell_type": "markdown",
   "metadata": {},
   "source": [
    "<font color = 'green'>Fourth Model</font>"
   ]
  },
  {
   "cell_type": "code",
   "execution_count": 37,
   "metadata": {},
   "outputs": [
    {
     "data": {
      "text/plain": [
       "0.73603277195721351"
      ]
     },
     "execution_count": 37,
     "metadata": {},
     "output_type": "execute_result"
    }
   ],
   "source": [
    "X_train_model5 = state[['Murder', 'HS.Grad','Frost', 'Population']]\n",
    "y_train_model5 = state[['Life.Exp']]\n",
    "linearRegressionForModel5 = linear_model.LinearRegression()\n",
    "linearRegressionForModel5.fit(X_train_model5, y_train_model5)\n",
    "linearRegressionForModel5.score(X_train_model5, y_train_model5)"
   ]
  },
  {
   "cell_type": "markdown",
   "metadata": {},
   "source": [
    "#### Another idea/method (the right method): We could eliminate the variable \"Area\" first (since it has the highest p-value, or probability, with a value of 0.9649). Looking at summary after generating it again, we would choose to eliminate \"Illiteracy\" since it now has the highest p-value of 0.9340. Looking at summary after generating the model again (without those two variables), we would next choose to eliminate \"Income\", since it has a p-value of 0.9153\n",
    "\n",
    "#### This model with 4 variables is a good model. However, we can see that the variable \"Population\" is not quite significant. In practice, it would be up to you whether or not to keep the variable \"Population\" or eliminate it for a 3-variable model. Population does not add much statistical significance in the presence of murder, high school graduation rate, and frost days.\n"
   ]
  },
  {
   "cell_type": "markdown",
   "metadata": {},
   "source": [
    "***"
   ]
  },
  {
   "cell_type": "markdown",
   "metadata": {},
   "source": [
    "#### Removing insignificant variables changes the Multiple R-squared value of the model. By looking at the summary output for both the initial model (all independent variables) and the simplified model (only 4 independent variables) and using what you learned in class, which of the following correctly explains the change in the Multiple R-squared value?\n",
    "\n",
    "- We expect the \"Multiple R-squared\" value of the simplified model to be slightly worse than that of the initial model. It can't be better than the \"Multiple R-squared\" value of the initial model.\n",
    "- We expect the \"Multiple R-squared\" value of the simplified model to be slightly better than that of the initial model. It can't be worse than the \"Multiple R-squared\" value of the initial model.\n",
    "- We expect the \"Multiple R-squared\" of the simplified model to be about the same as the intial model (we have no way of knowing if it will be slightly worse or slightly better than the Multiple R-squared of the intial model).\n",
    "\n",
    "\n",
    "*We expect the \"Multiple R-squared\" value of the simplified model to be slightly worse than that of the initial model. It can't be better than the \"Multiple R-squared\" value of the initial model.*\n",
    "\n",
    "\n",
    "#### When we remove insignificant variables, the \"Multiple R-squared\" will always be worse, but only slightly worse. This is due to the nature of a linear regression model. It is always possible for the regression model to make a coefficient zero, which would be the same as removing the variable from the model. The fact that the coefficient is not zero in the intial model means it must be helping the R-squared value, even if it is only a very small improvement. So when we force the variable to be removed, it will decrease the R-squared a little bit. However, this small decrease is worth it to have a simpler model.\n",
    "\n",
    "#### On the contrary, when we remove insignificant variables, the \"Adjusted R-squred\" will frequently be better. This value accounts for the complexity of the model, and thus tends to increase as insignificant variables are removed, and decrease as insignificant variables are added."
   ]
  },
  {
   "cell_type": "markdown",
   "metadata": {},
   "source": [
    "***"
   ]
  },
  {
   "cell_type": "markdown",
   "metadata": {},
   "source": [
    "#### Using the simplified 4 variable model that we created, we'll now take a look at how our predictions compare to the actual values.\n",
    "\n",
    "#### Take a look at the vector of predictions by using the predict function (since we are just looking at predictions on the training set, you don't need to pass a \"newdata\" argument to the predict function).\n",
    "\n",
    "#### Which state do we predict to have the lowest life expectancy?\n",
    "\n",
    "*Alabama*\n",
    "\n",
    "#### Which state actually has the lowest life expectancy?\n",
    "\n",
    "*South Carolina*"
   ]
  },
  {
   "cell_type": "code",
   "execution_count": 41,
   "metadata": {},
   "outputs": [
    {
     "data": {
      "text/plain": [
       "dtype('float64')"
      ]
     },
     "execution_count": 41,
     "metadata": {},
     "output_type": "execute_result"
    }
   ],
   "source": [
    "X_test_model5 = state[['Murder', 'HS.Grad','Frost', 'Population']]\n",
    "y_predictions = linearRegressionForModel5.predict(X_test_model5)\n",
    "y_predictions.dtype"
   ]
  },
  {
   "cell_type": "code",
   "execution_count": 44,
   "metadata": {},
   "outputs": [
    {
     "data": {
      "text/plain": [
       "68.481118660367557"
      ]
     },
     "execution_count": 44,
     "metadata": {},
     "output_type": "execute_result"
    }
   ],
   "source": [
    "np.min(y_predictions)"
   ]
  },
  {
   "cell_type": "code",
   "execution_count": 45,
   "metadata": {},
   "outputs": [
    {
     "data": {
      "text/html": [
       "<div>\n",
       "<style>\n",
       "    .dataframe thead tr:only-child th {\n",
       "        text-align: right;\n",
       "    }\n",
       "\n",
       "    .dataframe thead th {\n",
       "        text-align: left;\n",
       "    }\n",
       "\n",
       "    .dataframe tbody tr th {\n",
       "        vertical-align: top;\n",
       "    }\n",
       "</style>\n",
       "<table border=\"1\" class=\"dataframe\">\n",
       "  <thead>\n",
       "    <tr style=\"text-align: right;\">\n",
       "      <th></th>\n",
       "      <th>Population</th>\n",
       "      <th>Income</th>\n",
       "      <th>Illiteracy</th>\n",
       "      <th>Life.Exp</th>\n",
       "      <th>Murder</th>\n",
       "      <th>HS.Grad</th>\n",
       "      <th>Frost</th>\n",
       "      <th>Area</th>\n",
       "      <th>state.abb</th>\n",
       "      <th>state.area</th>\n",
       "      <th>x</th>\n",
       "      <th>y</th>\n",
       "      <th>state.division</th>\n",
       "      <th>state.name</th>\n",
       "      <th>state.region</th>\n",
       "    </tr>\n",
       "  </thead>\n",
       "  <tbody>\n",
       "    <tr>\n",
       "      <th>0</th>\n",
       "      <td>3615</td>\n",
       "      <td>3624</td>\n",
       "      <td>2.1</td>\n",
       "      <td>69.05</td>\n",
       "      <td>15.1</td>\n",
       "      <td>41.3</td>\n",
       "      <td>20</td>\n",
       "      <td>50708</td>\n",
       "      <td>AL</td>\n",
       "      <td>51609</td>\n",
       "      <td>-86.7509</td>\n",
       "      <td>32.5901</td>\n",
       "      <td>East South Central</td>\n",
       "      <td>Alabama</td>\n",
       "      <td>South</td>\n",
       "    </tr>\n",
       "    <tr>\n",
       "      <th>1</th>\n",
       "      <td>365</td>\n",
       "      <td>6315</td>\n",
       "      <td>1.5</td>\n",
       "      <td>69.31</td>\n",
       "      <td>11.3</td>\n",
       "      <td>66.7</td>\n",
       "      <td>152</td>\n",
       "      <td>566432</td>\n",
       "      <td>AK</td>\n",
       "      <td>589757</td>\n",
       "      <td>-127.2500</td>\n",
       "      <td>49.2500</td>\n",
       "      <td>Pacific</td>\n",
       "      <td>Alaska</td>\n",
       "      <td>West</td>\n",
       "    </tr>\n",
       "    <tr>\n",
       "      <th>2</th>\n",
       "      <td>2212</td>\n",
       "      <td>4530</td>\n",
       "      <td>1.8</td>\n",
       "      <td>70.55</td>\n",
       "      <td>7.8</td>\n",
       "      <td>58.1</td>\n",
       "      <td>15</td>\n",
       "      <td>113417</td>\n",
       "      <td>AZ</td>\n",
       "      <td>113909</td>\n",
       "      <td>-111.6250</td>\n",
       "      <td>34.2192</td>\n",
       "      <td>Mountain</td>\n",
       "      <td>Arizona</td>\n",
       "      <td>West</td>\n",
       "    </tr>\n",
       "    <tr>\n",
       "      <th>3</th>\n",
       "      <td>2110</td>\n",
       "      <td>3378</td>\n",
       "      <td>1.9</td>\n",
       "      <td>70.66</td>\n",
       "      <td>10.1</td>\n",
       "      <td>39.9</td>\n",
       "      <td>65</td>\n",
       "      <td>51945</td>\n",
       "      <td>AR</td>\n",
       "      <td>53104</td>\n",
       "      <td>-92.2992</td>\n",
       "      <td>34.7336</td>\n",
       "      <td>West South Central</td>\n",
       "      <td>Arkansas</td>\n",
       "      <td>South</td>\n",
       "    </tr>\n",
       "    <tr>\n",
       "      <th>4</th>\n",
       "      <td>21198</td>\n",
       "      <td>5114</td>\n",
       "      <td>1.1</td>\n",
       "      <td>71.71</td>\n",
       "      <td>10.3</td>\n",
       "      <td>62.6</td>\n",
       "      <td>20</td>\n",
       "      <td>156361</td>\n",
       "      <td>CA</td>\n",
       "      <td>158693</td>\n",
       "      <td>-119.7730</td>\n",
       "      <td>36.5341</td>\n",
       "      <td>Pacific</td>\n",
       "      <td>California</td>\n",
       "      <td>West</td>\n",
       "    </tr>\n",
       "  </tbody>\n",
       "</table>\n",
       "</div>"
      ],
      "text/plain": [
       "   Population  Income  Illiteracy  Life.Exp  Murder  HS.Grad  Frost    Area  \\\n",
       "0        3615    3624         2.1     69.05    15.1     41.3     20   50708   \n",
       "1         365    6315         1.5     69.31    11.3     66.7    152  566432   \n",
       "2        2212    4530         1.8     70.55     7.8     58.1     15  113417   \n",
       "3        2110    3378         1.9     70.66    10.1     39.9     65   51945   \n",
       "4       21198    5114         1.1     71.71    10.3     62.6     20  156361   \n",
       "\n",
       "  state.abb  state.area         x        y      state.division  state.name  \\\n",
       "0        AL       51609  -86.7509  32.5901  East South Central     Alabama   \n",
       "1        AK      589757 -127.2500  49.2500             Pacific      Alaska   \n",
       "2        AZ      113909 -111.6250  34.2192            Mountain     Arizona   \n",
       "3        AR       53104  -92.2992  34.7336  West South Central    Arkansas   \n",
       "4        CA      158693 -119.7730  36.5341             Pacific  California   \n",
       "\n",
       "  state.region  \n",
       "0        South  \n",
       "1         West  \n",
       "2         West  \n",
       "3        South  \n",
       "4         West  "
      ]
     },
     "execution_count": 45,
     "metadata": {},
     "output_type": "execute_result"
    }
   ],
   "source": [
    "state.head()"
   ]
  },
  {
   "cell_type": "code",
   "execution_count": 47,
   "metadata": {
    "scrolled": false
   },
   "outputs": [
    {
     "data": {
      "text/plain": [
       "array([[ 68.48111866],\n",
       "       [ 69.85740399],\n",
       "       [ 71.41415671],\n",
       "       [ 69.57373881],\n",
       "       [ 71.79564599],\n",
       "       [ 71.10354184],\n",
       "       [ 72.03458972],\n",
       "       [ 71.12646884],\n",
       "       [ 70.61539495],\n",
       "       [ 68.63694227],\n",
       "       [ 72.09316854],\n",
       "       [ 71.49989286],\n",
       "       [ 70.1924416 ],\n",
       "       [ 70.90158526],\n",
       "       [ 72.39652876],\n",
       "       [ 71.90351963],\n",
       "       [ 69.24417933],\n",
       "       [ 69.15044846],\n",
       "       [ 71.86095411],\n",
       "       [ 70.51851996],\n",
       "       [ 72.44105391],\n",
       "       [ 69.8689336 ],\n",
       "       [ 72.2655962 ],\n",
       "       [ 69.00535384],\n",
       "       [ 70.10610031],\n",
       "       [ 71.40024805],\n",
       "       [ 72.17032309],\n",
       "       [ 69.52482393],\n",
       "       [ 71.72635615],\n",
       "       [ 71.59612086],\n",
       "       [ 70.03119055],\n",
       "       [ 70.62937149],\n",
       "       [ 69.28624179],\n",
       "       [ 71.8764945 ],\n",
       "       [ 71.08548767],\n",
       "       [ 71.15860042],\n",
       "       [ 72.41445333],\n",
       "       [ 71.38045527],\n",
       "       [ 71.76007018],\n",
       "       [ 69.06109172],\n",
       "       [ 72.01160881],\n",
       "       [ 69.46583349],\n",
       "       [ 69.97885943],\n",
       "       [ 72.05753183],\n",
       "       [ 71.06134981],\n",
       "       [ 70.14691392],\n",
       "       [ 72.68272426],\n",
       "       [ 70.44982588],\n",
       "       [ 72.00995676],\n",
       "       [ 70.87678863]])"
      ]
     },
     "execution_count": 47,
     "metadata": {},
     "output_type": "execute_result"
    }
   ],
   "source": [
    "y_predictions"
   ]
  },
  {
   "cell_type": "code",
   "execution_count": 48,
   "metadata": {},
   "outputs": [
    {
     "data": {
      "text/plain": [
       "Population                  2816\n",
       "Income                      3635\n",
       "Illiteracy                   2.3\n",
       "Life.Exp                   67.96\n",
       "Murder                      11.6\n",
       "HS.Grad                     37.8\n",
       "Frost                         65\n",
       "Area                       30225\n",
       "state.abb                     SC\n",
       "state.area                 31055\n",
       "x                       -80.5056\n",
       "y                         33.619\n",
       "state.division    South Atlantic\n",
       "state.name        South Carolina\n",
       "state.region               South\n",
       "Name: 39, dtype: object"
      ]
     },
     "execution_count": 48,
     "metadata": {},
     "output_type": "execute_result"
    }
   ],
   "source": [
    "state.iloc[state['Life.Exp'].idxmin()]"
   ]
  },
  {
   "cell_type": "markdown",
   "metadata": {},
   "source": [
    "***"
   ]
  },
  {
   "cell_type": "markdown",
   "metadata": {},
   "source": [
    "#### Which state do we predict to have the highest life expectancy?\n",
    "\n",
    "*Washington*\n",
    "\n",
    "#### Which state actually has the highest life expectancy?\n",
    "\n",
    "*Hawaii*"
   ]
  },
  {
   "cell_type": "code",
   "execution_count": 52,
   "metadata": {},
   "outputs": [
    {
     "data": {
      "text/plain": [
       "72.682724264441859"
      ]
     },
     "execution_count": 52,
     "metadata": {},
     "output_type": "execute_result"
    }
   ],
   "source": [
    "y_predictions.max()"
   ]
  },
  {
   "cell_type": "markdown",
   "metadata": {},
   "source": [
    "**Based on the y_predictions above, this seems to correspond to the row number with the value 46**"
   ]
  },
  {
   "cell_type": "code",
   "execution_count": 53,
   "metadata": {},
   "outputs": [
    {
     "data": {
      "text/html": [
       "<div>\n",
       "<style>\n",
       "    .dataframe thead tr:only-child th {\n",
       "        text-align: right;\n",
       "    }\n",
       "\n",
       "    .dataframe thead th {\n",
       "        text-align: left;\n",
       "    }\n",
       "\n",
       "    .dataframe tbody tr th {\n",
       "        vertical-align: top;\n",
       "    }\n",
       "</style>\n",
       "<table border=\"1\" class=\"dataframe\">\n",
       "  <thead>\n",
       "    <tr style=\"text-align: right;\">\n",
       "      <th></th>\n",
       "      <th>Population</th>\n",
       "      <th>Income</th>\n",
       "      <th>Illiteracy</th>\n",
       "      <th>Life.Exp</th>\n",
       "      <th>Murder</th>\n",
       "      <th>HS.Grad</th>\n",
       "      <th>Frost</th>\n",
       "      <th>Area</th>\n",
       "      <th>state.abb</th>\n",
       "      <th>state.area</th>\n",
       "      <th>x</th>\n",
       "      <th>y</th>\n",
       "      <th>state.division</th>\n",
       "      <th>state.name</th>\n",
       "      <th>state.region</th>\n",
       "    </tr>\n",
       "  </thead>\n",
       "  <tbody>\n",
       "    <tr>\n",
       "      <th>45</th>\n",
       "      <td>4981</td>\n",
       "      <td>4701</td>\n",
       "      <td>1.4</td>\n",
       "      <td>70.08</td>\n",
       "      <td>9.5</td>\n",
       "      <td>47.8</td>\n",
       "      <td>85</td>\n",
       "      <td>39780</td>\n",
       "      <td>VA</td>\n",
       "      <td>40815</td>\n",
       "      <td>-78.2005</td>\n",
       "      <td>37.5630</td>\n",
       "      <td>South Atlantic</td>\n",
       "      <td>Virginia</td>\n",
       "      <td>South</td>\n",
       "    </tr>\n",
       "    <tr>\n",
       "      <th>46</th>\n",
       "      <td>3559</td>\n",
       "      <td>4864</td>\n",
       "      <td>0.6</td>\n",
       "      <td>71.72</td>\n",
       "      <td>4.3</td>\n",
       "      <td>63.5</td>\n",
       "      <td>32</td>\n",
       "      <td>66570</td>\n",
       "      <td>WA</td>\n",
       "      <td>68192</td>\n",
       "      <td>-119.7460</td>\n",
       "      <td>47.4231</td>\n",
       "      <td>Pacific</td>\n",
       "      <td>Washington</td>\n",
       "      <td>West</td>\n",
       "    </tr>\n",
       "    <tr>\n",
       "      <th>47</th>\n",
       "      <td>1799</td>\n",
       "      <td>3617</td>\n",
       "      <td>1.4</td>\n",
       "      <td>69.48</td>\n",
       "      <td>6.7</td>\n",
       "      <td>41.6</td>\n",
       "      <td>100</td>\n",
       "      <td>24070</td>\n",
       "      <td>WV</td>\n",
       "      <td>24181</td>\n",
       "      <td>-80.6665</td>\n",
       "      <td>38.4204</td>\n",
       "      <td>South Atlantic</td>\n",
       "      <td>West Virginia</td>\n",
       "      <td>South</td>\n",
       "    </tr>\n",
       "    <tr>\n",
       "      <th>48</th>\n",
       "      <td>4589</td>\n",
       "      <td>4468</td>\n",
       "      <td>0.7</td>\n",
       "      <td>72.48</td>\n",
       "      <td>3.0</td>\n",
       "      <td>54.5</td>\n",
       "      <td>149</td>\n",
       "      <td>54464</td>\n",
       "      <td>WI</td>\n",
       "      <td>56154</td>\n",
       "      <td>-89.9941</td>\n",
       "      <td>44.5937</td>\n",
       "      <td>East North Central</td>\n",
       "      <td>Wisconsin</td>\n",
       "      <td>North Central</td>\n",
       "    </tr>\n",
       "    <tr>\n",
       "      <th>49</th>\n",
       "      <td>376</td>\n",
       "      <td>4566</td>\n",
       "      <td>0.6</td>\n",
       "      <td>70.29</td>\n",
       "      <td>6.9</td>\n",
       "      <td>62.9</td>\n",
       "      <td>173</td>\n",
       "      <td>97203</td>\n",
       "      <td>WY</td>\n",
       "      <td>97914</td>\n",
       "      <td>-107.2560</td>\n",
       "      <td>43.0504</td>\n",
       "      <td>Mountain</td>\n",
       "      <td>Wyoming</td>\n",
       "      <td>West</td>\n",
       "    </tr>\n",
       "  </tbody>\n",
       "</table>\n",
       "</div>"
      ],
      "text/plain": [
       "    Population  Income  Illiteracy  Life.Exp  Murder  HS.Grad  Frost   Area  \\\n",
       "45        4981    4701         1.4     70.08     9.5     47.8     85  39780   \n",
       "46        3559    4864         0.6     71.72     4.3     63.5     32  66570   \n",
       "47        1799    3617         1.4     69.48     6.7     41.6    100  24070   \n",
       "48        4589    4468         0.7     72.48     3.0     54.5    149  54464   \n",
       "49         376    4566         0.6     70.29     6.9     62.9    173  97203   \n",
       "\n",
       "   state.abb  state.area         x        y      state.division  \\\n",
       "45        VA       40815  -78.2005  37.5630      South Atlantic   \n",
       "46        WA       68192 -119.7460  47.4231             Pacific   \n",
       "47        WV       24181  -80.6665  38.4204      South Atlantic   \n",
       "48        WI       56154  -89.9941  44.5937  East North Central   \n",
       "49        WY       97914 -107.2560  43.0504            Mountain   \n",
       "\n",
       "       state.name   state.region  \n",
       "45       Virginia          South  \n",
       "46     Washington           West  \n",
       "47  West Virginia          South  \n",
       "48      Wisconsin  North Central  \n",
       "49        Wyoming           West  "
      ]
     },
     "execution_count": 53,
     "metadata": {},
     "output_type": "execute_result"
    }
   ],
   "source": [
    "state.tail()"
   ]
  },
  {
   "cell_type": "code",
   "execution_count": 54,
   "metadata": {},
   "outputs": [
    {
     "data": {
      "text/plain": [
       "Population            868\n",
       "Income               4963\n",
       "Illiteracy            1.9\n",
       "Life.Exp             73.6\n",
       "Murder                6.2\n",
       "HS.Grad              61.9\n",
       "Frost                   0\n",
       "Area                 6425\n",
       "state.abb              HI\n",
       "state.area           6450\n",
       "x                 -126.25\n",
       "y                   31.75\n",
       "state.division    Pacific\n",
       "state.name         Hawaii\n",
       "state.region         West\n",
       "Name: 10, dtype: object"
      ]
     },
     "execution_count": 54,
     "metadata": {},
     "output_type": "execute_result"
    }
   ],
   "source": [
    "state.iloc[state['Life.Exp'].idxmax()]"
   ]
  },
  {
   "cell_type": "markdown",
   "metadata": {},
   "source": [
    "***"
   ]
  },
  {
   "cell_type": "markdown",
   "metadata": {},
   "source": [
    "#### Take a look at the vector of residuals (the difference between the predicted and actual values).\n",
    "\n",
    "#### For which state do we make the smallest absolute error?\n",
    "\n",
    "*Indiana*\n",
    "\n",
    "#### For which state do we make the largest absolute error?\n",
    "\n",
    "*Hawaii*"
   ]
  },
  {
   "cell_type": "code",
   "execution_count": 55,
   "metadata": {},
   "outputs": [
    {
     "data": {
      "text/plain": [
       "Population          int64\n",
       "Income              int64\n",
       "Illiteracy        float64\n",
       "Life.Exp          float64\n",
       "Murder            float64\n",
       "HS.Grad           float64\n",
       "Frost               int64\n",
       "Area                int64\n",
       "state.abb          object\n",
       "state.area          int64\n",
       "x                 float64\n",
       "y                 float64\n",
       "state.division     object\n",
       "state.name         object\n",
       "state.region       object\n",
       "dtype: object"
      ]
     },
     "execution_count": 55,
     "metadata": {},
     "output_type": "execute_result"
    }
   ],
   "source": [
    "state.dtypes"
   ]
  },
  {
   "cell_type": "code",
   "execution_count": 57,
   "metadata": {},
   "outputs": [],
   "source": [
    "residuals = np.absolute(state[['Life.Exp']] - y_predictions)"
   ]
  },
  {
   "cell_type": "code",
   "execution_count": 59,
   "metadata": {},
   "outputs": [
    {
     "data": {
      "text/plain": [
       "Life.Exp    13\n",
       "dtype: int64"
      ]
     },
     "execution_count": 59,
     "metadata": {},
     "output_type": "execute_result"
    }
   ],
   "source": [
    "residuals.idxmin()"
   ]
  },
  {
   "cell_type": "code",
   "execution_count": 60,
   "metadata": {},
   "outputs": [
    {
     "data": {
      "text/plain": [
       "Population                      5313\n",
       "Income                          4458\n",
       "Illiteracy                       0.7\n",
       "Life.Exp                       70.88\n",
       "Murder                           7.1\n",
       "HS.Grad                         52.9\n",
       "Frost                            122\n",
       "Area                           36097\n",
       "state.abb                         IN\n",
       "state.area                     36291\n",
       "x                           -86.0808\n",
       "y                            40.0495\n",
       "state.division    East North Central\n",
       "state.name                   Indiana\n",
       "state.region           North Central\n",
       "Name: 13, dtype: object"
      ]
     },
     "execution_count": 60,
     "metadata": {},
     "output_type": "execute_result"
    }
   ],
   "source": [
    "state.iloc[13]"
   ]
  },
  {
   "cell_type": "code",
   "execution_count": 61,
   "metadata": {},
   "outputs": [
    {
     "data": {
      "text/plain": [
       "Life.Exp    10\n",
       "dtype: int64"
      ]
     },
     "execution_count": 61,
     "metadata": {},
     "output_type": "execute_result"
    }
   ],
   "source": [
    "residuals.idxmax()"
   ]
  },
  {
   "cell_type": "code",
   "execution_count": 62,
   "metadata": {},
   "outputs": [
    {
     "data": {
      "text/plain": [
       "Population            868\n",
       "Income               4963\n",
       "Illiteracy            1.9\n",
       "Life.Exp             73.6\n",
       "Murder                6.2\n",
       "HS.Grad              61.9\n",
       "Frost                   0\n",
       "Area                 6425\n",
       "state.abb              HI\n",
       "state.area           6450\n",
       "x                 -126.25\n",
       "y                   31.75\n",
       "state.division    Pacific\n",
       "state.name         Hawaii\n",
       "state.region         West\n",
       "Name: 10, dtype: object"
      ]
     },
     "execution_count": 62,
     "metadata": {},
     "output_type": "execute_result"
    }
   ],
   "source": [
    "state.iloc[10]"
   ]
  }
 ],
 "metadata": {
  "kernelspec": {
   "display_name": "Python 3",
   "language": "python",
   "name": "python3"
  },
  "language_info": {
   "codemirror_mode": {
    "name": "ipython",
    "version": 3
   },
   "file_extension": ".py",
   "mimetype": "text/x-python",
   "name": "python",
   "nbconvert_exporter": "python",
   "pygments_lexer": "ipython3",
   "version": "3.6.1"
  }
 },
 "nbformat": 4,
 "nbformat_minor": 2
}
